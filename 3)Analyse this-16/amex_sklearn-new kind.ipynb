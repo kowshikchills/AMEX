{
 "cells": [
  {
   "cell_type": "code",
   "execution_count": 473,
   "metadata": {
    "collapsed": true
   },
   "outputs": [],
   "source": [
    "import pandas\n",
    "data_training = pandas.read_csv('Train1.csv') \n",
    "data_testing = pandas.read_csv('valid1.csv') \n",
    "data_final = pandas.read_csv('final1.csv') "
   ]
  },
  {
   "cell_type": "code",
   "execution_count": 474,
   "metadata": {
    "collapsed": true
   },
   "outputs": [],
   "source": [
    "group = data_training[['mvar33','actual_vote']].groupby('mvar33').agg(lambda x: ','.join(x)).apply(list)\n",
    "from pandas import DataFrame\n",
    "from collections import Counter\n",
    "dicl = DataFrame.to_dict(group)\n",
    "zips = {}\n",
    "for i in dicl['actual_vote'].keys():\n",
    "    l = dicl['actual_vote'][i].split(',')\n",
    "    if len(Counter(l)) == 1:\n",
    "        zips[i] = [Counter(l).most_common(1)[0][0],Counter(l).most_common(1)[0][1],'Noone',0]\n",
    "    else:\n",
    "        zips[i] = [Counter(l).most_common(1)[0][0],Counter(l).most_common(1)[0][1],Counter(l).most_common(2)[1][0],Counter(l).most_common(2)[1][1]]        "
   ]
  },
  {
   "cell_type": "code",
   "execution_count": 462,
   "metadata": {
    "collapsed": false
   },
   "outputs": [],
   "source": [
    "df1 = pandas.read_csv('Train1.csv') \n",
    "df2 = pandas.read_csv('valid1.csv')\n",
    "df3 = pandas.read_csv('final1.csv')\n",
    "frames = [df1, df2, df3]\n",
    "df4 = pandas.concat(frames)"
   ]
  },
  {
   "cell_type": "code",
   "execution_count": 463,
   "metadata": {
    "collapsed": false
   },
   "outputs": [],
   "source": [
    "x = set(df4['mvar33'].values)\n",
    "y = x - set(df1['mvar33'].values) \n",
    "group = df4[['mvar33','party_voted_past']].groupby('mvar33').agg(lambda x: ','.join(x)).apply(list)\n",
    "from pandas import DataFrame\n",
    "from collections import Counter\n",
    "dicl = DataFrame.to_dict(group)\n",
    "for i in list(y):\n",
    "    l = dicl['party_voted_past'][i].split(',')\n",
    "    if len(Counter(l)) == 1:\n",
    "        zips[i] = [Counter(l).most_common(1)[0][0],Counter(l).most_common(1)[0][1],'Noone',0]\n",
    "    else:\n",
    "        zips[i] = [Counter(l).most_common(1)[0][0],Counter(l).most_common(1)[0][1],Counter(l).most_common(2)[1][0],Counter(l).most_common(2)[1][1]]        "
   ]
  },
  {
   "cell_type": "code",
   "execution_count": 464,
   "metadata": {
    "collapsed": false
   },
   "outputs": [],
   "source": [
    "A = 0.30706475\n",
    "B = 0.2\n",
    "C = 0.1\n",
    "D = 0.2\n",
    "E = 0.17\n",
    "\n",
    "for data_training in [df1,df2,df3]:\n",
    "        data_training['Ebony'] = A*data_training['mvar2'] + B*data_training['mvar7'] + C*data_training['mvar12']  + D*data_training['mvar17'] + E*data_training['mvar22']\n",
    "        data_training['Odyssey'] = A*data_training['mvar4'] + B*data_training['mvar9'] + C*data_training['mvar14']  + D*data_training['mvar19'] +E*data_training['mvar24']\n",
    "        data_training['Tokugawa'] = A*data_training['mvar3'] + B*data_training['mvar8'] + C*data_training['mvar13']  + D*data_training['mvar18'] +E*data_training['mvar23']\n",
    "        data_training['Cosmos'] = A*data_training['mvar5'] + B*data_training['mvar10'] + C*data_training['mvar15']  + D*data_training['mvar20'] +E*data_training['mvar25']\n",
    "        data_training['Centaur'] = A*data_training['mvar1'] + B*data_training['mvar6'] + C*data_training['mvar11']  + D*data_training['mvar16'] +E*data_training['mvar21']\n",
    "        Cit_pref1 = []\n",
    "        lev_pref1 = []\n",
    "        lev_pref2 = []\n",
    "        Cit_pref2 = []\n",
    "        city_change = []\n",
    "        ACTIVITY = []\n",
    "        prefs = ['Centaur','Ebony','Tokugawa','Odyssey','Cosmos']\n",
    "        for i in range(len(data_training)):\n",
    "            level = [data_training['Centaur'].values[i],data_training['Ebony'].values[i],data_training['Tokugawa'].values[i],data_training['Odyssey'].values[i],data_training['Cosmos'].values[i]]\n",
    "            lev_pref1.append(sorted(level)[-1])\n",
    "            Cit_pref1.append(prefs[level.index(sorted(level)[-1])])\n",
    "            lev_pref2.append(sorted(level)[-2])\n",
    "            if sorted(level)[-2] == 0.0:\n",
    "                Cit_pref2.append('NONE')\n",
    "            else:\n",
    "                Cit_pref2.append(prefs[level.index(sorted(level)[-2])])\n",
    "            if data_training['mvar32'].values[i] == data_training['mvar33'].values[i]:\n",
    "                city_change.append(0)\n",
    "            else:\n",
    "                city_change.append(1)\n",
    "                \n",
    "        data_training['Cit_pref1'] = Cit_pref1\n",
    "        data_training['lev_pref1'] = lev_pref1\n",
    "        data_training['lev_pref2'] = lev_pref2\n",
    "        data_training['Cit_pref2'] = Cit_pref2\n",
    "        data_training['city_change'] = city_change\n",
    "        ZIP_pref1 = []\n",
    "        ZIP_pref2 = []\n",
    "        ZIP_lev_pref1 = []\n",
    "        ZIP_lev_pref2 = []\n",
    "        for i in data_training['mvar33'].values:  \n",
    "            ZIP_pref1.append(zips[i][0])\n",
    "            ZIP_pref2.append(zips[i][2])\n",
    "            ZIP_lev_pref1.append(zips[i][1])\n",
    "            ZIP_lev_pref2.append(zips[i][3])\n",
    "        data_training['ZIP_pref1'] =    ZIP_pref1\n",
    "        data_training['ZIP_pref2'] =    ZIP_pref2\n",
    "        data_training['ZIP_lev_pref1'] =    ZIP_lev_pref1\n",
    "        data_training['ZIP_lev_pref2'] =    ZIP_lev_pref2\n",
    "History_vote = []\n",
    "Citizen_First_vote = []\n",
    "for i in range(len(df1)):\n",
    "    if df1['party_voted_past'].values[i] == df1['actual_vote'].values[i]:\n",
    "        History_vote.append(1)\n",
    "    else:\n",
    "        History_vote.append(0)\n",
    "for i in range(len(df1)):\n",
    "    if df1['Cit_pref1'].values[i] == df1['actual_vote'].values[i]:\n",
    "        Citizen_First_vote.append(1)\n",
    "    else:\n",
    "        Citizen_First_vote.append(0)\n",
    "df1['History_vote'] = History_vote\n",
    "df1['Citizen_First_vote'] = Citizen_First_vote"
   ]
  },
  {
   "cell_type": "code",
   "execution_count": 465,
   "metadata": {
    "collapsed": false
   },
   "outputs": [],
   "source": [
    "new_features_test= ['citizen_id','Ebony','Odyssey','Tokugawa','Cosmos','Centaur','Cit_pref2','city_change','ZIP_pref1','ZIP_pref2','mvar34','mvar35','mvar29','lev_pref1','lev_pref2','ZIP_lev_pref1','ZIP_lev_pref2','mvar27','mvar28','mvar31']\n",
    "Feature = df1.columns[2:27]\n",
    "new_features_train= ['citizen_id','Ebony','Odyssey','Tokugawa','Cosmos','Centaur','History_vote','Citizen_First_vote','Cit_pref2','city_change','ZIP_pref1','ZIP_pref2','actual_vote','mvar34','mvar35','mvar29','lev_pref1','lev_pref2','ZIP_lev_pref1','ZIP_lev_pref2','mvar27','mvar28','mvar31']"
   ]
  },
  {
   "cell_type": "code",
   "execution_count": 427,
   "metadata": {
    "collapsed": false
   },
   "outputs": [],
   "source": [
    "new_features_test = new_features_test +  list(Feature)\n",
    "new_features_train = new_features_train + list(Feature)\n",
    "for i in Feature:\n",
    "    df1[i] = df1[i].astype(str)\n",
    "    df2[i] = df2[i].astype(str)\n",
    "df_train = df1[new_features_train][:]\n",
    "df_test = df2[new_features_test][:]    "
   ]
  },
  {
   "cell_type": "code",
   "execution_count": 428,
   "metadata": {
    "collapsed": false
   },
   "outputs": [],
   "source": [
    "df_train['mvar27'] = df_train['mvar27'].apply(str)\n",
    "df_test['mvar27'] = df_test['mvar27'].apply(str)"
   ]
  },
  {
   "cell_type": "code",
   "execution_count": 429,
   "metadata": {
    "collapsed": false
   },
   "outputs": [],
   "source": [
    "Y = df_train['actual_vote']\n",
    "del df_train['History_vote']\n",
    "del df_train['Citizen_First_vote']\n",
    "del df_train['actual_vote']\n",
    "del df_train['citizen_id']\n",
    "del df_test['citizen_id']"
   ]
  },
  {
   "cell_type": "code",
   "execution_count": 430,
   "metadata": {
    "collapsed": true
   },
   "outputs": [],
   "source": [
    "from sklearn.preprocessing import MinMaxScaler\n",
    "MinMax = MinMaxScaler()\n",
    "import warnings\n",
    "warnings.filterwarnings('ignore')\n",
    "df_train['lev_pref1'] = MinMax.fit_transform(df_train['lev_pref1'].values)\n",
    "df_train['lev_pref2'] = MinMax.fit_transform(df_train['lev_pref2'].values)\n",
    "df_train['ZIP_lev_pref1'] = MinMax.fit_transform(df_train['ZIP_lev_pref1'].values)\n",
    "df_train['ZIP_lev_pref2'] = MinMax.fit_transform(df_train['ZIP_lev_pref2'].values)\n",
    "df_test['lev_pref1'] = MinMax.fit_transform(df_test['lev_pref1'].values)\n",
    "df_test['lev_pref2'] = MinMax.fit_transform(df_test['lev_pref2'].values)\n",
    "df_test['ZIP_lev_pref1'] = MinMax.fit_transform(df_test['ZIP_lev_pref1'].values)\n",
    "df_test['ZIP_lev_pref2'] = MinMax.fit_transform(df_test['ZIP_lev_pref2'].values)\n",
    "df_test['ZIP_lev_pref1'] = MinMax.fit_transform(df_test['ZIP_lev_pref1'].values)\n",
    "df_test['ZIP_lev_pref2'] = MinMax.fit_transform(df_test['ZIP_lev_pref2'].values)\n",
    "df_test['mvar35'] = MinMax.fit_transform(df_test['mvar35'].values)\n",
    "df_test['mvar34'] = MinMax.fit_transform(df_test['mvar34'].values)\n",
    "df_train['mvar35'] = MinMax.fit_transform(df_train['mvar35'].values)\n",
    "df_train['mvar34'] = MinMax.fit_transform(df_train['mvar34'].values)\n",
    "\n",
    "df_train['mvar28'] = MinMax.fit_transform(df_train['mvar28'].values)\n",
    "df_train['mvar31'] = MinMax.fit_transform(df_train['mvar31'].values)\n",
    "df_train['mvar29'] = MinMax.fit_transform(df_train['mvar29'].values)\n",
    "\n",
    "df_test['mvar28'] = MinMax.fit_transform(df_test['mvar28'].values)\n",
    "df_test['mvar31'] = MinMax.fit_transform(df_test['mvar31'].values)\n",
    "df_test['mvar29'] = MinMax.fit_transform(df_test['mvar29'].values)"
   ]
  },
  {
   "cell_type": "code",
   "execution_count": 431,
   "metadata": {
    "collapsed": true
   },
   "outputs": [],
   "source": [
    "#ENCODING\n",
    "X_train = df_train.to_dict('records')\n",
    "X_test = df_test.to_dict('records')\n",
    "X_tr = []\n",
    "X_te = []\n",
    "X_tr.extend(X_train)\n",
    "X_te.extend(X_test)\n",
    "X_total = X_tr + X_te"
   ]
  },
  {
   "cell_type": "code",
   "execution_count": 432,
   "metadata": {
    "collapsed": true
   },
   "outputs": [],
   "source": [
    "#One Hot Encoding \n",
    "from sklearn.feature_extraction import DictVectorizer \n",
    "enc = DictVectorizer(sparse = True)\n",
    "X_encoded_total =enc.fit_transform(X_total)\n",
    "X_encoded_train =X_encoded_total[:len(X_tr)]\n",
    "X_encoded_test =X_encoded_total[len(X_tr):]"
   ]
  },
  {
   "cell_type": "code",
   "execution_count": 433,
   "metadata": {
    "collapsed": false
   },
   "outputs": [],
   "source": [
    "from sklearn.ensemble import RandomForestClassifier,GradientBoostingClassifier,ExtraTreesClassifier,BaggingClassifier,voting_classifier\n",
    "from sklearn.ensemble import AdaBoostClassifier"
   ]
  },
  {
   "cell_type": "code",
   "execution_count": 454,
   "metadata": {
    "collapsed": false
   },
   "outputs": [
    {
     "data": {
      "text/plain": [
       "GradientBoostingClassifier(init=None, learning_rate=0.01, loss='deviance',\n",
       "              max_depth=3, max_features=None, max_leaf_nodes=None,\n",
       "              min_samples_leaf=1, min_samples_split=2,\n",
       "              min_weight_fraction_leaf=0.0, n_estimators=500,\n",
       "              presort='auto', random_state=None, subsample=1.0, verbose=0,\n",
       "              warm_start=False)"
      ]
     },
     "execution_count": 454,
     "metadata": {},
     "output_type": "execute_result"
    }
   ],
   "source": [
    "from sklearn.linear_model import LogisticRegression\n",
    "clf11 = GradientBoostingClassifier(n_estimators=500,learning_rate=0.01)\n",
    "clf10 = LogisticRegression(n_jobs=-1)\n",
    "clf11.fit(X_encoded_train,Y)\n",
    "#clf11.fit(X_encoded_train,Y)\n",
    "#clf11.fit(X_encoded_train,Y_H)\n",
    "#clf12.fit(X_encoded_train,Y_C)"
   ]
  },
  {
   "cell_type": "code",
   "execution_count": 457,
   "metadata": {
    "collapsed": false
   },
   "outputs": [],
   "source": [
    "#sol = clf11.predict(X_encoded_test.toarray())\n",
    "sol_pred = clf11.predict_proba(X_encoded_test.toarray())\n",
    "df2['predicted'] = sol"
   ]
  },
  {
   "cell_type": "code",
   "execution_count": 458,
   "metadata": {
    "collapsed": false
   },
   "outputs": [],
   "source": [
    "from pandas import DataFrame\n",
    "df = DataFrame({'t1': sol})"
   ]
  },
  {
   "cell_type": "code",
   "execution_count": 459,
   "metadata": {
    "collapsed": false
   },
   "outputs": [],
   "source": [
    "df.to_csv('Ss79.csv')"
   ]
  },
  {
   "cell_type": "code",
   "execution_count": null,
   "metadata": {
    "collapsed": true
   },
   "outputs": [],
   "source": []
  },
  {
   "cell_type": "code",
   "execution_count": null,
   "metadata": {
    "collapsed": true
   },
   "outputs": [],
   "source": []
  },
  {
   "cell_type": "code",
   "execution_count": null,
   "metadata": {
    "collapsed": true
   },
   "outputs": [],
   "source": []
  },
  {
   "cell_type": "code",
   "execution_count": null,
   "metadata": {
    "collapsed": true
   },
   "outputs": [],
   "source": []
  },
  {
   "cell_type": "code",
   "execution_count": null,
   "metadata": {
    "collapsed": true
   },
   "outputs": [],
   "source": []
  },
  {
   "cell_type": "code",
   "execution_count": null,
   "metadata": {
    "collapsed": true
   },
   "outputs": [],
   "source": []
  },
  {
   "cell_type": "code",
   "execution_count": null,
   "metadata": {
    "collapsed": true
   },
   "outputs": [],
   "source": []
  },
  {
   "cell_type": "code",
   "execution_count": null,
   "metadata": {
    "collapsed": true
   },
   "outputs": [],
   "source": []
  },
  {
   "cell_type": "code",
   "execution_count": null,
   "metadata": {
    "collapsed": true
   },
   "outputs": [],
   "source": []
  },
  {
   "cell_type": "code",
   "execution_count": null,
   "metadata": {
    "collapsed": true
   },
   "outputs": [],
   "source": []
  },
  {
   "cell_type": "code",
   "execution_count": 254,
   "metadata": {
    "collapsed": false
   },
   "outputs": [],
   "source": [
    "Voted_first_priorty = []\n",
    "History_vote = []\n",
    "for i in range(len(df1)):\n",
    "    if df1['Cit_pref1'].values[i] == df1['actual_vote'].values[i]:\n",
    "        History_vote.append(1)\n",
    "    else:\n",
    "        History_vote.append(0)\n",
    "Y_net= History_vote\n",
    "L1 = []\n",
    "L2 = []\n",
    "L = []\n",
    "LLL = []\n",
    "M1 = []\n",
    "M2 = []\n",
    "M = []\n",
    "for i in range(len(df1)):\n",
    "    act = {}\n",
    "    act['Ebony'] = [df1['mvar2'].values[i],df1['mvar7'].values[i],df1['mvar12'].values[i], df1['mvar17'].values[i],df1['mvar22'].values[i]]\n",
    "    act['Odyssey'] = [df1['mvar4'].values[i],df1['mvar9'].values[i],df1['mvar14'].values[i], df1['mvar19'].values[i],df1['mvar24'].values[i]]\n",
    "    act['Tokugawa'] = [df1['mvar3'].values[i],df1['mvar8'].values[i],df1['mvar13'].values[i], df1['mvar18'].values[i],df1['mvar23'].values[i]]\n",
    "    act['Cosmos'] = [df1['mvar5'].values[i],df1['mvar10'].values[i],df1['mvar15'].values[i], df1['mvar20'].values[i],df1['mvar25'].values[i]]\n",
    "    act['Centaur'] = [df1['mvar1'].values[i],df1['mvar6'].values[i],df1['mvar11'].values[i], df1['mvar16'].values[i],df1['mvar21'].values[i]]\n",
    "    act['NONE'] = [0,0,0,0,0]\n",
    "    L1.append(act[df1['Cit_pref1'].values[i]])\n",
    "    L2.append(act[df1['Cit_pref2'].values[i]])\n",
    "    L.append(act[df1['Cit_pref1'].values[i]]+act[df1['Cit_pref2'].values[i]])\n",
    "for i in range(len(df2)):\n",
    "    act = {}\n",
    "    act['Ebony'] = [df2['mvar2'].values[i],df2['mvar7'].values[i],df2['mvar12'].values[i], df2['mvar17'].values[i],df2['mvar22'].values[i]]\n",
    "    act['Odyssey'] = [df2['mvar4'].values[i],df2['mvar9'].values[i],df2['mvar14'].values[i], df2['mvar19'].values[i],df2['mvar24'].values[i]]\n",
    "    act['Tokugawa'] = [df2['mvar3'].values[i],df2['mvar8'].values[i],df2['mvar13'].values[i], df2['mvar18'].values[i],df2['mvar23'].values[i]]\n",
    "    act['Cosmos'] = [df2['mvar5'].values[i],df2['mvar10'].values[i],df2['mvar15'].values[i], df2['mvar20'].values[i],df2['mvar25'].values[i]]\n",
    "    act['Centaur'] = [df2['mvar1'].values[i],df2['mvar6'].values[i],df2['mvar11'].values[i], df2['mvar16'].values[i],df2['mvar21'].values[i]]\n",
    "    act['NONE'] = [0,0,0,0,0]\n",
    "    M1.append(act[df2['Cit_pref1'].values[i]])\n",
    "    M2.append(act[df2['Cit_pref2'].values[i]])\n",
    "    M.append(act[df1['Cit_pref1'].values[i]]+act[df1['Cit_pref2'].values[i]])\n"
   ]
  },
  {
   "cell_type": "code",
   "execution_count": 255,
   "metadata": {
    "collapsed": false
   },
   "outputs": [],
   "source": [
    "X_train = L\n",
    "clf = GradientBoostingClassifier()\n",
    "clf.fit(X_train,Y_net)\n",
    "y_pred = clf.predict(M)\n",
    "y_pred_proba = clf.predict_proba(M)"
   ]
  },
  {
   "cell_type": "code",
   "execution_count": 256,
   "metadata": {
    "collapsed": true
   },
   "outputs": [],
   "source": [
    "y_pred_confidence = []\n",
    "for i in range(len(y_pred)):\n",
    "    if y_pred_proba[i][0]*100 >= 80 or y_pred_proba[i][1]*100 >= 80:\n",
    "        y_pred_confidence.append(i)"
   ]
  },
  {
   "cell_type": "code",
   "execution_count": 257,
   "metadata": {
    "collapsed": false
   },
   "outputs": [],
   "source": [
    "df2['Decision'] = clf.predict(M)\n",
    "Voted_first_priorty = []\n",
    "History_vote = []\n",
    "for i in range(len(df2)):\n",
    "    if df2['Cit_pref1'].values[i] == df2['predicted'].values[i]:\n",
    "        History_vote.append(1)\n",
    "    else:\n",
    "        History_vote.append(0)\n",
    "df2['Factual'] = History_vote    \n",
    "df2['Decision'] = clf.predict(M)\n",
    "#df2[['predicted','Cit_pref1','lev_pref1','Cit_pref2','lev_pref2','ZIP_pref1','ZIP_pref2','Decision','Factual']]"
   ]
  },
  {
   "cell_type": "code",
   "execution_count": 258,
   "metadata": {
    "collapsed": false
   },
   "outputs": [],
   "source": [
    "x = set(list(np.arange(21207)))\n",
    "y = x - set(y_pred_confidence) "
   ]
  },
  {
   "cell_type": "code",
   "execution_count": 259,
   "metadata": {
    "collapsed": false
   },
   "outputs": [],
   "source": [
    "Updateframe = df2.drop(df2.index[list(y)])\n",
    "predicted = []\n",
    "Updateframe[['predicted','Cit_pref1','lev_pref1','Cit_pref2','lev_pref2','ZIP_pref1','ZIP_pref2','Decision','Factual']]\n",
    "for i in range(len(Updateframe)):\n",
    "    if Updateframe['Decision'].values[i] == Updateframe['Factual'].values[i]:\n",
    "        predicted.append(Updateframe['predicted'].values[i])\n",
    "    elif Updateframe['Decision'].values[i] == 1:\n",
    "        predicted.append(Updateframe['Cit_pref1'].values[i])\n",
    "    else:\n",
    "        my_set=set([Updateframe['Cit_pref2'].values[i],Updateframe['ZIP_pref1'].values[i],Updateframe['ZIP_pref2'].values[i]])\n",
    "        my_set.discard('Noone')\n",
    "        my_set.discard('NONE')\n",
    "        my_set.discard(Updateframe['Cit_pref1'].values[i])\n",
    "        lis = list(my_set)\n",
    "        if len(list(my_set)) == 0:\n",
    "             predicted.append(Updateframe['predicted'].values[i])\n",
    "        else:\n",
    "            predicted.append(lis[0])\n",
    "Updateframe['predicted'] = predicted"
   ]
  },
  {
   "cell_type": "code",
   "execution_count": null,
   "metadata": {
    "collapsed": true
   },
   "outputs": [],
   "source": [
    "'party_voted_past','actual_vote','Cit_pref1','lev_pref1','Cit_pref2','lev_pref2','ZIP_pref1','ZIP_pref2'"
   ]
  },
  {
   "cell_type": "code",
   "execution_count": 377,
   "metadata": {
    "collapsed": false
   },
   "outputs": [],
   "source": [
    "History_vote = []\n",
    "for i in range(len(df1)):\n",
    "    if df1['Cit_pref1'].values[i] == df1['party_voted_past'].values[i]:\n",
    "        if df1['party_voted_past'].values[i] == df1['actual_vote'].values[i]:\n",
    "             History_vote.append(1)\n",
    "        else:\n",
    "             History_vote.append(0)"
   ]
  },
  {
   "cell_type": "code",
   "execution_count": 379,
   "metadata": {
    "collapsed": false
   },
   "outputs": [
    {
     "data": {
      "text/plain": [
       "0.8456817841640473"
      ]
     },
     "execution_count": 379,
     "metadata": {},
     "output_type": "execute_result"
    }
   ],
   "source": [
    "len(History_vote)/float(len(df1))"
   ]
  },
  {
   "cell_type": "code",
   "execution_count": 381,
   "metadata": {
    "collapsed": false
   },
   "outputs": [
    {
     "data": {
      "text/plain": [
       "0.8123893805309734"
      ]
     },
     "execution_count": 381,
     "metadata": {},
     "output_type": "execute_result"
    }
   ],
   "source": [
    "sum(History_vote)/float(len(History_vote))"
   ]
  },
  {
   "cell_type": "code",
   "execution_count": 380,
   "metadata": {
    "collapsed": false
   },
   "outputs": [
    {
     "data": {
      "text/plain": [
       "41310"
      ]
     },
     "execution_count": 380,
     "metadata": {},
     "output_type": "execute_result"
    }
   ],
   "source": [
    "sum(History_vote)"
   ]
  },
  {
   "cell_type": "code",
   "execution_count": 378,
   "metadata": {
    "collapsed": false
   },
   "outputs": [
    {
     "data": {
      "text/plain": [
       "50850"
      ]
     },
     "execution_count": 378,
     "metadata": {},
     "output_type": "execute_result"
    }
   ],
   "source": [
    "len(History_vote)"
   ]
  },
  {
   "cell_type": "code",
   "execution_count": 439,
   "metadata": {
    "collapsed": false
   },
   "outputs": [],
   "source": [
    "History_vote = []\n",
    "for i in range(len(df2)):\n",
    "    if df2['Cit_pref1'].values[i] == df2['party_voted_past'].values[i]:\n",
    "        if df2['party_voted_past'].values[i] == df2['predicted'].values[i]:\n",
    "             History_vote.append(1)\n",
    "        else:\n",
    "             History_vote.append(0)"
   ]
  },
  {
   "cell_type": "code",
   "execution_count": 440,
   "metadata": {
    "collapsed": false
   },
   "outputs": [
    {
     "data": {
      "text/plain": [
       "0.8435422266232848"
      ]
     },
     "execution_count": 440,
     "metadata": {},
     "output_type": "execute_result"
    }
   ],
   "source": [
    "len(History_vote)/float(len(df2))"
   ]
  },
  {
   "cell_type": "code",
   "execution_count": 441,
   "metadata": {
    "collapsed": false
   },
   "outputs": [
    {
     "data": {
      "text/plain": [
       "0.9632735200402482"
      ]
     },
     "execution_count": 441,
     "metadata": {},
     "output_type": "execute_result"
    }
   ],
   "source": [
    "sum(History_vote)/float(len(History_vote))"
   ]
  },
  {
   "cell_type": "code",
   "execution_count": 442,
   "metadata": {
    "collapsed": false
   },
   "outputs": [
    {
     "data": {
      "text/plain": [
       "17232"
      ]
     },
     "execution_count": 442,
     "metadata": {},
     "output_type": "execute_result"
    }
   ],
   "source": [
    "sum(History_vote)"
   ]
  },
  {
   "cell_type": "code",
   "execution_count": 444,
   "metadata": {
    "collapsed": false
   },
   "outputs": [
    {
     "data": {
      "text/plain": [
       "3318"
      ]
     },
     "execution_count": 444,
     "metadata": {},
     "output_type": "execute_result"
    }
   ],
   "source": [
    "len(df2) - len(History_vote)"
   ]
  },
  {
   "cell_type": "code",
   "execution_count": 445,
   "metadata": {
    "collapsed": false
   },
   "outputs": [
    {
     "data": {
      "text/plain": [
       "17889"
      ]
     },
     "execution_count": 445,
     "metadata": {},
     "output_type": "execute_result"
    }
   ],
   "source": [
    "len(History_vote)"
   ]
  },
  {
   "cell_type": "code",
   "execution_count": 446,
   "metadata": {
    "collapsed": true
   },
   "outputs": [],
   "source": [
    "History_vote = []\n",
    "for i in range(len(df2)):\n",
    "    if df2['party_voted_past'].values[i] == df2['predicted'].values[i]:\n",
    "        History_vote.append(1)\n",
    "    else:\n",
    "        History_vote.append(0)"
   ]
  },
  {
   "cell_type": "code",
   "execution_count": 447,
   "metadata": {
    "collapsed": false
   },
   "outputs": [
    {
     "data": {
      "text/plain": [
       "21207"
      ]
     },
     "execution_count": 447,
     "metadata": {},
     "output_type": "execute_result"
    }
   ],
   "source": [
    "len(History_vote)"
   ]
  },
  {
   "cell_type": "code",
   "execution_count": 448,
   "metadata": {
    "collapsed": false
   },
   "outputs": [
    {
     "data": {
      "text/plain": [
       "0.8514169849577969"
      ]
     },
     "execution_count": 448,
     "metadata": {},
     "output_type": "execute_result"
    }
   ],
   "source": [
    "sum(History_vote)/float(len(History_vote))"
   ]
  },
  {
   "cell_type": "code",
   "execution_count": 451,
   "metadata": {
    "collapsed": false
   },
   "outputs": [
    {
     "data": {
      "text/plain": [
       "18056"
      ]
     },
     "execution_count": 451,
     "metadata": {},
     "output_type": "execute_result"
    }
   ],
   "source": [
    "sum(History_vote)"
   ]
  },
  {
   "cell_type": "code",
   "execution_count": 450,
   "metadata": {
    "collapsed": false
   },
   "outputs": [
    {
     "data": {
      "text/plain": [
       "0.5080869524213703"
      ]
     },
     "execution_count": 450,
     "metadata": {},
     "output_type": "execute_result"
    }
   ],
   "source": [
    "10775/float(len(df2))"
   ]
  },
  {
   "cell_type": "code",
   "execution_count": 382,
   "metadata": {
    "collapsed": true
   },
   "outputs": [],
   "source": [
    "History_vote = []\n",
    "for i in range(len(df1)):\n",
    "    if df1['party_voted_past'].values[i] == df1['actual_vote'].values[i]:\n",
    "        History_vote.append(1)\n",
    "    else:\n",
    "        History_vote.append(0)"
   ]
  },
  {
   "cell_type": "code",
   "execution_count": 384,
   "metadata": {
    "collapsed": false
   },
   "outputs": [
    {
     "data": {
      "text/plain": [
       "45116"
      ]
     },
     "execution_count": 384,
     "metadata": {},
     "output_type": "execute_result"
    }
   ],
   "source": [
    "sum(History_vote)"
   ]
  },
  {
   "cell_type": "code",
   "execution_count": 385,
   "metadata": {
    "collapsed": false
   },
   "outputs": [
    {
     "data": {
      "text/plain": [
       "0.750320145021537"
      ]
     },
     "execution_count": 385,
     "metadata": {},
     "output_type": "execute_result"
    }
   ],
   "source": [
    "sum(History_vote)/float(len(History_vote))"
   ]
  },
  {
   "cell_type": "code",
   "execution_count": 296,
   "metadata": {
    "collapsed": false
   },
   "outputs": [
    {
     "ename": "IOError",
     "evalue": "[Errno 13] Permission denied: 'Ss68.csv'",
     "output_type": "error",
     "traceback": [
      "\u001b[1;31m---------------------------------------------------------------------------\u001b[0m",
      "\u001b[1;31mIOError\u001b[0m                                   Traceback (most recent call last)",
      "\u001b[1;32m<ipython-input-296-6a3ed1b84467>\u001b[0m in \u001b[0;36m<module>\u001b[1;34m()\u001b[0m\n\u001b[1;32m----> 1\u001b[1;33m \u001b[0mdf2\u001b[0m\u001b[1;33m[\u001b[0m\u001b[1;33m[\u001b[0m\u001b[1;34m'predicted'\u001b[0m\u001b[1;33m]\u001b[0m\u001b[1;33m]\u001b[0m\u001b[1;33m.\u001b[0m\u001b[0mto_csv\u001b[0m\u001b[1;33m(\u001b[0m\u001b[1;34m'Ss68.csv'\u001b[0m\u001b[1;33m)\u001b[0m\u001b[1;33m\u001b[0m\u001b[0m\n\u001b[0m",
      "\u001b[1;32mC:\\Users\\Kowshik\\AppData\\Local\\Enthought\\Canopy\\User\\lib\\site-packages\\pandas\\core\\frame.pyc\u001b[0m in \u001b[0;36mto_csv\u001b[1;34m(self, path_or_buf, sep, na_rep, float_format, columns, header, index, index_label, mode, encoding, compression, quoting, quotechar, line_terminator, chunksize, tupleize_cols, date_format, doublequote, escapechar, decimal, **kwds)\u001b[0m\n\u001b[0;32m   1330\u001b[0m                                      \u001b[0mescapechar\u001b[0m\u001b[1;33m=\u001b[0m\u001b[0mescapechar\u001b[0m\u001b[1;33m,\u001b[0m\u001b[1;33m\u001b[0m\u001b[0m\n\u001b[0;32m   1331\u001b[0m                                      decimal=decimal)\n\u001b[1;32m-> 1332\u001b[1;33m         \u001b[0mformatter\u001b[0m\u001b[1;33m.\u001b[0m\u001b[0msave\u001b[0m\u001b[1;33m(\u001b[0m\u001b[1;33m)\u001b[0m\u001b[1;33m\u001b[0m\u001b[0m\n\u001b[0m\u001b[0;32m   1333\u001b[0m \u001b[1;33m\u001b[0m\u001b[0m\n\u001b[0;32m   1334\u001b[0m         \u001b[1;32mif\u001b[0m \u001b[0mpath_or_buf\u001b[0m \u001b[1;32mis\u001b[0m \u001b[0mNone\u001b[0m\u001b[1;33m:\u001b[0m\u001b[1;33m\u001b[0m\u001b[0m\n",
      "\u001b[1;32mC:\\Users\\Kowshik\\AppData\\Local\\Enthought\\Canopy\\User\\lib\\site-packages\\pandas\\core\\format.pyc\u001b[0m in \u001b[0;36msave\u001b[1;34m(self)\u001b[0m\n\u001b[0;32m   1479\u001b[0m             f = _get_handle(self.path_or_buf, self.mode,\n\u001b[0;32m   1480\u001b[0m                                 \u001b[0mencoding\u001b[0m\u001b[1;33m=\u001b[0m\u001b[0mself\u001b[0m\u001b[1;33m.\u001b[0m\u001b[0mencoding\u001b[0m\u001b[1;33m,\u001b[0m\u001b[1;33m\u001b[0m\u001b[0m\n\u001b[1;32m-> 1481\u001b[1;33m                                 compression=self.compression)\n\u001b[0m\u001b[0;32m   1482\u001b[0m             \u001b[0mclose\u001b[0m \u001b[1;33m=\u001b[0m \u001b[0mTrue\u001b[0m\u001b[1;33m\u001b[0m\u001b[0m\n\u001b[0;32m   1483\u001b[0m \u001b[1;33m\u001b[0m\u001b[0m\n",
      "\u001b[1;32mC:\\Users\\Kowshik\\AppData\\Local\\Enthought\\Canopy\\User\\lib\\site-packages\\pandas\\io\\common.pyc\u001b[0m in \u001b[0;36m_get_handle\u001b[1;34m(path, mode, encoding, compression)\u001b[0m\n\u001b[0;32m    354\u001b[0m                 \u001b[0mf\u001b[0m \u001b[1;33m=\u001b[0m \u001b[0mopen\u001b[0m\u001b[1;33m(\u001b[0m\u001b[0mpath\u001b[0m\u001b[1;33m,\u001b[0m \u001b[0mmode\u001b[0m\u001b[1;33m,\u001b[0m \u001b[0merrors\u001b[0m\u001b[1;33m=\u001b[0m\u001b[1;34m'replace'\u001b[0m\u001b[1;33m)\u001b[0m\u001b[1;33m\u001b[0m\u001b[0m\n\u001b[0;32m    355\u001b[0m         \u001b[1;32melse\u001b[0m\u001b[1;33m:\u001b[0m\u001b[1;33m\u001b[0m\u001b[0m\n\u001b[1;32m--> 356\u001b[1;33m             \u001b[0mf\u001b[0m \u001b[1;33m=\u001b[0m \u001b[0mopen\u001b[0m\u001b[1;33m(\u001b[0m\u001b[0mpath\u001b[0m\u001b[1;33m,\u001b[0m \u001b[0mmode\u001b[0m\u001b[1;33m)\u001b[0m\u001b[1;33m\u001b[0m\u001b[0m\n\u001b[0m\u001b[0;32m    357\u001b[0m \u001b[1;33m\u001b[0m\u001b[0m\n\u001b[0;32m    358\u001b[0m     \u001b[1;32mreturn\u001b[0m \u001b[0mf\u001b[0m\u001b[1;33m\u001b[0m\u001b[0m\n",
      "\u001b[1;31mIOError\u001b[0m: [Errno 13] Permission denied: 'Ss68.csv'"
     ]
    }
   ],
   "source": [
    "df2[['predicted']].to_csv('Ss68.csv')"
   ]
  },
  {
   "cell_type": "code",
   "execution_count": null,
   "metadata": {
    "collapsed": true
   },
   "outputs": [],
   "source": []
  },
  {
   "cell_type": "code",
   "execution_count": null,
   "metadata": {
    "collapsed": true
   },
   "outputs": [],
   "source": []
  },
  {
   "cell_type": "code",
   "execution_count": null,
   "metadata": {
    "collapsed": true
   },
   "outputs": [],
   "source": []
  },
  {
   "cell_type": "code",
   "execution_count": null,
   "metadata": {
    "collapsed": true
   },
   "outputs": [],
   "source": []
  },
  {
   "cell_type": "code",
   "execution_count": null,
   "metadata": {
    "collapsed": true
   },
   "outputs": [],
   "source": []
  },
  {
   "cell_type": "code",
   "execution_count": null,
   "metadata": {
    "collapsed": true
   },
   "outputs": [],
   "source": []
  },
  {
   "cell_type": "code",
   "execution_count": null,
   "metadata": {
    "collapsed": true
   },
   "outputs": [],
   "source": []
  },
  {
   "cell_type": "code",
   "execution_count": null,
   "metadata": {
    "collapsed": true
   },
   "outputs": [],
   "source": []
  },
  {
   "cell_type": "code",
   "execution_count": null,
   "metadata": {
    "collapsed": true
   },
   "outputs": [],
   "source": []
  },
  {
   "cell_type": "code",
   "execution_count": null,
   "metadata": {
    "collapsed": true
   },
   "outputs": [],
   "source": []
  },
  {
   "cell_type": "code",
   "execution_count": null,
   "metadata": {
    "collapsed": true
   },
   "outputs": [],
   "source": []
  },
  {
   "cell_type": "code",
   "execution_count": null,
   "metadata": {
    "collapsed": true
   },
   "outputs": [],
   "source": []
  },
  {
   "cell_type": "code",
   "execution_count": 63,
   "metadata": {
    "collapsed": false
   },
   "outputs": [
    {
     "data": {
      "text/html": [
       "<div>\n",
       "<table border=\"1\" class=\"dataframe\">\n",
       "  <thead>\n",
       "    <tr style=\"text-align: right;\">\n",
       "      <th></th>\n",
       "      <th>party_voted_past</th>\n",
       "      <th>actual_vote</th>\n",
       "      <th>Cit_pref1</th>\n",
       "      <th>lev_pref1</th>\n",
       "      <th>Cit_pref2</th>\n",
       "      <th>lev_pref2</th>\n",
       "      <th>ZIP_pref1</th>\n",
       "      <th>ZIP_pref2</th>\n",
       "    </tr>\n",
       "  </thead>\n",
       "  <tbody>\n",
       "    <tr>\n",
       "      <th>7</th>\n",
       "      <td>Cosmos</td>\n",
       "      <td>Tokugawa</td>\n",
       "      <td>Cosmos</td>\n",
       "      <td>31</td>\n",
       "      <td>Tokugawa</td>\n",
       "      <td>28</td>\n",
       "      <td>Tokugawa</td>\n",
       "      <td>Ebony</td>\n",
       "    </tr>\n",
       "    <tr>\n",
       "      <th>15</th>\n",
       "      <td>Centaur</td>\n",
       "      <td>Tokugawa</td>\n",
       "      <td>Centaur</td>\n",
       "      <td>44</td>\n",
       "      <td>Ebony</td>\n",
       "      <td>26</td>\n",
       "      <td>Tokugawa</td>\n",
       "      <td>Ebony</td>\n",
       "    </tr>\n",
       "    <tr>\n",
       "      <th>16</th>\n",
       "      <td>Ebony</td>\n",
       "      <td>Cosmos</td>\n",
       "      <td>Centaur</td>\n",
       "      <td>33</td>\n",
       "      <td>Ebony</td>\n",
       "      <td>31</td>\n",
       "      <td>Ebony</td>\n",
       "      <td>Tokugawa</td>\n",
       "    </tr>\n",
       "    <tr>\n",
       "      <th>19</th>\n",
       "      <td>Cosmos</td>\n",
       "      <td>Centaur</td>\n",
       "      <td>Cosmos</td>\n",
       "      <td>20</td>\n",
       "      <td>NONE</td>\n",
       "      <td>0</td>\n",
       "      <td>Cosmos</td>\n",
       "      <td>Odyssey</td>\n",
       "    </tr>\n",
       "    <tr>\n",
       "      <th>21</th>\n",
       "      <td>Ebony</td>\n",
       "      <td>Odyssey</td>\n",
       "      <td>Ebony</td>\n",
       "      <td>28</td>\n",
       "      <td>NONE</td>\n",
       "      <td>0</td>\n",
       "      <td>Ebony</td>\n",
       "      <td>Odyssey</td>\n",
       "    </tr>\n",
       "    <tr>\n",
       "      <th>27</th>\n",
       "      <td>Cosmos</td>\n",
       "      <td>Cosmos</td>\n",
       "      <td>Odyssey</td>\n",
       "      <td>43</td>\n",
       "      <td>Ebony</td>\n",
       "      <td>22</td>\n",
       "      <td>Odyssey</td>\n",
       "      <td>Cosmos</td>\n",
       "    </tr>\n",
       "    <tr>\n",
       "      <th>28</th>\n",
       "      <td>Odyssey</td>\n",
       "      <td>Tokugawa</td>\n",
       "      <td>Odyssey</td>\n",
       "      <td>80</td>\n",
       "      <td>Cosmos</td>\n",
       "      <td>15</td>\n",
       "      <td>Odyssey</td>\n",
       "      <td>Ebony</td>\n",
       "    </tr>\n",
       "    <tr>\n",
       "      <th>29</th>\n",
       "      <td>Centaur</td>\n",
       "      <td>Cosmos</td>\n",
       "      <td>Centaur</td>\n",
       "      <td>67</td>\n",
       "      <td>Ebony</td>\n",
       "      <td>24</td>\n",
       "      <td>Centaur</td>\n",
       "      <td>Tokugawa</td>\n",
       "    </tr>\n",
       "    <tr>\n",
       "      <th>32</th>\n",
       "      <td>Centaur</td>\n",
       "      <td>Centaur</td>\n",
       "      <td>Odyssey</td>\n",
       "      <td>29</td>\n",
       "      <td>Centaur</td>\n",
       "      <td>21</td>\n",
       "      <td>Odyssey</td>\n",
       "      <td>Ebony</td>\n",
       "    </tr>\n",
       "    <tr>\n",
       "      <th>35</th>\n",
       "      <td>Centaur</td>\n",
       "      <td>Centaur</td>\n",
       "      <td>Odyssey</td>\n",
       "      <td>29</td>\n",
       "      <td>Cosmos</td>\n",
       "      <td>15</td>\n",
       "      <td>Odyssey</td>\n",
       "      <td>Centaur</td>\n",
       "    </tr>\n",
       "    <tr>\n",
       "      <th>44</th>\n",
       "      <td>Cosmos</td>\n",
       "      <td>Cosmos</td>\n",
       "      <td>Odyssey</td>\n",
       "      <td>141</td>\n",
       "      <td>Cosmos</td>\n",
       "      <td>120</td>\n",
       "      <td>Cosmos</td>\n",
       "      <td>Centaur</td>\n",
       "    </tr>\n",
       "    <tr>\n",
       "      <th>50</th>\n",
       "      <td>Centaur</td>\n",
       "      <td>Tokugawa</td>\n",
       "      <td>Centaur</td>\n",
       "      <td>33</td>\n",
       "      <td>Odyssey</td>\n",
       "      <td>28</td>\n",
       "      <td>Odyssey</td>\n",
       "      <td>Tokugawa</td>\n",
       "    </tr>\n",
       "    <tr>\n",
       "      <th>59</th>\n",
       "      <td>Centaur</td>\n",
       "      <td>Cosmos</td>\n",
       "      <td>Ebony</td>\n",
       "      <td>41</td>\n",
       "      <td>Centaur</td>\n",
       "      <td>37</td>\n",
       "      <td>Centaur</td>\n",
       "      <td>Tokugawa</td>\n",
       "    </tr>\n",
       "    <tr>\n",
       "      <th>61</th>\n",
       "      <td>Cosmos</td>\n",
       "      <td>Cosmos</td>\n",
       "      <td>Ebony</td>\n",
       "      <td>29</td>\n",
       "      <td>Cosmos</td>\n",
       "      <td>21</td>\n",
       "      <td>Cosmos</td>\n",
       "      <td>Odyssey</td>\n",
       "    </tr>\n",
       "    <tr>\n",
       "      <th>64</th>\n",
       "      <td>Centaur</td>\n",
       "      <td>Cosmos</td>\n",
       "      <td>Centaur</td>\n",
       "      <td>40</td>\n",
       "      <td>Cosmos</td>\n",
       "      <td>29</td>\n",
       "      <td>Cosmos</td>\n",
       "      <td>Centaur</td>\n",
       "    </tr>\n",
       "    <tr>\n",
       "      <th>69</th>\n",
       "      <td>Odyssey</td>\n",
       "      <td>Cosmos</td>\n",
       "      <td>Odyssey</td>\n",
       "      <td>29</td>\n",
       "      <td>Centaur</td>\n",
       "      <td>22</td>\n",
       "      <td>Odyssey</td>\n",
       "      <td>Ebony</td>\n",
       "    </tr>\n",
       "    <tr>\n",
       "      <th>77</th>\n",
       "      <td>Centaur</td>\n",
       "      <td>Odyssey</td>\n",
       "      <td>Cosmos</td>\n",
       "      <td>22</td>\n",
       "      <td>Centaur</td>\n",
       "      <td>14</td>\n",
       "      <td>Cosmos</td>\n",
       "      <td>Centaur</td>\n",
       "    </tr>\n",
       "    <tr>\n",
       "      <th>83</th>\n",
       "      <td>Ebony</td>\n",
       "      <td>Ebony</td>\n",
       "      <td>Odyssey</td>\n",
       "      <td>111</td>\n",
       "      <td>Ebony</td>\n",
       "      <td>65</td>\n",
       "      <td>Odyssey</td>\n",
       "      <td>Centaur</td>\n",
       "    </tr>\n",
       "    <tr>\n",
       "      <th>85</th>\n",
       "      <td>Centaur</td>\n",
       "      <td>Cosmos</td>\n",
       "      <td>Centaur</td>\n",
       "      <td>29</td>\n",
       "      <td>Cosmos</td>\n",
       "      <td>22</td>\n",
       "      <td>Centaur</td>\n",
       "      <td>Odyssey</td>\n",
       "    </tr>\n",
       "    <tr>\n",
       "      <th>89</th>\n",
       "      <td>Cosmos</td>\n",
       "      <td>Ebony</td>\n",
       "      <td>Cosmos</td>\n",
       "      <td>36</td>\n",
       "      <td>NONE</td>\n",
       "      <td>0</td>\n",
       "      <td>Odyssey</td>\n",
       "      <td>Ebony</td>\n",
       "    </tr>\n",
       "    <tr>\n",
       "      <th>90</th>\n",
       "      <td>Cosmos</td>\n",
       "      <td>Cosmos</td>\n",
       "      <td>Tokugawa</td>\n",
       "      <td>29</td>\n",
       "      <td>Cosmos</td>\n",
       "      <td>18</td>\n",
       "      <td>Cosmos</td>\n",
       "      <td>Odyssey</td>\n",
       "    </tr>\n",
       "    <tr>\n",
       "      <th>95</th>\n",
       "      <td>Ebony</td>\n",
       "      <td>Cosmos</td>\n",
       "      <td>Ebony</td>\n",
       "      <td>33</td>\n",
       "      <td>Odyssey</td>\n",
       "      <td>28</td>\n",
       "      <td>Cosmos</td>\n",
       "      <td>Odyssey</td>\n",
       "    </tr>\n",
       "    <tr>\n",
       "      <th>98</th>\n",
       "      <td>Centaur</td>\n",
       "      <td>Cosmos</td>\n",
       "      <td>Centaur</td>\n",
       "      <td>49</td>\n",
       "      <td>Cosmos</td>\n",
       "      <td>27</td>\n",
       "      <td>Cosmos</td>\n",
       "      <td>Ebony</td>\n",
       "    </tr>\n",
       "    <tr>\n",
       "      <th>105</th>\n",
       "      <td>Odyssey</td>\n",
       "      <td>Ebony</td>\n",
       "      <td>Odyssey</td>\n",
       "      <td>22</td>\n",
       "      <td>Ebony</td>\n",
       "      <td>15</td>\n",
       "      <td>Odyssey</td>\n",
       "      <td>Centaur</td>\n",
       "    </tr>\n",
       "    <tr>\n",
       "      <th>110</th>\n",
       "      <td>Cosmos</td>\n",
       "      <td>Cosmos</td>\n",
       "      <td>Tokugawa</td>\n",
       "      <td>28</td>\n",
       "      <td>Cosmos</td>\n",
       "      <td>26</td>\n",
       "      <td>Centaur</td>\n",
       "      <td>Tokugawa</td>\n",
       "    </tr>\n",
       "    <tr>\n",
       "      <th>112</th>\n",
       "      <td>Centaur</td>\n",
       "      <td>Centaur</td>\n",
       "      <td>Ebony</td>\n",
       "      <td>15</td>\n",
       "      <td>Centaur</td>\n",
       "      <td>7</td>\n",
       "      <td>Centaur</td>\n",
       "      <td>Odyssey</td>\n",
       "    </tr>\n",
       "    <tr>\n",
       "      <th>117</th>\n",
       "      <td>Odyssey</td>\n",
       "      <td>Centaur</td>\n",
       "      <td>Odyssey</td>\n",
       "      <td>44</td>\n",
       "      <td>Cosmos</td>\n",
       "      <td>7</td>\n",
       "      <td>Centaur</td>\n",
       "      <td>Odyssey</td>\n",
       "    </tr>\n",
       "    <tr>\n",
       "      <th>123</th>\n",
       "      <td>Odyssey</td>\n",
       "      <td>Tokugawa</td>\n",
       "      <td>Odyssey</td>\n",
       "      <td>51</td>\n",
       "      <td>NONE</td>\n",
       "      <td>0</td>\n",
       "      <td>Cosmos</td>\n",
       "      <td>Tokugawa</td>\n",
       "    </tr>\n",
       "    <tr>\n",
       "      <th>132</th>\n",
       "      <td>Ebony</td>\n",
       "      <td>Ebony</td>\n",
       "      <td>Centaur</td>\n",
       "      <td>15</td>\n",
       "      <td>Ebony</td>\n",
       "      <td>14</td>\n",
       "      <td>Ebony</td>\n",
       "      <td>Tokugawa</td>\n",
       "    </tr>\n",
       "    <tr>\n",
       "      <th>141</th>\n",
       "      <td>Odyssey</td>\n",
       "      <td>Ebony</td>\n",
       "      <td>Odyssey</td>\n",
       "      <td>51</td>\n",
       "      <td>Centaur</td>\n",
       "      <td>22</td>\n",
       "      <td>Ebony</td>\n",
       "      <td>Odyssey</td>\n",
       "    </tr>\n",
       "    <tr>\n",
       "      <th>...</th>\n",
       "      <td>...</td>\n",
       "      <td>...</td>\n",
       "      <td>...</td>\n",
       "      <td>...</td>\n",
       "      <td>...</td>\n",
       "      <td>...</td>\n",
       "      <td>...</td>\n",
       "      <td>...</td>\n",
       "    </tr>\n",
       "    <tr>\n",
       "      <th>59998</th>\n",
       "      <td>Odyssey</td>\n",
       "      <td>Odyssey</td>\n",
       "      <td>Tokugawa</td>\n",
       "      <td>22</td>\n",
       "      <td>Tokugawa</td>\n",
       "      <td>22</td>\n",
       "      <td>Odyssey</td>\n",
       "      <td>Centaur</td>\n",
       "    </tr>\n",
       "    <tr>\n",
       "      <th>60002</th>\n",
       "      <td>Centaur</td>\n",
       "      <td>Cosmos</td>\n",
       "      <td>Centaur</td>\n",
       "      <td>85</td>\n",
       "      <td>Ebony</td>\n",
       "      <td>22</td>\n",
       "      <td>Ebony</td>\n",
       "      <td>Odyssey</td>\n",
       "    </tr>\n",
       "    <tr>\n",
       "      <th>60004</th>\n",
       "      <td>Centaur</td>\n",
       "      <td>Ebony</td>\n",
       "      <td>Centaur</td>\n",
       "      <td>57</td>\n",
       "      <td>Ebony</td>\n",
       "      <td>21</td>\n",
       "      <td>Centaur</td>\n",
       "      <td>Odyssey</td>\n",
       "    </tr>\n",
       "    <tr>\n",
       "      <th>60005</th>\n",
       "      <td>Odyssey</td>\n",
       "      <td>Tokugawa</td>\n",
       "      <td>Odyssey</td>\n",
       "      <td>37</td>\n",
       "      <td>Tokugawa</td>\n",
       "      <td>29</td>\n",
       "      <td>Tokugawa</td>\n",
       "      <td>Ebony</td>\n",
       "    </tr>\n",
       "    <tr>\n",
       "      <th>60010</th>\n",
       "      <td>Centaur</td>\n",
       "      <td>Ebony</td>\n",
       "      <td>Centaur</td>\n",
       "      <td>64</td>\n",
       "      <td>Odyssey</td>\n",
       "      <td>22</td>\n",
       "      <td>Ebony</td>\n",
       "      <td>Odyssey</td>\n",
       "    </tr>\n",
       "    <tr>\n",
       "      <th>60020</th>\n",
       "      <td>Centaur</td>\n",
       "      <td>Cosmos</td>\n",
       "      <td>Centaur</td>\n",
       "      <td>22</td>\n",
       "      <td>Cosmos</td>\n",
       "      <td>11</td>\n",
       "      <td>Centaur</td>\n",
       "      <td>Odyssey</td>\n",
       "    </tr>\n",
       "    <tr>\n",
       "      <th>60023</th>\n",
       "      <td>Cosmos</td>\n",
       "      <td>Ebony</td>\n",
       "      <td>Cosmos</td>\n",
       "      <td>85</td>\n",
       "      <td>Ebony</td>\n",
       "      <td>48</td>\n",
       "      <td>Ebony</td>\n",
       "      <td>Tokugawa</td>\n",
       "    </tr>\n",
       "    <tr>\n",
       "      <th>60024</th>\n",
       "      <td>Tokugawa</td>\n",
       "      <td>Cosmos</td>\n",
       "      <td>Tokugawa</td>\n",
       "      <td>32</td>\n",
       "      <td>Ebony</td>\n",
       "      <td>26</td>\n",
       "      <td>Cosmos</td>\n",
       "      <td>Ebony</td>\n",
       "    </tr>\n",
       "    <tr>\n",
       "      <th>60029</th>\n",
       "      <td>Centaur</td>\n",
       "      <td>Cosmos</td>\n",
       "      <td>Ebony</td>\n",
       "      <td>29</td>\n",
       "      <td>Centaur</td>\n",
       "      <td>21</td>\n",
       "      <td>Centaur</td>\n",
       "      <td>Cosmos</td>\n",
       "    </tr>\n",
       "    <tr>\n",
       "      <th>60034</th>\n",
       "      <td>Tokugawa</td>\n",
       "      <td>Ebony</td>\n",
       "      <td>Tokugawa</td>\n",
       "      <td>57</td>\n",
       "      <td>Ebony</td>\n",
       "      <td>22</td>\n",
       "      <td>Tokugawa</td>\n",
       "      <td>Ebony</td>\n",
       "    </tr>\n",
       "    <tr>\n",
       "      <th>60035</th>\n",
       "      <td>Centaur</td>\n",
       "      <td>Centaur</td>\n",
       "      <td>Odyssey</td>\n",
       "      <td>62</td>\n",
       "      <td>Centaur</td>\n",
       "      <td>44</td>\n",
       "      <td>Centaur</td>\n",
       "      <td>Cosmos</td>\n",
       "    </tr>\n",
       "    <tr>\n",
       "      <th>60041</th>\n",
       "      <td>Centaur</td>\n",
       "      <td>Centaur</td>\n",
       "      <td>Cosmos</td>\n",
       "      <td>79</td>\n",
       "      <td>Centaur</td>\n",
       "      <td>48</td>\n",
       "      <td>Odyssey</td>\n",
       "      <td>Cosmos</td>\n",
       "    </tr>\n",
       "    <tr>\n",
       "      <th>60044</th>\n",
       "      <td>Cosmos</td>\n",
       "      <td>Tokugawa</td>\n",
       "      <td>Cosmos</td>\n",
       "      <td>64</td>\n",
       "      <td>Centaur</td>\n",
       "      <td>22</td>\n",
       "      <td>Cosmos</td>\n",
       "      <td>Tokugawa</td>\n",
       "    </tr>\n",
       "    <tr>\n",
       "      <th>60047</th>\n",
       "      <td>Cosmos</td>\n",
       "      <td>Centaur</td>\n",
       "      <td>Cosmos</td>\n",
       "      <td>22</td>\n",
       "      <td>Centaur</td>\n",
       "      <td>21</td>\n",
       "      <td>Centaur</td>\n",
       "      <td>Odyssey</td>\n",
       "    </tr>\n",
       "    <tr>\n",
       "      <th>60053</th>\n",
       "      <td>Cosmos</td>\n",
       "      <td>Cosmos</td>\n",
       "      <td>Tokugawa</td>\n",
       "      <td>22</td>\n",
       "      <td>Cosmos</td>\n",
       "      <td>17</td>\n",
       "      <td>Tokugawa</td>\n",
       "      <td>Centaur</td>\n",
       "    </tr>\n",
       "    <tr>\n",
       "      <th>60054</th>\n",
       "      <td>Centaur</td>\n",
       "      <td>Odyssey</td>\n",
       "      <td>Centaur</td>\n",
       "      <td>50</td>\n",
       "      <td>Odyssey</td>\n",
       "      <td>36</td>\n",
       "      <td>Centaur</td>\n",
       "      <td>Odyssey</td>\n",
       "    </tr>\n",
       "    <tr>\n",
       "      <th>60058</th>\n",
       "      <td>Centaur</td>\n",
       "      <td>Ebony</td>\n",
       "      <td>Odyssey</td>\n",
       "      <td>29</td>\n",
       "      <td>Ebony</td>\n",
       "      <td>22</td>\n",
       "      <td>Odyssey</td>\n",
       "      <td>Centaur</td>\n",
       "    </tr>\n",
       "    <tr>\n",
       "      <th>60059</th>\n",
       "      <td>Odyssey</td>\n",
       "      <td>Cosmos</td>\n",
       "      <td>Odyssey</td>\n",
       "      <td>26</td>\n",
       "      <td>Cosmos</td>\n",
       "      <td>22</td>\n",
       "      <td>Cosmos</td>\n",
       "      <td>Tokugawa</td>\n",
       "    </tr>\n",
       "    <tr>\n",
       "      <th>60063</th>\n",
       "      <td>Cosmos</td>\n",
       "      <td>Odyssey</td>\n",
       "      <td>Cosmos</td>\n",
       "      <td>56</td>\n",
       "      <td>Odyssey</td>\n",
       "      <td>26</td>\n",
       "      <td>Centaur</td>\n",
       "      <td>Cosmos</td>\n",
       "    </tr>\n",
       "    <tr>\n",
       "      <th>60066</th>\n",
       "      <td>Centaur</td>\n",
       "      <td>Centaur</td>\n",
       "      <td>Odyssey</td>\n",
       "      <td>55</td>\n",
       "      <td>Centaur</td>\n",
       "      <td>22</td>\n",
       "      <td>Centaur</td>\n",
       "      <td>Cosmos</td>\n",
       "    </tr>\n",
       "    <tr>\n",
       "      <th>60068</th>\n",
       "      <td>Tokugawa</td>\n",
       "      <td>Odyssey</td>\n",
       "      <td>Tokugawa</td>\n",
       "      <td>98</td>\n",
       "      <td>Odyssey</td>\n",
       "      <td>31</td>\n",
       "      <td>Tokugawa</td>\n",
       "      <td>Ebony</td>\n",
       "    </tr>\n",
       "    <tr>\n",
       "      <th>60073</th>\n",
       "      <td>Cosmos</td>\n",
       "      <td>Centaur</td>\n",
       "      <td>Tokugawa</td>\n",
       "      <td>24</td>\n",
       "      <td>Cosmos</td>\n",
       "      <td>19</td>\n",
       "      <td>Tokugawa</td>\n",
       "      <td>Centaur</td>\n",
       "    </tr>\n",
       "    <tr>\n",
       "      <th>60083</th>\n",
       "      <td>Odyssey</td>\n",
       "      <td>Odyssey</td>\n",
       "      <td>Tokugawa</td>\n",
       "      <td>22</td>\n",
       "      <td>Tokugawa</td>\n",
       "      <td>22</td>\n",
       "      <td>Ebony</td>\n",
       "      <td>Odyssey</td>\n",
       "    </tr>\n",
       "    <tr>\n",
       "      <th>60084</th>\n",
       "      <td>Odyssey</td>\n",
       "      <td>Cosmos</td>\n",
       "      <td>Odyssey</td>\n",
       "      <td>40</td>\n",
       "      <td>Tokugawa</td>\n",
       "      <td>26</td>\n",
       "      <td>Tokugawa</td>\n",
       "      <td>Centaur</td>\n",
       "    </tr>\n",
       "    <tr>\n",
       "      <th>60088</th>\n",
       "      <td>Cosmos</td>\n",
       "      <td>Cosmos</td>\n",
       "      <td>Ebony</td>\n",
       "      <td>43</td>\n",
       "      <td>Cosmos</td>\n",
       "      <td>40</td>\n",
       "      <td>Ebony</td>\n",
       "      <td>Centaur</td>\n",
       "    </tr>\n",
       "    <tr>\n",
       "      <th>60089</th>\n",
       "      <td>Odyssey</td>\n",
       "      <td>Odyssey</td>\n",
       "      <td>Centaur</td>\n",
       "      <td>50</td>\n",
       "      <td>Odyssey</td>\n",
       "      <td>35</td>\n",
       "      <td>Centaur</td>\n",
       "      <td>Odyssey</td>\n",
       "    </tr>\n",
       "    <tr>\n",
       "      <th>60090</th>\n",
       "      <td>Cosmos</td>\n",
       "      <td>Ebony</td>\n",
       "      <td>Cosmos</td>\n",
       "      <td>36</td>\n",
       "      <td>Centaur</td>\n",
       "      <td>22</td>\n",
       "      <td>Cosmos</td>\n",
       "      <td>Centaur</td>\n",
       "    </tr>\n",
       "    <tr>\n",
       "      <th>60105</th>\n",
       "      <td>Cosmos</td>\n",
       "      <td>Centaur</td>\n",
       "      <td>Ebony</td>\n",
       "      <td>29</td>\n",
       "      <td>Ebony</td>\n",
       "      <td>29</td>\n",
       "      <td>Cosmos</td>\n",
       "      <td>Centaur</td>\n",
       "    </tr>\n",
       "    <tr>\n",
       "      <th>60120</th>\n",
       "      <td>Centaur</td>\n",
       "      <td>Odyssey</td>\n",
       "      <td>Centaur</td>\n",
       "      <td>29</td>\n",
       "      <td>NONE</td>\n",
       "      <td>0</td>\n",
       "      <td>Centaur</td>\n",
       "      <td>Odyssey</td>\n",
       "    </tr>\n",
       "    <tr>\n",
       "      <th>60122</th>\n",
       "      <td>Centaur</td>\n",
       "      <td>Cosmos</td>\n",
       "      <td>Centaur</td>\n",
       "      <td>36</td>\n",
       "      <td>NONE</td>\n",
       "      <td>0</td>\n",
       "      <td>Ebony</td>\n",
       "      <td>Odyssey</td>\n",
       "    </tr>\n",
       "  </tbody>\n",
       "</table>\n",
       "<p>15186 rows × 8 columns</p>\n",
       "</div>"
      ],
      "text/plain": [
       "      party_voted_past actual_vote Cit_pref1  lev_pref1 Cit_pref2  lev_pref2  \\\n",
       "7               Cosmos    Tokugawa    Cosmos         31  Tokugawa         28   \n",
       "15             Centaur    Tokugawa   Centaur         44     Ebony         26   \n",
       "16               Ebony      Cosmos   Centaur         33     Ebony         31   \n",
       "19              Cosmos     Centaur    Cosmos         20      NONE          0   \n",
       "21               Ebony     Odyssey     Ebony         28      NONE          0   \n",
       "27              Cosmos      Cosmos   Odyssey         43     Ebony         22   \n",
       "28             Odyssey    Tokugawa   Odyssey         80    Cosmos         15   \n",
       "29             Centaur      Cosmos   Centaur         67     Ebony         24   \n",
       "32             Centaur     Centaur   Odyssey         29   Centaur         21   \n",
       "35             Centaur     Centaur   Odyssey         29    Cosmos         15   \n",
       "44              Cosmos      Cosmos   Odyssey        141    Cosmos        120   \n",
       "50             Centaur    Tokugawa   Centaur         33   Odyssey         28   \n",
       "59             Centaur      Cosmos     Ebony         41   Centaur         37   \n",
       "61              Cosmos      Cosmos     Ebony         29    Cosmos         21   \n",
       "64             Centaur      Cosmos   Centaur         40    Cosmos         29   \n",
       "69             Odyssey      Cosmos   Odyssey         29   Centaur         22   \n",
       "77             Centaur     Odyssey    Cosmos         22   Centaur         14   \n",
       "83               Ebony       Ebony   Odyssey        111     Ebony         65   \n",
       "85             Centaur      Cosmos   Centaur         29    Cosmos         22   \n",
       "89              Cosmos       Ebony    Cosmos         36      NONE          0   \n",
       "90              Cosmos      Cosmos  Tokugawa         29    Cosmos         18   \n",
       "95               Ebony      Cosmos     Ebony         33   Odyssey         28   \n",
       "98             Centaur      Cosmos   Centaur         49    Cosmos         27   \n",
       "105            Odyssey       Ebony   Odyssey         22     Ebony         15   \n",
       "110             Cosmos      Cosmos  Tokugawa         28    Cosmos         26   \n",
       "112            Centaur     Centaur     Ebony         15   Centaur          7   \n",
       "117            Odyssey     Centaur   Odyssey         44    Cosmos          7   \n",
       "123            Odyssey    Tokugawa   Odyssey         51      NONE          0   \n",
       "132              Ebony       Ebony   Centaur         15     Ebony         14   \n",
       "141            Odyssey       Ebony   Odyssey         51   Centaur         22   \n",
       "...                ...         ...       ...        ...       ...        ...   \n",
       "59998          Odyssey     Odyssey  Tokugawa         22  Tokugawa         22   \n",
       "60002          Centaur      Cosmos   Centaur         85     Ebony         22   \n",
       "60004          Centaur       Ebony   Centaur         57     Ebony         21   \n",
       "60005          Odyssey    Tokugawa   Odyssey         37  Tokugawa         29   \n",
       "60010          Centaur       Ebony   Centaur         64   Odyssey         22   \n",
       "60020          Centaur      Cosmos   Centaur         22    Cosmos         11   \n",
       "60023           Cosmos       Ebony    Cosmos         85     Ebony         48   \n",
       "60024         Tokugawa      Cosmos  Tokugawa         32     Ebony         26   \n",
       "60029          Centaur      Cosmos     Ebony         29   Centaur         21   \n",
       "60034         Tokugawa       Ebony  Tokugawa         57     Ebony         22   \n",
       "60035          Centaur     Centaur   Odyssey         62   Centaur         44   \n",
       "60041          Centaur     Centaur    Cosmos         79   Centaur         48   \n",
       "60044           Cosmos    Tokugawa    Cosmos         64   Centaur         22   \n",
       "60047           Cosmos     Centaur    Cosmos         22   Centaur         21   \n",
       "60053           Cosmos      Cosmos  Tokugawa         22    Cosmos         17   \n",
       "60054          Centaur     Odyssey   Centaur         50   Odyssey         36   \n",
       "60058          Centaur       Ebony   Odyssey         29     Ebony         22   \n",
       "60059          Odyssey      Cosmos   Odyssey         26    Cosmos         22   \n",
       "60063           Cosmos     Odyssey    Cosmos         56   Odyssey         26   \n",
       "60066          Centaur     Centaur   Odyssey         55   Centaur         22   \n",
       "60068         Tokugawa     Odyssey  Tokugawa         98   Odyssey         31   \n",
       "60073           Cosmos     Centaur  Tokugawa         24    Cosmos         19   \n",
       "60083          Odyssey     Odyssey  Tokugawa         22  Tokugawa         22   \n",
       "60084          Odyssey      Cosmos   Odyssey         40  Tokugawa         26   \n",
       "60088           Cosmos      Cosmos     Ebony         43    Cosmos         40   \n",
       "60089          Odyssey     Odyssey   Centaur         50   Odyssey         35   \n",
       "60090           Cosmos       Ebony    Cosmos         36   Centaur         22   \n",
       "60105           Cosmos     Centaur     Ebony         29     Ebony         29   \n",
       "60120          Centaur     Odyssey   Centaur         29      NONE          0   \n",
       "60122          Centaur      Cosmos   Centaur         36      NONE          0   \n",
       "\n",
       "      ZIP_pref1 ZIP_pref2  \n",
       "7      Tokugawa     Ebony  \n",
       "15     Tokugawa     Ebony  \n",
       "16        Ebony  Tokugawa  \n",
       "19       Cosmos   Odyssey  \n",
       "21        Ebony   Odyssey  \n",
       "27      Odyssey    Cosmos  \n",
       "28      Odyssey     Ebony  \n",
       "29      Centaur  Tokugawa  \n",
       "32      Odyssey     Ebony  \n",
       "35      Odyssey   Centaur  \n",
       "44       Cosmos   Centaur  \n",
       "50      Odyssey  Tokugawa  \n",
       "59      Centaur  Tokugawa  \n",
       "61       Cosmos   Odyssey  \n",
       "64       Cosmos   Centaur  \n",
       "69      Odyssey     Ebony  \n",
       "77       Cosmos   Centaur  \n",
       "83      Odyssey   Centaur  \n",
       "85      Centaur   Odyssey  \n",
       "89      Odyssey     Ebony  \n",
       "90       Cosmos   Odyssey  \n",
       "95       Cosmos   Odyssey  \n",
       "98       Cosmos     Ebony  \n",
       "105     Odyssey   Centaur  \n",
       "110     Centaur  Tokugawa  \n",
       "112     Centaur   Odyssey  \n",
       "117     Centaur   Odyssey  \n",
       "123      Cosmos  Tokugawa  \n",
       "132       Ebony  Tokugawa  \n",
       "141       Ebony   Odyssey  \n",
       "...         ...       ...  \n",
       "59998   Odyssey   Centaur  \n",
       "60002     Ebony   Odyssey  \n",
       "60004   Centaur   Odyssey  \n",
       "60005  Tokugawa     Ebony  \n",
       "60010     Ebony   Odyssey  \n",
       "60020   Centaur   Odyssey  \n",
       "60023     Ebony  Tokugawa  \n",
       "60024    Cosmos     Ebony  \n",
       "60029   Centaur    Cosmos  \n",
       "60034  Tokugawa     Ebony  \n",
       "60035   Centaur    Cosmos  \n",
       "60041   Odyssey    Cosmos  \n",
       "60044    Cosmos  Tokugawa  \n",
       "60047   Centaur   Odyssey  \n",
       "60053  Tokugawa   Centaur  \n",
       "60054   Centaur   Odyssey  \n",
       "60058   Odyssey   Centaur  \n",
       "60059    Cosmos  Tokugawa  \n",
       "60063   Centaur    Cosmos  \n",
       "60066   Centaur    Cosmos  \n",
       "60068  Tokugawa     Ebony  \n",
       "60073  Tokugawa   Centaur  \n",
       "60083     Ebony   Odyssey  \n",
       "60084  Tokugawa   Centaur  \n",
       "60088     Ebony   Centaur  \n",
       "60089   Centaur   Odyssey  \n",
       "60090    Cosmos   Centaur  \n",
       "60105    Cosmos   Centaur  \n",
       "60120   Centaur   Odyssey  \n",
       "60122     Ebony   Odyssey  \n",
       "\n",
       "[15186 rows x 8 columns]"
      ]
     },
     "execution_count": 63,
     "metadata": {},
     "output_type": "execute_result"
    }
   ],
   "source": [
    "df1.drop(df1.index[Voted_first_priorty])[['party_voted_past','actual_vote','Cit_pref1','lev_pref1','Cit_pref2','lev_pref2','ZIP_pref1','ZIP_pref2']]"
   ]
  },
  {
   "cell_type": "code",
   "execution_count": 205,
   "metadata": {
    "collapsed": false
   },
   "outputs": [],
   "source": [
    "my_set=set([3,4,2])\n",
    "my_set.discard(3)"
   ]
  },
  {
   "cell_type": "code",
   "execution_count": 206,
   "metadata": {
    "collapsed": false
   },
   "outputs": [
    {
     "data": {
      "text/plain": [
       "{2, 4}"
      ]
     },
     "execution_count": 206,
     "metadata": {},
     "output_type": "execute_result"
    }
   ],
   "source": [
    "my_set"
   ]
  },
  {
   "cell_type": "code",
   "execution_count": 1,
   "metadata": {
    "collapsed": true
   },
   "outputs": [],
   "source": [
    "import h2o"
   ]
  },
  {
   "cell_type": "code",
   "execution_count": 7,
   "metadata": {
    "collapsed": false
   },
   "outputs": [
    {
     "name": "stdout",
     "output_type": "stream",
     "text": [
      "Checking whether there is an H2O instance running at http://localhost:54321. connected.\n"
     ]
    },
    {
     "data": {
      "text/html": [
       "<div style=\"overflow:auto\"><table style=\"width:50%\"><tr><td>H2O cluster uptime:</td>\n",
       "<td>1 day 3 hours 44 mins</td></tr>\n",
       "<tr><td>H2O cluster version:</td>\n",
       "<td>3.10.0.7</td></tr>\n",
       "<tr><td>H2O cluster version age:</td>\n",
       "<td>1 month and 7 days </td></tr>\n",
       "<tr><td>H2O cluster name:</td>\n",
       "<td>H2O_from_python_Kowshik_sg2d5n</td></tr>\n",
       "<tr><td>H2O cluster total nodes:</td>\n",
       "<td>1</td></tr>\n",
       "<tr><td>H2O cluster free memory:</td>\n",
       "<td>1.463 Gb</td></tr>\n",
       "<tr><td>H2O cluster total cores:</td>\n",
       "<td>4</td></tr>\n",
       "<tr><td>H2O cluster allowed cores:</td>\n",
       "<td>4</td></tr>\n",
       "<tr><td>H2O cluster status:</td>\n",
       "<td>locked, healthy</td></tr>\n",
       "<tr><td>H2O connection url:</td>\n",
       "<td>http://localhost:54321</td></tr>\n",
       "<tr><td>H2O connection proxy:</td>\n",
       "<td>None</td></tr>\n",
       "<tr><td>Python version:</td>\n",
       "<td>2.7.10 final</td></tr></table></div>"
      ],
      "text/plain": [
       "--------------------------  ------------------------------\n",
       "H2O cluster uptime:         1 day 3 hours 44 mins\n",
       "H2O cluster version:        3.10.0.7\n",
       "H2O cluster version age:    1 month and 7 days\n",
       "H2O cluster name:           H2O_from_python_Kowshik_sg2d5n\n",
       "H2O cluster total nodes:    1\n",
       "H2O cluster free memory:    1.463 Gb\n",
       "H2O cluster total cores:    4\n",
       "H2O cluster allowed cores:  4\n",
       "H2O cluster status:         locked, healthy\n",
       "H2O connection url:         http://localhost:54321\n",
       "H2O connection proxy:\n",
       "Python version:             2.7.10 final\n",
       "--------------------------  ------------------------------"
      ]
     },
     "metadata": {},
     "output_type": "display_data"
    }
   ],
   "source": [
    "h2o.init()"
   ]
  },
  {
   "cell_type": "code",
   "execution_count": 6,
   "metadata": {
    "collapsed": false
   },
   "outputs": [
    {
     "data": {
      "text/plain": [
       "11300"
      ]
     },
     "execution_count": 6,
     "metadata": {},
     "output_type": "execute_result"
    }
   ],
   "source": [
    "565000/50"
   ]
  },
  {
   "cell_type": "code",
   "execution_count": 8,
   "metadata": {
    "collapsed": false
   },
   "outputs": [
    {
     "data": {
      "text/plain": [
       "667250"
      ]
     },
     "execution_count": 8,
     "metadata": {},
     "output_type": "execute_result"
    }
   ],
   "source": [
    "589650+77600"
   ]
  },
  {
   "cell_type": "code",
   "execution_count": null,
   "metadata": {
    "collapsed": true
   },
   "outputs": [],
   "source": []
  }
 ],
 "metadata": {
  "kernelspec": {
   "display_name": "Python 2",
   "language": "python",
   "name": "python2"
  },
  "language_info": {
   "codemirror_mode": {
    "name": "ipython",
    "version": 2
   },
   "file_extension": ".py",
   "mimetype": "text/x-python",
   "name": "python",
   "nbconvert_exporter": "python",
   "pygments_lexer": "ipython2",
   "version": "2.7.10"
  }
 },
 "nbformat": 4,
 "nbformat_minor": 0
}
