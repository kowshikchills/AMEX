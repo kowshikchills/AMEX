{
 "cells": [
  {
   "cell_type": "code",
   "execution_count": 85,
   "metadata": {
    "collapsed": true
   },
   "outputs": [],
   "source": [
    "import pandas\n",
    "data_training = pandas.read_csv('T2.csv') \n",
    "data_testing = pandas.read_csv('validsplit21.csv') "
   ]
  },
  {
   "cell_type": "code",
   "execution_count": 86,
   "metadata": {
    "collapsed": true
   },
   "outputs": [],
   "source": [
    "L1 = data_training['lev_pref1'].values\n",
    "L2 = data_training['lev_pref2'].values\n",
    "M1 = data_testing['lev_pref1'].values\n",
    "M2 = data_testing['lev_pref2'].values"
   ]
  },
  {
   "cell_type": "code",
   "execution_count": 87,
   "metadata": {
    "collapsed": false
   },
   "outputs": [],
   "source": [
    "Train_SET1 = []\n",
    "Test_SET1 = []\n",
    "for i in range(len(L)):\n",
    "    if L1[i]>=5 and L[i]>=5.5:\n",
    "        Train_SET1.append(i)\n",
    "for i in range(len(M)):\n",
    "    if M1[i]>7 and M[i]>4.5:\n",
    "        Test_SET1.append(i)\n",
    "import numpy as np\n",
    "x = set(list(np.arange(len(L))))\n",
    "Train_SET2 = x - set(Train_SET1) \n",
    "data_training_set2 = data_training.drop(data_training.index[Train_SET1])\n",
    "data_training_set1 = data_training.drop(data_training.index[list(Train_SET2)])\n",
    "\n",
    "x = set(list(np.arange(len(M))))\n",
    "Test_SET2 = x - set(Test_SET1) \n",
    "data_testing_set2 = data_testing.drop(data_testing.index[Test_SET1])\n",
    "data_testing_set1 = data_testing.drop(data_testing.index[list(Test_SET2)])\n"
   ]
  },
  {
   "cell_type": "code",
   "execution_count": 88,
   "metadata": {
    "collapsed": false
   },
   "outputs": [],
   "source": [
    "new_features_train = data_training.columns[3:].drop(['Cit_pref1','actual_vote'])\n",
    "new_features_test = data_training.columns[3:].drop(['Cit_pref1','actual_vote'])"
   ]
  },
  {
   "cell_type": "code",
   "execution_count": 89,
   "metadata": {
    "collapsed": false
   },
   "outputs": [],
   "source": [
    "new_features_test= ['Ebony','Odyssey','Tokugawa','mvar32','mvar33','Cosmos','Centaur','city_change','ZIP_pref1','ZIP_pref2','mvar34','mvar35','mvar29','lev_pref1','lev_pref2','ZIP_lev_pref1','ZIP_lev_pref2','mvar27','mvar28','mvar31']\n",
    "Feature = data_testing_set1.columns[3:28]\n",
    "new_features_train= ['Ebony','Odyssey','Tokugawa','Cosmos','Centaur','mvar32','mvar33','city_change','ZIP_pref1','ZIP_pref2','mvar34','mvar35','mvar29','lev_pref1','lev_pref2','ZIP_lev_pref1','ZIP_lev_pref2','mvar27','mvar28','mvar31']\n",
    "new_features_test = new_features_test +  list(Feature)\n",
    "new_features_train = new_features_train + list(Feature)\n",
    "Y_SET1 = data_training_set1['actual_vote'].values\n",
    "Y_SET2 = data_training_set2['actual_vote'].values"
   ]
  },
  {
   "cell_type": "code",
   "execution_count": 90,
   "metadata": {
    "collapsed": false
   },
   "outputs": [],
   "source": [
    "from sklearn.preprocessing import MinMaxScaler\n",
    "MinMax = MinMaxScaler()\n",
    "import warnings\n",
    "warnings.filterwarnings('ignore')\n",
    "\n",
    "for df in [data_testing_set1,data_testing_set2,data_training_set1,data_training_set2]:\n",
    "            for i in Feature:\n",
    "                df[i] = df[i].astype(str)\n",
    "            df = df[new_features_train][:]\n",
    "            df['mvar27'] = df['mvar27'].apply(str)\n",
    "            #df['lev_pref1'] = MinMax.fit_transform(df['lev_pref1'].values)\n",
    "            #df['ZIP_lev_pref1'] = MinMax.fit_transform(df['ZIP_lev_pref1'].values)\n",
    "            #df['ZIP_lev_pref2'] = MinMax.fit_transform(df['ZIP_lev_pref2'].values)\n",
    "            #df['lev_pref2'] = MinMax.fit_transform(df['lev_pref2'].values)\n",
    "            df['mvar35'] = MinMax.fit_transform(df['mvar35'].values)\n",
    "            df['mvar34'] = MinMax.fit_transform(df['mvar34'].values)\n",
    "            df['mvar28'] = MinMax.fit_transform(df['mvar28'].values)\n",
    "            df['mvar31'] = MinMax.fit_transform(df['mvar31'].values)\n",
    "            df['mvar29'] = MinMax.fit_transform(df['mvar29'].values)"
   ]
  },
  {
   "cell_type": "code",
   "execution_count": 91,
   "metadata": {
    "collapsed": true
   },
   "outputs": [],
   "source": [
    "#ENCODING\n",
    "data_training_1 = data_training_set1[new_features_test][:]\n",
    "data_testing_1 = data_testing_set1[new_features_test][:]\n",
    "X_train = data_training_1.to_dict('records')\n",
    "X_test = data_testing_1.to_dict('records')\n",
    "X_tr = []\n",
    "X_te = []\n",
    "X_tr.extend(X_train)\n",
    "X_te.extend(X_test)\n",
    "X_total = X_tr + X_te\n",
    "#One Hot Encoding \n",
    "from sklearn.feature_extraction import DictVectorizer \n",
    "enc = DictVectorizer(sparse = True)\n",
    "X_encoded_total =enc.fit_transform(X_total)\n",
    "X_encoded_train_set1 =X_encoded_total[:len(X_tr)]\n",
    "X_encoded_test_set1 =X_encoded_total[len(X_tr):]"
   ]
  },
  {
   "cell_type": "code",
   "execution_count": 92,
   "metadata": {
    "collapsed": true
   },
   "outputs": [],
   "source": [
    "#ENCODING\n",
    "data_training_2 = data_training_set2[new_features_test][:]\n",
    "data_testing_2 = data_testing_set2[new_features_test][:]\n",
    "X_train = data_training_2.to_dict('records')\n",
    "X_test = data_testing_2.to_dict('records')\n",
    "X_tr = []\n",
    "X_te = []\n",
    "X_tr.extend(X_train)\n",
    "X_te.extend(X_test)\n",
    "X_total = X_tr + X_te\n",
    "#One Hot Encoding \n",
    "from sklearn.feature_extraction import DictVectorizer \n",
    "enc = DictVectorizer(sparse = True)\n",
    "X_encoded_total =enc.fit_transform(X_total)\n",
    "X_encoded_train_set2 =X_encoded_total[:len(X_tr)]\n",
    "X_encoded_test_set2 =X_encoded_total[len(X_tr):]"
   ]
  },
  {
   "cell_type": "code",
   "execution_count": 93,
   "metadata": {
    "collapsed": false
   },
   "outputs": [
    {
     "data": {
      "text/plain": [
       "LogisticRegression(C=0.01, class_weight=None, dual=False, fit_intercept=False,\n",
       "          intercept_scaling=1, max_iter=100, multi_class='ovr', n_jobs=1,\n",
       "          penalty='l2', random_state=None, solver='newton-cg', tol=0.0001,\n",
       "          verbose=0, warm_start=False)"
      ]
     },
     "execution_count": 93,
     "metadata": {},
     "output_type": "execute_result"
    }
   ],
   "source": [
    "from sklearn.linear_model import LogisticRegression\n",
    "clf_SET1 = LogisticRegression(solver = 'newton-cg',fit_intercept = False)\n",
    "clf_SET2 = LogisticRegression(solver  ='newton-cg',fit_intercept = False,C = 0.01)\n",
    "clf_SET1.fit(X_encoded_train_set1,Y_SET1)\n",
    "clf_SET2.fit(X_encoded_train_set2,Y_SET2)"
   ]
  },
  {
   "cell_type": "code",
   "execution_count": 94,
   "metadata": {
    "collapsed": false
   },
   "outputs": [],
   "source": [
    "sol_SET1 =clf_SET1.predict(X_encoded_test_set1.toarray())\n",
    "sol_SET2 =clf_SET2.predict(X_encoded_test_set2.toarray())"
   ]
  },
  {
   "cell_type": "code",
   "execution_count": 95,
   "metadata": {
    "collapsed": false
   },
   "outputs": [],
   "source": [
    "data_testing_set2['Predicted'] = sol_SET2\n",
    "data_testing_set1['Predicted'] = sol_SET1\n",
    "DF1 = data_testing_set1[['citizen_id','Predicted']]\n",
    "DF2 = data_testing_set2[['citizen_id','Predicted']]\n"
   ]
  },
  {
   "cell_type": "code",
   "execution_count": 99,
   "metadata": {
    "collapsed": false
   },
   "outputs": [],
   "source": [
    "import pandas as pd\n",
    "frames = [DF1, DF2]\n",
    "result = pd.concat(frames)"
   ]
  },
  {
   "cell_type": "code",
   "execution_count": 100,
   "metadata": {
    "collapsed": false
   },
   "outputs": [],
   "source": [
    "result.to_csv('F8.csv', index=False, header=False)"
   ]
  },
  {
   "cell_type": "code",
   "execution_count": 88,
   "metadata": {
    "collapsed": true
   },
   "outputs": [],
   "source": [
    "data_testing['Predicted'] = result['Predicted']"
   ]
  },
  {
   "cell_type": "code",
   "execution_count": null,
   "metadata": {
    "collapsed": true
   },
   "outputs": [],
   "source": []
  },
  {
   "cell_type": "code",
   "execution_count": 89,
   "metadata": {
    "collapsed": false
   },
   "outputs": [],
   "source": [
    "df1 = data_testing\n",
    "History_vote = []\n",
    "for i in range(len(df1)):\n",
    "    if df1['Predicted'].values[i] == df1['Predicted'].values[i]:\n",
    "        if df1['party_voted_past'].values[i] == df1['Predicted'].values[i]:\n",
    "             History_vote.append(1)\n",
    "        else:\n",
    "             History_vote.append(0)"
   ]
  },
  {
   "cell_type": "code",
   "execution_count": 92,
   "metadata": {
    "collapsed": false
   },
   "outputs": [
    {
     "data": {
      "text/plain": [
       "17830"
      ]
     },
     "execution_count": 92,
     "metadata": {},
     "output_type": "execute_result"
    }
   ],
   "source": [
    "sum(History_vote)"
   ]
  },
  {
   "cell_type": "code",
   "execution_count": null,
   "metadata": {
    "collapsed": true
   },
   "outputs": [],
   "source": []
  },
  {
   "cell_type": "code",
   "execution_count": null,
   "metadata": {
    "collapsed": true
   },
   "outputs": [],
   "source": []
  },
  {
   "cell_type": "code",
   "execution_count": null,
   "metadata": {
    "collapsed": true
   },
   "outputs": [],
   "source": []
  },
  {
   "cell_type": "code",
   "execution_count": null,
   "metadata": {
    "collapsed": true
   },
   "outputs": [],
   "source": []
  },
  {
   "cell_type": "code",
   "execution_count": null,
   "metadata": {
    "collapsed": true
   },
   "outputs": [],
   "source": []
  },
  {
   "cell_type": "code",
   "execution_count": null,
   "metadata": {
    "collapsed": true
   },
   "outputs": [],
   "source": []
  },
  {
   "cell_type": "code",
   "execution_count": null,
   "metadata": {
    "collapsed": true
   },
   "outputs": [],
   "source": []
  },
  {
   "cell_type": "code",
   "execution_count": null,
   "metadata": {
    "collapsed": true
   },
   "outputs": [],
   "source": []
  },
  {
   "cell_type": "code",
   "execution_count": null,
   "metadata": {
    "collapsed": true
   },
   "outputs": [],
   "source": []
  },
  {
   "cell_type": "code",
   "execution_count": null,
   "metadata": {
    "collapsed": true
   },
   "outputs": [],
   "source": []
  },
  {
   "cell_type": "code",
   "execution_count": null,
   "metadata": {
    "collapsed": true
   },
   "outputs": [],
   "source": []
  },
  {
   "cell_type": "code",
   "execution_count": 78,
   "metadata": {
    "collapsed": false
   },
   "outputs": [
    {
     "name": "stdout",
     "output_type": "stream",
     "text": [
      "# Tuning hyper-parameters for precision\n",
      "()\n",
      "Best parameters set found on development set:\n",
      "()\n",
      "LogisticRegression(C=1.0, class_weight=None, dual=False, fit_intercept=False,\n",
      "          intercept_scaling=1, max_iter=1000, multi_class='ovr', n_jobs=1,\n",
      "          penalty='l2', random_state=None, solver='newton-cg', tol=0.0001,\n",
      "          verbose=0, warm_start=False)\n",
      "()\n",
      "Grid scores on development set:\n",
      "()\n",
      "0.607 (+/-0.006) for {'multi_class': 'ovr'}\n",
      "0.597 (+/-0.006) for {'multi_class': 'multinomial'}\n",
      "()\n",
      "Detailed classification report:\n",
      "()\n",
      "The model is trained on the full development set.\n",
      "The scores are computed on the full evaluation set.\n",
      "()\n",
      "             precision    recall  f1-score   support\n",
      "\n",
      "    Centaur       0.62      0.64      0.63      5794\n",
      "     Cosmos       0.64      0.65      0.65      5970\n",
      "      Ebony       0.57      0.51      0.54      4549\n",
      "    Odyssey       0.61      0.64      0.63      4939\n",
      "   Tokugawa       0.62      0.62      0.62      3809\n",
      "\n",
      "avg / total       0.61      0.62      0.61     25061\n",
      "\n",
      "()\n"
     ]
    }
   ],
   "source": [
    "# Split the dataset in two equal parts\n",
    "from sklearn.cross_validation import train_test_split\n",
    "from sklearn.grid_search import GridSearchCV\n",
    "from sklearn.metrics import classification_report\n",
    "X_train, X_test, y_train, y_test = train_test_split(\n",
    "    X_encoded_train_set1, Y_SET1, test_size=0.75, random_state=0)\n",
    "\n",
    "# Set the parameters by cross-validation\n",
    "tuned_parameters = [{'multi_class': ['ovr','multinomial']}]\n",
    "\n",
    "scores = ['precision']\n",
    "clf10 = LogisticRegression()\n",
    "for score in scores:\n",
    "    print(\"# Tuning hyper-parameters for %s\" % score)\n",
    "    print()\n",
    "\n",
    "    clf = GridSearchCV(clf_SET1, tuned_parameters, cv=5, scoring=score)\n",
    "    clf.fit(X_train, y_train)\n",
    "\n",
    "    print(\"Best parameters set found on development set:\")\n",
    "    print()\n",
    "    print(clf.best_estimator_)\n",
    "    print()\n",
    "    print(\"Grid scores on development set:\")\n",
    "    print()\n",
    "    for params, mean_score, scores in clf.grid_scores_:\n",
    "        print(\"%0.3f (+/-%0.03f) for %r\"\n",
    "              % (mean_score, scores.std() / 2, params))\n",
    "    print()\n",
    "\n",
    "    print(\"Detailed classification report:\")\n",
    "    print()\n",
    "    print(\"The model is trained on the full development set.\")\n",
    "    print(\"The scores are computed on the full evaluation set.\")\n",
    "    print()\n",
    "    y_true, y_pred = y_test, clf.predict(X_test)\n",
    "    print(classification_report(y_true, y_pred))\n",
    "    print()"
   ]
  },
  {
   "cell_type": "code",
   "execution_count": 11,
   "metadata": {
    "collapsed": false
   },
   "outputs": [
    {
     "name": "stdout",
     "output_type": "stream",
     "text": [
      "Checking whether there is an H2O instance running at http://localhost:54321..... not found.\n",
      "Attempting to start a local H2O server...\n"
     ]
    },
    {
     "ename": "H2OStartupError",
     "evalue": "Cannot find Java. Please install the latest JDK from\nhttp://www.oracle.com/technetwork/java/javase/downloads/index.html",
     "output_type": "error",
     "traceback": [
      "\u001b[1;31m---------------------------------------------------------------------------\u001b[0m",
      "\u001b[1;31mH2OStartupError\u001b[0m                           Traceback (most recent call last)",
      "\u001b[1;32m<ipython-input-11-07f8bb8f27db>\u001b[0m in \u001b[0;36m<module>\u001b[1;34m()\u001b[0m\n\u001b[0;32m      1\u001b[0m \u001b[1;32mimport\u001b[0m \u001b[0mh2o\u001b[0m\u001b[1;33m\u001b[0m\u001b[0m\n\u001b[1;32m----> 2\u001b[1;33m \u001b[0mh2o\u001b[0m\u001b[1;33m.\u001b[0m\u001b[0minit\u001b[0m\u001b[1;33m(\u001b[0m\u001b[1;33m)\u001b[0m\u001b[1;33m\u001b[0m\u001b[0m\n\u001b[0m",
      "\u001b[1;32mC:\\Users\\Kowshik\\AppData\\Local\\Enthought\\Canopy\\User\\lib\\site-packages\\h2o\\h2o.pyc\u001b[0m in \u001b[0;36minit\u001b[1;34m(url, ip, port, https, insecure, username, password, cluster_id, proxy, start_h2o, nthreads, ice_root, enable_assertions, max_mem_size, min_mem_size, strict_version_check, **kwargs)\u001b[0m\n\u001b[0;32m    204\u001b[0m         \u001b[1;32mif\u001b[0m \u001b[1;32mnot\u001b[0m \u001b[0mstart_h2o\u001b[0m\u001b[1;33m:\u001b[0m \u001b[1;32mraise\u001b[0m\u001b[1;33m\u001b[0m\u001b[0m\n\u001b[0;32m    205\u001b[0m         hs = H2OLocalServer.start(nthreads=nthreads, enable_assertions=enable_assertions, max_mem_size=mmax,\n\u001b[1;32m--> 206\u001b[1;33m                                   min_mem_size=mmin, ice_root=ice_root, port=port)\n\u001b[0m\u001b[0;32m    207\u001b[0m         h2oconn = H2OConnection.open(server=hs, https=https, verify_ssl_certificates=not insecure,\n\u001b[0;32m    208\u001b[0m                                      auth=auth, proxy=proxy, cluster_id=cluster_id, verbose=True)\n",
      "\u001b[1;32mC:\\Users\\Kowshik\\AppData\\Local\\Enthought\\Canopy\\User\\lib\\site-packages\\h2o\\backend\\server.pyc\u001b[0m in \u001b[0;36mstart\u001b[1;34m(jar_path, nthreads, enable_assertions, max_mem_size, min_mem_size, ice_root, port, verbose)\u001b[0m\n\u001b[0;32m    115\u001b[0m         \u001b[1;32mif\u001b[0m \u001b[0mverbose\u001b[0m\u001b[1;33m:\u001b[0m \u001b[1;32mprint\u001b[0m\u001b[1;33m(\u001b[0m\u001b[1;34m\"Attempting to start a local H2O server...\"\u001b[0m\u001b[1;33m)\u001b[0m\u001b[1;33m\u001b[0m\u001b[0m\n\u001b[0;32m    116\u001b[0m         hs._launch_server(port=port, baseport=baseport, nthreads=int(nthreads), ea=enable_assertions,\n\u001b[1;32m--> 117\u001b[1;33m                           mmax=max_mem_size, mmin=min_mem_size)\n\u001b[0m\u001b[0;32m    118\u001b[0m         \u001b[1;32mif\u001b[0m \u001b[0mverbose\u001b[0m\u001b[1;33m:\u001b[0m \u001b[1;32mprint\u001b[0m\u001b[1;33m(\u001b[0m\u001b[1;34m\"  Server is running at %s://%s:%d\"\u001b[0m \u001b[1;33m%\u001b[0m \u001b[1;33m(\u001b[0m\u001b[0mhs\u001b[0m\u001b[1;33m.\u001b[0m\u001b[0mscheme\u001b[0m\u001b[1;33m,\u001b[0m \u001b[0mhs\u001b[0m\u001b[1;33m.\u001b[0m\u001b[0mip\u001b[0m\u001b[1;33m,\u001b[0m \u001b[0mhs\u001b[0m\u001b[1;33m.\u001b[0m\u001b[0mport\u001b[0m\u001b[1;33m)\u001b[0m\u001b[1;33m)\u001b[0m\u001b[1;33m\u001b[0m\u001b[0m\n\u001b[0;32m    119\u001b[0m         \u001b[0matexit\u001b[0m\u001b[1;33m.\u001b[0m\u001b[0mregister\u001b[0m\u001b[1;33m(\u001b[0m\u001b[1;32mlambda\u001b[0m\u001b[1;33m:\u001b[0m \u001b[0mhs\u001b[0m\u001b[1;33m.\u001b[0m\u001b[0mshutdown\u001b[0m\u001b[1;33m(\u001b[0m\u001b[1;33m)\u001b[0m\u001b[1;33m)\u001b[0m\u001b[1;33m\u001b[0m\u001b[0m\n",
      "\u001b[1;32mC:\\Users\\Kowshik\\AppData\\Local\\Enthought\\Canopy\\User\\lib\\site-packages\\h2o\\backend\\server.pyc\u001b[0m in \u001b[0;36m_launch_server\u001b[1;34m(self, port, baseport, mmax, mmin, ea, nthreads)\u001b[0m\n\u001b[0;32m    229\u001b[0m \u001b[1;33m\u001b[0m\u001b[0m\n\u001b[0;32m    230\u001b[0m         \u001b[1;31m# Find Java and check version. (Note that subprocess.check_output returns the output as a bytes object)\u001b[0m\u001b[1;33m\u001b[0m\u001b[1;33m\u001b[0m\u001b[0m\n\u001b[1;32m--> 231\u001b[1;33m         \u001b[0mjava\u001b[0m \u001b[1;33m=\u001b[0m \u001b[0mself\u001b[0m\u001b[1;33m.\u001b[0m\u001b[0m_find_java\u001b[0m\u001b[1;33m(\u001b[0m\u001b[1;33m)\u001b[0m\u001b[1;33m\u001b[0m\u001b[0m\n\u001b[0m\u001b[0;32m    232\u001b[0m         \u001b[0mjver_bytes\u001b[0m \u001b[1;33m=\u001b[0m \u001b[0msubprocess\u001b[0m\u001b[1;33m.\u001b[0m\u001b[0mcheck_output\u001b[0m\u001b[1;33m(\u001b[0m\u001b[1;33m[\u001b[0m\u001b[0mjava\u001b[0m\u001b[1;33m,\u001b[0m \u001b[1;34m\"-version\"\u001b[0m\u001b[1;33m]\u001b[0m\u001b[1;33m,\u001b[0m \u001b[0mstderr\u001b[0m\u001b[1;33m=\u001b[0m\u001b[0msubprocess\u001b[0m\u001b[1;33m.\u001b[0m\u001b[0mSTDOUT\u001b[0m\u001b[1;33m)\u001b[0m\u001b[1;33m\u001b[0m\u001b[0m\n\u001b[0;32m    233\u001b[0m         \u001b[0mjver\u001b[0m \u001b[1;33m=\u001b[0m \u001b[0mjver_bytes\u001b[0m\u001b[1;33m.\u001b[0m\u001b[0mdecode\u001b[0m\u001b[1;33m(\u001b[0m\u001b[0mencoding\u001b[0m\u001b[1;33m=\u001b[0m\u001b[1;34m\"utf-8\"\u001b[0m\u001b[1;33m,\u001b[0m \u001b[0merrors\u001b[0m\u001b[1;33m=\u001b[0m\u001b[1;34m\"ignore\"\u001b[0m\u001b[1;33m)\u001b[0m\u001b[1;33m\u001b[0m\u001b[0m\n",
      "\u001b[1;32mC:\\Users\\Kowshik\\AppData\\Local\\Enthought\\Canopy\\User\\lib\\site-packages\\h2o\\backend\\server.pyc\u001b[0m in \u001b[0;36m_find_java\u001b[1;34m()\u001b[0m\n\u001b[0;32m    348\u001b[0m                     \u001b[0mwarn\u001b[0m\u001b[1;33m(\u001b[0m\u001b[1;34m\"Found JRE at \"\u001b[0m \u001b[1;33m+\u001b[0m \u001b[0mpath\u001b[0m \u001b[1;33m+\u001b[0m \u001b[1;34m\"; but H2O requires the JDK to run.\"\u001b[0m\u001b[1;33m)\u001b[0m\u001b[1;33m\u001b[0m\u001b[0m\n\u001b[0;32m    349\u001b[0m         \u001b[1;31m# not found...\u001b[0m\u001b[1;33m\u001b[0m\u001b[1;33m\u001b[0m\u001b[0m\n\u001b[1;32m--> 350\u001b[1;33m         raise H2OStartupError(\"Cannot find Java. Please install the latest JDK from\\n\"\n\u001b[0m\u001b[0;32m    351\u001b[0m                               \"http://www.oracle.com/technetwork/java/javase/downloads/index.html\")\n\u001b[0;32m    352\u001b[0m \u001b[1;33m\u001b[0m\u001b[0m\n",
      "\u001b[1;31mH2OStartupError\u001b[0m: Cannot find Java. Please install the latest JDK from\nhttp://www.oracle.com/technetwork/java/javase/downloads/index.html"
     ]
    }
   ],
   "source": [
    "import h2o\n",
    "h2o.init()"
   ]
  },
  {
   "cell_type": "code",
   "execution_count": 84,
   "metadata": {
    "collapsed": false
   },
   "outputs": [
    {
     "data": {
      "text/plain": [
       "669450"
      ]
     },
     "execution_count": 84,
     "metadata": {},
     "output_type": "execute_result"
    }
   ],
   "source": [
    "79150 +590300"
   ]
  },
  {
   "cell_type": "code",
   "execution_count": null,
   "metadata": {
    "collapsed": true
   },
   "outputs": [],
   "source": []
  }
 ],
 "metadata": {
  "kernelspec": {
   "display_name": "Python 2",
   "language": "python",
   "name": "python2"
  },
  "language_info": {
   "codemirror_mode": {
    "name": "ipython",
    "version": 2
   },
   "file_extension": ".py",
   "mimetype": "text/x-python",
   "name": "python",
   "nbconvert_exporter": "python",
   "pygments_lexer": "ipython2",
   "version": "2.7.10"
  }
 },
 "nbformat": 4,
 "nbformat_minor": 0
}
