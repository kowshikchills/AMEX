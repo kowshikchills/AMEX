{
 "cells": [
  {
   "cell_type": "code",
   "execution_count": 142,
   "metadata": {
    "collapsed": true
   },
   "outputs": [],
   "source": [
    "import pandas\n",
    "data_training = pandas.read_csv('T.csv') \n",
    "data_testing = pandas.read_csv('V.csv') "
   ]
  },
  {
   "cell_type": "code",
   "execution_count": 143,
   "metadata": {
    "collapsed": false
   },
   "outputs": [],
   "source": [
    "df1 = data_training\n",
    "History_vote = []\n",
    "Rows = []\n",
    "for i in range(len(df1)):\n",
    "    if df1['actual_vote'].values[i] != df1['Cit_pref1'].values[i] and df1['actual_vote'].values[i] != df1['party_voted_past'].values[i] and df1['actual_vote'].values[i] != df1['ZIP_pref1'].values[i] and df1['actual_vote'].values[i] != df1['ZIP_pref2'].values[i] and df1['actual_vote'].values[i] != df1['Cit_pref2'].values[i]:\n",
    "        History_vote.append(1)\n",
    "        Rows.append(i)\n",
    "    else:\n",
    "        History_vote.append(0)"
   ]
  },
  {
   "cell_type": "code",
   "execution_count": null,
   "metadata": {
    "collapsed": true
   },
   "outputs": [],
   "source": []
  },
  {
   "cell_type": "code",
   "execution_count": 145,
   "metadata": {
    "collapsed": true
   },
   "outputs": [],
   "source": [
    "x = set(list(np.arange(len(data_training))))\n",
    "y = x - set(Rows)"
   ]
  },
  {
   "cell_type": "code",
   "execution_count": 153,
   "metadata": {
    "collapsed": false
   },
   "outputs": [],
   "source": [
    "Inlayer_frame = data_training.ix[list(y)]"
   ]
  },
  {
   "cell_type": "code",
   "execution_count": null,
   "metadata": {
    "collapsed": true
   },
   "outputs": [],
   "source": []
  },
  {
   "cell_type": "code",
   "execution_count": 176,
   "metadata": {
    "collapsed": false
   },
   "outputs": [],
   "source": [
    "new_features_test= ['Ebony','Odyssey','Tokugawa','mvar32','mvar33','Cosmos','Centaur','city_change','ZIP_pref1','ZIP_pref2','mvar34','mvar35','mvar29','lev_pref1','lev_pref2','ZIP_lev_pref1','ZIP_lev_pref2','mvar27','mvar28','mvar31']\n",
    "Feature = data_testing_set1.columns[3:28]\n",
    "new_features_train= ['Ebony','Odyssey','Tokugawa','Cosmos','Centaur','mvar32','mvar33','city_change','ZIP_pref1','ZIP_pref2','mvar34','mvar35','mvar29','lev_pref1','lev_pref2','ZIP_lev_pref1','ZIP_lev_pref2','mvar27','mvar28','mvar31']\n",
    "new_features_test = new_features_test +  list(Feature)\n",
    "new_features_train = new_features_train + list(Feature)\n",
    "Y = Inlayer_frame['actual_vote'].values"
   ]
  },
  {
   "cell_type": "code",
   "execution_count": 155,
   "metadata": {
    "collapsed": false
   },
   "outputs": [],
   "source": [
    "from sklearn.preprocessing import MinMaxScaler\n",
    "MinMax = MinMaxScaler()\n",
    "import warnings\n",
    "warnings.filterwarnings('ignore')\n",
    "\n",
    "for df in [Inlayer_frame,data_testing]:\n",
    "            for i in Feature:\n",
    "                df[i] = df[i].astype(str)\n",
    "            df = df[new_features_train][:]\n",
    "            df['mvar27'] = df['mvar27'].apply(str)\n",
    "            #df['lev_pref1'] = MinMax.fit_transform(df['lev_pref1'].values)\n",
    "            #df['ZIP_lev_pref1'] = MinMax.fit_transform(df['ZIP_lev_pref1'].values)\n",
    "            #df['ZIP_lev_pref2'] = MinMax.fit_transform(df['ZIP_lev_pref2'].values)\n",
    "            #df['lev_pref2'] = MinMax.fit_transform(df['lev_pref2'].values)\n",
    "            df['mvar35'] = MinMax.fit_transform(df['mvar35'].values)\n",
    "            df['mvar34'] = MinMax.fit_transform(df['mvar34'].values)\n",
    "            df['mvar28'] = MinMax.fit_transform(df['mvar28'].values)\n",
    "            df['mvar31'] = MinMax.fit_transform(df['mvar31'].values)\n",
    "            df['mvar29'] = MinMax.fit_transform(df['mvar29'].values)"
   ]
  },
  {
   "cell_type": "code",
   "execution_count": 195,
   "metadata": {
    "collapsed": true
   },
   "outputs": [],
   "source": [
    "#ENCODING\n",
    "data_training_1 = Inlayer_frame[new_features_test][:]\n",
    "data_testing_1 = data_testing[new_features_test][:]\n",
    "X_train = data_training_1.to_dict('records')\n",
    "X_test = data_testing_1.to_dict('records')\n",
    "X_tr = []\n",
    "X_te = []\n",
    "X_tr.extend(X_train)\n",
    "X_te.extend(X_test)\n",
    "X_total = X_tr + X_te\n",
    "#One Hot Encoding \n",
    "from sklearn.feature_extraction import DictVectorizer \n",
    "enc = DictVectorizer(sparse = True)\n",
    "X_encoded_total =enc.fit_transform(X_total)\n",
    "X_encoded_train_set1 =X_encoded_total[:len(X_tr)]\n",
    "X_encoded_test_set1 =X_encoded_total[len(X_tr):]"
   ]
  },
  {
   "cell_type": "code",
   "execution_count": 197,
   "metadata": {
    "collapsed": false
   },
   "outputs": [
    {
     "data": {
      "text/plain": [
       "OneClassSVM(cache_size=200, coef0=0.0, degree=3, gamma='auto', kernel='rbf',\n",
       "      max_iter=-1, nu=0.5, random_state=None, shrinking=True, tol=0.001,\n",
       "      verbose=False)"
      ]
     },
     "execution_count": 197,
     "metadata": {},
     "output_type": "execute_result"
    }
   ],
   "source": [
    "from sklearn.svm import OneClassSVM\n",
    "clf  =OneClassSVM()\n",
    "clf.fit(X_encoded_train_set1,Y )"
   ]
  },
  {
   "cell_type": "code",
   "execution_count": 198,
   "metadata": {
    "collapsed": false
   },
   "outputs": [],
   "source": [
    "sol_SET1 =clf.predict(X_encoded_test_set1.toarray())"
   ]
  },
  {
   "cell_type": "code",
   "execution_count": 199,
   "metadata": {
    "collapsed": false
   },
   "outputs": [],
   "source": [
    "data_testing['Outlayers'] = sol_SET1\n",
    "data_testing.to_csv('Outlayers.csv')"
   ]
  },
  {
   "cell_type": "code",
   "execution_count": 260,
   "metadata": {
    "collapsed": true
   },
   "outputs": [],
   "source": [
    "import pandas\n",
    "data_training = pandas.read_csv('T.csv') \n",
    "data_testing = pandas.read_csv('V.csv') "
   ]
  },
  {
   "cell_type": "code",
   "execution_count": 261,
   "metadata": {
    "collapsed": true
   },
   "outputs": [],
   "source": [
    "L1 = data_training['lev_pref1'].values\n",
    "L2 = data_training['lev_pref2'].values\n",
    "M1 = data_testing['lev_pref1'].values\n",
    "M2 = data_testing['lev_pref2'].values"
   ]
  },
  {
   "cell_type": "code",
   "execution_count": 262,
   "metadata": {
    "collapsed": true
   },
   "outputs": [],
   "source": [
    "L = L1 - L2\n",
    "M = M1 - M2"
   ]
  },
  {
   "cell_type": "code",
   "execution_count": 272,
   "metadata": {
    "collapsed": true
   },
   "outputs": [],
   "source": [
    "Train_SET1 = []\n",
    "Test_SET1 = []\n",
    "for i in range(len(L)):\n",
    "    if L1[i]>=5 and L[i]>=5:\n",
    "        Train_SET1.append(i)\n",
    "for i in range(len(M)):\n",
    "    if M1[i]>5 and M[i]>6:\n",
    "        Test_SET1.append(i)\n",
    "import numpy as np\n",
    "x = set(list(np.arange(len(L))))\n",
    "Train_SET2 = x - set(Train_SET1) \n",
    "data_training_set2 = data_training.drop(data_training.index[Train_SET1])\n",
    "data_training_set1 = data_training.drop(data_training.index[list(Train_SET2)])\n",
    "\n",
    "x = set(list(np.arange(len(M))))\n",
    "Test_SET2 = x - set(Test_SET1) \n",
    "data_testing_set2 = data_testing.drop(data_testing.index[Test_SET1])\n",
    "data_testing_set1 = data_testing.drop(data_testing.index[list(Test_SET2)])"
   ]
  },
  {
   "cell_type": "code",
   "execution_count": 273,
   "metadata": {
    "collapsed": true
   },
   "outputs": [],
   "source": [
    "df1 = data_training_set1\n",
    "History_vote = []\n",
    "for i in range(len(df1)):\n",
    "    if df1['actual_vote'].values[i] == df1['actual_vote'].values[i]:\n",
    "        if df1['actual_vote'].values[i] != df1['Cit_pref1'].values[i] and df1['actual_vote'].values[i] != df1['party_voted_past'].values[i]:\n",
    "             History_vote.append(1)\n",
    "        else:\n",
    "             History_vote.append(0)"
   ]
  },
  {
   "cell_type": "code",
   "execution_count": 278,
   "metadata": {
    "collapsed": false
   },
   "outputs": [
    {
     "data": {
      "text/plain": [
       "2467"
      ]
     },
     "execution_count": 278,
     "metadata": {},
     "output_type": "execute_result"
    }
   ],
   "source": [
    "list(data_testing_set1['Outlayers'].values).count(1)"
   ]
  },
  {
   "cell_type": "code",
   "execution_count": 279,
   "metadata": {
    "collapsed": false
   },
   "outputs": [
    {
     "data": {
      "text/plain": [
       "4678"
      ]
     },
     "execution_count": 279,
     "metadata": {},
     "output_type": "execute_result"
    }
   ],
   "source": [
    "len(data_testing_set1)"
   ]
  },
  {
   "cell_type": "code",
   "execution_count": null,
   "metadata": {
    "collapsed": true
   },
   "outputs": [],
   "source": []
  },
  {
   "cell_type": "code",
   "execution_count": null,
   "metadata": {
    "collapsed": true
   },
   "outputs": [],
   "source": []
  },
  {
   "cell_type": "code",
   "execution_count": null,
   "metadata": {
    "collapsed": true
   },
   "outputs": [],
   "source": []
  },
  {
   "cell_type": "code",
   "execution_count": null,
   "metadata": {
    "collapsed": true
   },
   "outputs": [],
   "source": []
  },
  {
   "cell_type": "code",
   "execution_count": null,
   "metadata": {
    "collapsed": true
   },
   "outputs": [],
   "source": []
  },
  {
   "cell_type": "code",
   "execution_count": null,
   "metadata": {
    "collapsed": true
   },
   "outputs": [],
   "source": []
  },
  {
   "cell_type": "code",
   "execution_count": null,
   "metadata": {
    "collapsed": true
   },
   "outputs": [],
   "source": []
  },
  {
   "cell_type": "code",
   "execution_count": null,
   "metadata": {
    "collapsed": true
   },
   "outputs": [],
   "source": []
  },
  {
   "cell_type": "code",
   "execution_count": null,
   "metadata": {
    "collapsed": true
   },
   "outputs": [],
   "source": []
  },
  {
   "cell_type": "code",
   "execution_count": null,
   "metadata": {
    "collapsed": true
   },
   "outputs": [],
   "source": []
  },
  {
   "cell_type": "code",
   "execution_count": null,
   "metadata": {
    "collapsed": true
   },
   "outputs": [],
   "source": [
    "df1 = data_training_set2\n",
    "History_vote = []\n",
    "Rows = []\n",
    "for i in range(len(df1)):\n",
    "    if df1['actual_vote'].values[i] != df1['Cit_pref1'].values[i] and df1['actual_vote'].values[i] != df1['party_voted_past'].values[i] and df1['actual_vote'].values[i] != df1['ZIP_pref1'].values[i] and df1['actual_vote'].values[i] != df1['ZIP_pref2'].values[i] and df1['actual_vote'].values[i] != df1['Cit_pref2'].values[i]:\n",
    "        History_vote.append(1)\n",
    "        Rows.append(i)\n",
    "    else:\n",
    "        History_vote.append(0)"
   ]
  },
  {
   "cell_type": "code",
   "execution_count": null,
   "metadata": {
    "collapsed": true
   },
   "outputs": [],
   "source": []
  },
  {
   "cell_type": "code",
   "execution_count": null,
   "metadata": {
    "collapsed": true
   },
   "outputs": [],
   "source": []
  },
  {
   "cell_type": "code",
   "execution_count": null,
   "metadata": {
    "collapsed": true
   },
   "outputs": [],
   "source": []
  },
  {
   "cell_type": "code",
   "execution_count": null,
   "metadata": {
    "collapsed": true
   },
   "outputs": [],
   "source": []
  },
  {
   "cell_type": "code",
   "execution_count": null,
   "metadata": {
    "collapsed": true
   },
   "outputs": [],
   "source": []
  },
  {
   "cell_type": "code",
   "execution_count": null,
   "metadata": {
    "collapsed": true
   },
   "outputs": [],
   "source": []
  },
  {
   "cell_type": "code",
   "execution_count": null,
   "metadata": {
    "collapsed": true
   },
   "outputs": [],
   "source": []
  },
  {
   "cell_type": "code",
   "execution_count": null,
   "metadata": {
    "collapsed": true
   },
   "outputs": [],
   "source": []
  },
  {
   "cell_type": "code",
   "execution_count": null,
   "metadata": {
    "collapsed": true
   },
   "outputs": [],
   "source": []
  },
  {
   "cell_type": "code",
   "execution_count": null,
   "metadata": {
    "collapsed": true
   },
   "outputs": [],
   "source": []
  },
  {
   "cell_type": "code",
   "execution_count": null,
   "metadata": {
    "collapsed": true
   },
   "outputs": [],
   "source": []
  },
  {
   "cell_type": "code",
   "execution_count": null,
   "metadata": {
    "collapsed": true
   },
   "outputs": [],
   "source": []
  },
  {
   "cell_type": "code",
   "execution_count": null,
   "metadata": {
    "collapsed": true
   },
   "outputs": [],
   "source": []
  },
  {
   "cell_type": "code",
   "execution_count": null,
   "metadata": {
    "collapsed": true
   },
   "outputs": [],
   "source": []
  },
  {
   "cell_type": "code",
   "execution_count": null,
   "metadata": {
    "collapsed": true
   },
   "outputs": [],
   "source": []
  },
  {
   "cell_type": "code",
   "execution_count": null,
   "metadata": {
    "collapsed": true
   },
   "outputs": [],
   "source": []
  },
  {
   "cell_type": "code",
   "execution_count": null,
   "metadata": {
    "collapsed": true
   },
   "outputs": [],
   "source": []
  },
  {
   "cell_type": "code",
   "execution_count": null,
   "metadata": {
    "collapsed": true
   },
   "outputs": [],
   "source": []
  },
  {
   "cell_type": "code",
   "execution_count": null,
   "metadata": {
    "collapsed": true
   },
   "outputs": [],
   "source": []
  },
  {
   "cell_type": "code",
   "execution_count": 80,
   "metadata": {
    "collapsed": false
   },
   "outputs": [],
   "source": [
    "sol_SET1 =clf_SET1.predict(X_encoded_test_set1.toarray())\n",
    "sol_SET2 =clf_SET2.predict(X_encoded_test_set2.toarray())"
   ]
  },
  {
   "cell_type": "code",
   "execution_count": 81,
   "metadata": {
    "collapsed": false
   },
   "outputs": [],
   "source": [
    "data_testing_set2['Predicted'] = sol_SET2\n",
    "data_testing_set1['Predicted'] = sol_SET1\n",
    "DF1 = data_testing_set1[['citizen_id','Predicted']]\n",
    "DF2 = data_testing_set2[['citizen_id','Predicted']]\n"
   ]
  },
  {
   "cell_type": "code",
   "execution_count": 82,
   "metadata": {
    "collapsed": false
   },
   "outputs": [],
   "source": [
    "import pandas as pd\n",
    "frames = [DF1, DF2]\n",
    "result = pd.concat(frames)"
   ]
  },
  {
   "cell_type": "code",
   "execution_count": 83,
   "metadata": {
    "collapsed": false
   },
   "outputs": [],
   "source": [
    "result.to_csv('Fi9.csv', index=False, header=False)"
   ]
  },
  {
   "cell_type": "code",
   "execution_count": 88,
   "metadata": {
    "collapsed": true
   },
   "outputs": [],
   "source": [
    "data_testing['Predicted'] = result['Predicted']"
   ]
  },
  {
   "cell_type": "code",
   "execution_count": null,
   "metadata": {
    "collapsed": true
   },
   "outputs": [],
   "source": []
  },
  {
   "cell_type": "code",
   "execution_count": 89,
   "metadata": {
    "collapsed": false
   },
   "outputs": [],
   "source": [
    "df1 = data_testing\n",
    "History_vote = []\n",
    "for i in range(len(df1)):\n",
    "    if df1['Predicted'].values[i] == df1['Predicted'].values[i]:\n",
    "        if df1['party_voted_past'].values[i] == df1['Predicted'].values[i]:\n",
    "             History_vote.append(1)\n",
    "        else:\n",
    "             History_vote.append(0)"
   ]
  },
  {
   "cell_type": "code",
   "execution_count": 92,
   "metadata": {
    "collapsed": false
   },
   "outputs": [
    {
     "data": {
      "text/plain": [
       "17830"
      ]
     },
     "execution_count": 92,
     "metadata": {},
     "output_type": "execute_result"
    }
   ],
   "source": [
    "sum(History_vote)"
   ]
  },
  {
   "cell_type": "code",
   "execution_count": null,
   "metadata": {
    "collapsed": true
   },
   "outputs": [],
   "source": []
  },
  {
   "cell_type": "code",
   "execution_count": null,
   "metadata": {
    "collapsed": true
   },
   "outputs": [],
   "source": []
  },
  {
   "cell_type": "code",
   "execution_count": null,
   "metadata": {
    "collapsed": true
   },
   "outputs": [],
   "source": []
  },
  {
   "cell_type": "code",
   "execution_count": null,
   "metadata": {
    "collapsed": true
   },
   "outputs": [],
   "source": []
  },
  {
   "cell_type": "code",
   "execution_count": null,
   "metadata": {
    "collapsed": true
   },
   "outputs": [],
   "source": []
  },
  {
   "cell_type": "code",
   "execution_count": null,
   "metadata": {
    "collapsed": true
   },
   "outputs": [],
   "source": []
  },
  {
   "cell_type": "code",
   "execution_count": null,
   "metadata": {
    "collapsed": true
   },
   "outputs": [],
   "source": []
  },
  {
   "cell_type": "code",
   "execution_count": null,
   "metadata": {
    "collapsed": true
   },
   "outputs": [],
   "source": []
  },
  {
   "cell_type": "code",
   "execution_count": null,
   "metadata": {
    "collapsed": true
   },
   "outputs": [],
   "source": []
  },
  {
   "cell_type": "code",
   "execution_count": null,
   "metadata": {
    "collapsed": true
   },
   "outputs": [],
   "source": []
  },
  {
   "cell_type": "code",
   "execution_count": null,
   "metadata": {
    "collapsed": true
   },
   "outputs": [],
   "source": []
  },
  {
   "cell_type": "code",
   "execution_count": 78,
   "metadata": {
    "collapsed": false
   },
   "outputs": [
    {
     "name": "stdout",
     "output_type": "stream",
     "text": [
      "# Tuning hyper-parameters for precision\n",
      "()\n",
      "Best parameters set found on development set:\n",
      "()\n",
      "LogisticRegression(C=1.0, class_weight=None, dual=False, fit_intercept=False,\n",
      "          intercept_scaling=1, max_iter=1000, multi_class='ovr', n_jobs=1,\n",
      "          penalty='l2', random_state=None, solver='newton-cg', tol=0.0001,\n",
      "          verbose=0, warm_start=False)\n",
      "()\n",
      "Grid scores on development set:\n",
      "()\n",
      "0.607 (+/-0.006) for {'multi_class': 'ovr'}\n",
      "0.597 (+/-0.006) for {'multi_class': 'multinomial'}\n",
      "()\n",
      "Detailed classification report:\n",
      "()\n",
      "The model is trained on the full development set.\n",
      "The scores are computed on the full evaluation set.\n",
      "()\n",
      "             precision    recall  f1-score   support\n",
      "\n",
      "    Centaur       0.62      0.64      0.63      5794\n",
      "     Cosmos       0.64      0.65      0.65      5970\n",
      "      Ebony       0.57      0.51      0.54      4549\n",
      "    Odyssey       0.61      0.64      0.63      4939\n",
      "   Tokugawa       0.62      0.62      0.62      3809\n",
      "\n",
      "avg / total       0.61      0.62      0.61     25061\n",
      "\n",
      "()\n"
     ]
    }
   ],
   "source": [
    "# Split the dataset in two equal parts\n",
    "from sklearn.cross_validation import train_test_split\n",
    "from sklearn.grid_search import GridSearchCV\n",
    "from sklearn.metrics import classification_report\n",
    "X_train, X_test, y_train, y_test = train_test_split(\n",
    "    X_encoded_train_set1, Y_SET1, test_size=0.75, random_state=0)\n",
    "\n",
    "# Set the parameters by cross-validation\n",
    "tuned_parameters = [{'multi_class': ['ovr','multinomial']}]\n",
    "\n",
    "scores = ['precision']\n",
    "clf10 = LogisticRegression()\n",
    "for score in scores:\n",
    "    print(\"# Tuning hyper-parameters for %s\" % score)\n",
    "    print()\n",
    "\n",
    "    clf = GridSearchCV(clf_SET1, tuned_parameters, cv=5, scoring=score)\n",
    "    clf.fit(X_train, y_train)\n",
    "\n",
    "    print(\"Best parameters set found on development set:\")\n",
    "    print()\n",
    "    print(clf.best_estimator_)\n",
    "    print()\n",
    "    print(\"Grid scores on development set:\")\n",
    "    print()\n",
    "    for params, mean_score, scores in clf.grid_scores_:\n",
    "        print(\"%0.3f (+/-%0.03f) for %r\"\n",
    "              % (mean_score, scores.std() / 2, params))\n",
    "    print()\n",
    "\n",
    "    print(\"Detailed classification report:\")\n",
    "    print()\n",
    "    print(\"The model is trained on the full development set.\")\n",
    "    print(\"The scores are computed on the full evaluation set.\")\n",
    "    print()\n",
    "    y_true, y_pred = y_test, clf.predict(X_test)\n",
    "    print(classification_report(y_true, y_pred))\n",
    "    print()"
   ]
  },
  {
   "cell_type": "code",
   "execution_count": 161,
   "metadata": {
    "collapsed": false
   },
   "outputs": [
    {
     "data": {
      "text/plain": [
       "['ERROR: unknown command \"update\"', '']"
      ]
     },
     "execution_count": 161,
     "metadata": {},
     "output_type": "execute_result"
    }
   ],
   "source": [
    "!!pip update scikit-learn"
   ]
  },
  {
   "cell_type": "code",
   "execution_count": 172,
   "metadata": {
    "collapsed": false
   },
   "outputs": [
    {
     "data": {
      "text/plain": [
       "['Uninstalling scikit-learn-0.18:',\n",
       " '  c:\\\\users\\\\kowshik\\\\appdata\\\\local\\\\enthought\\\\canopy\\\\user\\\\lib\\\\site-packages\\\\scikit_learn-0.18.dist-info\\\\description.rst',\n",
       " '  c:\\\\users\\\\kowshik\\\\appdata\\\\local\\\\enthought\\\\canopy\\\\user\\\\lib\\\\site-packages\\\\scikit_learn-0.18.dist-info\\\\installer',\n",
       " '  c:\\\\users\\\\kowshik\\\\appdata\\\\local\\\\enthought\\\\canopy\\\\user\\\\lib\\\\site-packages\\\\scikit_learn-0.18.dist-info\\\\metadata',\n",
       " '  c:\\\\users\\\\kowshik\\\\appdata\\\\local\\\\enthought\\\\canopy\\\\user\\\\lib\\\\site-packages\\\\scikit_learn-0.18.dist-info\\\\metadata.json',\n",
       " '  c:\\\\users\\\\kowshik\\\\appdata\\\\local\\\\enthought\\\\canopy\\\\user\\\\lib\\\\site-packages\\\\scikit_learn-0.18.dist-info\\\\record',\n",
       " '  c:\\\\users\\\\kowshik\\\\appdata\\\\local\\\\enthought\\\\canopy\\\\user\\\\lib\\\\site-packages\\\\scikit_learn-0.18.dist-info\\\\top_level.txt',\n",
       " '  c:\\\\users\\\\kowshik\\\\appdata\\\\local\\\\enthought\\\\canopy\\\\user\\\\lib\\\\site-packages\\\\scikit_learn-0.18.dist-info\\\\wheel',\n",
       " '  c:\\\\users\\\\kowshik\\\\appdata\\\\local\\\\enthought\\\\canopy\\\\user\\\\lib\\\\site-packages\\\\sklearn\\\\__check_build\\\\__init__.py',\n",
       " '  c:\\\\users\\\\kowshik\\\\appdata\\\\local\\\\enthought\\\\canopy\\\\user\\\\lib\\\\site-packages\\\\sklearn\\\\__check_build\\\\__init__.pyc',\n",
       " '  c:\\\\users\\\\kowshik\\\\appdata\\\\local\\\\enthought\\\\canopy\\\\user\\\\lib\\\\site-packages\\\\sklearn\\\\__check_build\\\\_check_build.pyd',\n",
       " '  c:\\\\users\\\\kowshik\\\\appdata\\\\local\\\\enthought\\\\canopy\\\\user\\\\lib\\\\site-packages\\\\sklearn\\\\__check_build\\\\setup.py',\n",
       " '  c:\\\\users\\\\kowshik\\\\appdata\\\\local\\\\enthought\\\\canopy\\\\user\\\\lib\\\\site-packages\\\\sklearn\\\\__check_build\\\\setup.pyc',\n",
       " '  c:\\\\users\\\\kowshik\\\\appdata\\\\local\\\\enthought\\\\canopy\\\\user\\\\lib\\\\site-packages\\\\sklearn\\\\__init__.py',\n",
       " '  c:\\\\users\\\\kowshik\\\\appdata\\\\local\\\\enthought\\\\canopy\\\\user\\\\lib\\\\site-packages\\\\sklearn\\\\__init__.pyc',\n",
       " '  c:\\\\users\\\\kowshik\\\\appdata\\\\local\\\\enthought\\\\canopy\\\\user\\\\lib\\\\site-packages\\\\sklearn\\\\_build_utils\\\\__init__.py',\n",
       " '  c:\\\\users\\\\kowshik\\\\appdata\\\\local\\\\enthought\\\\canopy\\\\user\\\\lib\\\\site-packages\\\\sklearn\\\\_build_utils\\\\__init__.pyc',\n",
       " '  c:\\\\users\\\\kowshik\\\\appdata\\\\local\\\\enthought\\\\canopy\\\\user\\\\lib\\\\site-packages\\\\sklearn\\\\_isotonic.pyd',\n",
       " '  c:\\\\users\\\\kowshik\\\\appdata\\\\local\\\\enthought\\\\canopy\\\\user\\\\lib\\\\site-packages\\\\sklearn\\\\base.py',\n",
       " '  c:\\\\users\\\\kowshik\\\\appdata\\\\local\\\\enthought\\\\canopy\\\\user\\\\lib\\\\site-packages\\\\sklearn\\\\base.pyc',\n",
       " '  c:\\\\users\\\\kowshik\\\\appdata\\\\local\\\\enthought\\\\canopy\\\\user\\\\lib\\\\site-packages\\\\sklearn\\\\calibration.py',\n",
       " '  c:\\\\users\\\\kowshik\\\\appdata\\\\local\\\\enthought\\\\canopy\\\\user\\\\lib\\\\site-packages\\\\sklearn\\\\calibration.pyc',\n",
       " '  c:\\\\users\\\\kowshik\\\\appdata\\\\local\\\\enthought\\\\canopy\\\\user\\\\lib\\\\site-packages\\\\sklearn\\\\cluster\\\\__init__.py',\n",
       " '  c:\\\\users\\\\kowshik\\\\appdata\\\\local\\\\enthought\\\\canopy\\\\user\\\\lib\\\\site-packages\\\\sklearn\\\\cluster\\\\__init__.pyc',\n",
       " '  c:\\\\users\\\\kowshik\\\\appdata\\\\local\\\\enthought\\\\canopy\\\\user\\\\lib\\\\site-packages\\\\sklearn\\\\cluster\\\\_dbscan_inner.pyd',\n",
       " '  c:\\\\users\\\\kowshik\\\\appdata\\\\local\\\\enthought\\\\canopy\\\\user\\\\lib\\\\site-packages\\\\sklearn\\\\cluster\\\\_feature_agglomeration.py',\n",
       " '  c:\\\\users\\\\kowshik\\\\appdata\\\\local\\\\enthought\\\\canopy\\\\user\\\\lib\\\\site-packages\\\\sklearn\\\\cluster\\\\_feature_agglomeration.pyc',\n",
       " '  c:\\\\users\\\\kowshik\\\\appdata\\\\local\\\\enthought\\\\canopy\\\\user\\\\lib\\\\site-packages\\\\sklearn\\\\cluster\\\\_hierarchical.pyd',\n",
       " '  c:\\\\users\\\\kowshik\\\\appdata\\\\local\\\\enthought\\\\canopy\\\\user\\\\lib\\\\site-packages\\\\sklearn\\\\cluster\\\\_k_means.pyd',\n",
       " '  c:\\\\users\\\\kowshik\\\\appdata\\\\local\\\\enthought\\\\canopy\\\\user\\\\lib\\\\site-packages\\\\sklearn\\\\cluster\\\\_k_means_elkan.pyd',\n",
       " '  c:\\\\users\\\\kowshik\\\\appdata\\\\local\\\\enthought\\\\canopy\\\\user\\\\lib\\\\site-packages\\\\sklearn\\\\cluster\\\\affinity_propagation_.py',\n",
       " '  c:\\\\users\\\\kowshik\\\\appdata\\\\local\\\\enthought\\\\canopy\\\\user\\\\lib\\\\site-packages\\\\sklearn\\\\cluster\\\\affinity_propagation_.pyc',\n",
       " '  c:\\\\users\\\\kowshik\\\\appdata\\\\local\\\\enthought\\\\canopy\\\\user\\\\lib\\\\site-packages\\\\sklearn\\\\cluster\\\\bicluster.py',\n",
       " '  c:\\\\users\\\\kowshik\\\\appdata\\\\local\\\\enthought\\\\canopy\\\\user\\\\lib\\\\site-packages\\\\sklearn\\\\cluster\\\\bicluster.pyc',\n",
       " '  c:\\\\users\\\\kowshik\\\\appdata\\\\local\\\\enthought\\\\canopy\\\\user\\\\lib\\\\site-packages\\\\sklearn\\\\cluster\\\\birch.py',\n",
       " '  c:\\\\users\\\\kowshik\\\\appdata\\\\local\\\\enthought\\\\canopy\\\\user\\\\lib\\\\site-packages\\\\sklearn\\\\cluster\\\\birch.pyc',\n",
       " '  c:\\\\users\\\\kowshik\\\\appdata\\\\local\\\\enthought\\\\canopy\\\\user\\\\lib\\\\site-packages\\\\sklearn\\\\cluster\\\\dbscan_.py',\n",
       " '  c:\\\\users\\\\kowshik\\\\appdata\\\\local\\\\enthought\\\\canopy\\\\user\\\\lib\\\\site-packages\\\\sklearn\\\\cluster\\\\dbscan_.pyc',\n",
       " '  c:\\\\users\\\\kowshik\\\\appdata\\\\local\\\\enthought\\\\canopy\\\\user\\\\lib\\\\site-packages\\\\sklearn\\\\cluster\\\\hierarchical.py',\n",
       " '  c:\\\\users\\\\kowshik\\\\appdata\\\\local\\\\enthought\\\\canopy\\\\user\\\\lib\\\\site-packages\\\\sklearn\\\\cluster\\\\hierarchical.pyc',\n",
       " '  c:\\\\users\\\\kowshik\\\\appdata\\\\local\\\\enthought\\\\canopy\\\\user\\\\lib\\\\site-packages\\\\sklearn\\\\cluster\\\\k_means_.py',\n",
       " '  c:\\\\users\\\\kowshik\\\\appdata\\\\local\\\\enthought\\\\canopy\\\\user\\\\lib\\\\site-packages\\\\sklearn\\\\cluster\\\\k_means_.pyc',\n",
       " '  c:\\\\users\\\\kowshik\\\\appdata\\\\local\\\\enthought\\\\canopy\\\\user\\\\lib\\\\site-packages\\\\sklearn\\\\cluster\\\\mean_shift_.py',\n",
       " '  c:\\\\users\\\\kowshik\\\\appdata\\\\local\\\\enthought\\\\canopy\\\\user\\\\lib\\\\site-packages\\\\sklearn\\\\cluster\\\\mean_shift_.pyc',\n",
       " '  c:\\\\users\\\\kowshik\\\\appdata\\\\local\\\\enthought\\\\canopy\\\\user\\\\lib\\\\site-packages\\\\sklearn\\\\cluster\\\\setup.py',\n",
       " '  c:\\\\users\\\\kowshik\\\\appdata\\\\local\\\\enthought\\\\canopy\\\\user\\\\lib\\\\site-packages\\\\sklearn\\\\cluster\\\\setup.pyc',\n",
       " '  c:\\\\users\\\\kowshik\\\\appdata\\\\local\\\\enthought\\\\canopy\\\\user\\\\lib\\\\site-packages\\\\sklearn\\\\cluster\\\\spectral.py',\n",
       " '  c:\\\\users\\\\kowshik\\\\appdata\\\\local\\\\enthought\\\\canopy\\\\user\\\\lib\\\\site-packages\\\\sklearn\\\\cluster\\\\spectral.pyc',\n",
       " '  c:\\\\users\\\\kowshik\\\\appdata\\\\local\\\\enthought\\\\canopy\\\\user\\\\lib\\\\site-packages\\\\sklearn\\\\cluster\\\\tests\\\\__init__.py',\n",
       " '  c:\\\\users\\\\kowshik\\\\appdata\\\\local\\\\enthought\\\\canopy\\\\user\\\\lib\\\\site-packages\\\\sklearn\\\\cluster\\\\tests\\\\__init__.pyc',\n",
       " '  c:\\\\users\\\\kowshik\\\\appdata\\\\local\\\\enthought\\\\canopy\\\\user\\\\lib\\\\site-packages\\\\sklearn\\\\cluster\\\\tests\\\\common.py',\n",
       " '  c:\\\\users\\\\kowshik\\\\appdata\\\\local\\\\enthought\\\\canopy\\\\user\\\\lib\\\\site-packages\\\\sklearn\\\\cluster\\\\tests\\\\common.pyc',\n",
       " '  c:\\\\users\\\\kowshik\\\\appdata\\\\local\\\\enthought\\\\canopy\\\\user\\\\lib\\\\site-packages\\\\sklearn\\\\cluster\\\\tests\\\\test_affinity_propagation.py',\n",
       " '  c:\\\\users\\\\kowshik\\\\appdata\\\\local\\\\enthought\\\\canopy\\\\user\\\\lib\\\\site-packages\\\\sklearn\\\\cluster\\\\tests\\\\test_affinity_propagation.pyc',\n",
       " '  c:\\\\users\\\\kowshik\\\\appdata\\\\local\\\\enthought\\\\canopy\\\\user\\\\lib\\\\site-packages\\\\sklearn\\\\cluster\\\\tests\\\\test_bicluster.py',\n",
       " '  c:\\\\users\\\\kowshik\\\\appdata\\\\local\\\\enthought\\\\canopy\\\\user\\\\lib\\\\site-packages\\\\sklearn\\\\cluster\\\\tests\\\\test_bicluster.pyc',\n",
       " '  c:\\\\users\\\\kowshik\\\\appdata\\\\local\\\\enthought\\\\canopy\\\\user\\\\lib\\\\site-packages\\\\sklearn\\\\cluster\\\\tests\\\\test_birch.py',\n",
       " '  c:\\\\users\\\\kowshik\\\\appdata\\\\local\\\\enthought\\\\canopy\\\\user\\\\lib\\\\site-packages\\\\sklearn\\\\cluster\\\\tests\\\\test_birch.pyc',\n",
       " '  c:\\\\users\\\\kowshik\\\\appdata\\\\local\\\\enthought\\\\canopy\\\\user\\\\lib\\\\site-packages\\\\sklearn\\\\cluster\\\\tests\\\\test_dbscan.py',\n",
       " '  c:\\\\users\\\\kowshik\\\\appdata\\\\local\\\\enthought\\\\canopy\\\\user\\\\lib\\\\site-packages\\\\sklearn\\\\cluster\\\\tests\\\\test_dbscan.pyc',\n",
       " '  c:\\\\users\\\\kowshik\\\\appdata\\\\local\\\\enthought\\\\canopy\\\\user\\\\lib\\\\site-packages\\\\sklearn\\\\cluster\\\\tests\\\\test_hierarchical.py',\n",
       " '  c:\\\\users\\\\kowshik\\\\appdata\\\\local\\\\enthought\\\\canopy\\\\user\\\\lib\\\\site-packages\\\\sklearn\\\\cluster\\\\tests\\\\test_hierarchical.pyc',\n",
       " '  c:\\\\users\\\\kowshik\\\\appdata\\\\local\\\\enthought\\\\canopy\\\\user\\\\lib\\\\site-packages\\\\sklearn\\\\cluster\\\\tests\\\\test_k_means.py',\n",
       " '  c:\\\\users\\\\kowshik\\\\appdata\\\\local\\\\enthought\\\\canopy\\\\user\\\\lib\\\\site-packages\\\\sklearn\\\\cluster\\\\tests\\\\test_k_means.pyc',\n",
       " '  c:\\\\users\\\\kowshik\\\\appdata\\\\local\\\\enthought\\\\canopy\\\\user\\\\lib\\\\site-packages\\\\sklearn\\\\cluster\\\\tests\\\\test_mean_shift.py',\n",
       " '  c:\\\\users\\\\kowshik\\\\appdata\\\\local\\\\enthought\\\\canopy\\\\user\\\\lib\\\\site-packages\\\\sklearn\\\\cluster\\\\tests\\\\test_mean_shift.pyc',\n",
       " '  c:\\\\users\\\\kowshik\\\\appdata\\\\local\\\\enthought\\\\canopy\\\\user\\\\lib\\\\site-packages\\\\sklearn\\\\cluster\\\\tests\\\\test_spectral.py',\n",
       " '  c:\\\\users\\\\kowshik\\\\appdata\\\\local\\\\enthought\\\\canopy\\\\user\\\\lib\\\\site-packages\\\\sklearn\\\\cluster\\\\tests\\\\test_spectral.pyc',\n",
       " '  c:\\\\users\\\\kowshik\\\\appdata\\\\local\\\\enthought\\\\canopy\\\\user\\\\lib\\\\site-packages\\\\sklearn\\\\covariance\\\\__init__.py',\n",
       " '  c:\\\\users\\\\kowshik\\\\appdata\\\\local\\\\enthought\\\\canopy\\\\user\\\\lib\\\\site-packages\\\\sklearn\\\\covariance\\\\__init__.pyc',\n",
       " '  c:\\\\users\\\\kowshik\\\\appdata\\\\local\\\\enthought\\\\canopy\\\\user\\\\lib\\\\site-packages\\\\sklearn\\\\covariance\\\\empirical_covariance_.py',\n",
       " '  c:\\\\users\\\\kowshik\\\\appdata\\\\local\\\\enthought\\\\canopy\\\\user\\\\lib\\\\site-packages\\\\sklearn\\\\covariance\\\\empirical_covariance_.pyc',\n",
       " '  c:\\\\users\\\\kowshik\\\\appdata\\\\local\\\\enthought\\\\canopy\\\\user\\\\lib\\\\site-packages\\\\sklearn\\\\covariance\\\\graph_lasso_.py',\n",
       " '  c:\\\\users\\\\kowshik\\\\appdata\\\\local\\\\enthought\\\\canopy\\\\user\\\\lib\\\\site-packages\\\\sklearn\\\\covariance\\\\graph_lasso_.pyc',\n",
       " '  c:\\\\users\\\\kowshik\\\\appdata\\\\local\\\\enthought\\\\canopy\\\\user\\\\lib\\\\site-packages\\\\sklearn\\\\covariance\\\\outlier_detection.py',\n",
       " '  c:\\\\users\\\\kowshik\\\\appdata\\\\local\\\\enthought\\\\canopy\\\\user\\\\lib\\\\site-packages\\\\sklearn\\\\covariance\\\\outlier_detection.pyc',\n",
       " '  c:\\\\users\\\\kowshik\\\\appdata\\\\local\\\\enthought\\\\canopy\\\\user\\\\lib\\\\site-packages\\\\sklearn\\\\covariance\\\\robust_covariance.py',\n",
       " '  c:\\\\users\\\\kowshik\\\\appdata\\\\local\\\\enthought\\\\canopy\\\\user\\\\lib\\\\site-packages\\\\sklearn\\\\covariance\\\\robust_covariance.pyc',\n",
       " '  c:\\\\users\\\\kowshik\\\\appdata\\\\local\\\\enthought\\\\canopy\\\\user\\\\lib\\\\site-packages\\\\sklearn\\\\covariance\\\\shrunk_covariance_.py',\n",
       " '  c:\\\\users\\\\kowshik\\\\appdata\\\\local\\\\enthought\\\\canopy\\\\user\\\\lib\\\\site-packages\\\\sklearn\\\\covariance\\\\shrunk_covariance_.pyc',\n",
       " '  c:\\\\users\\\\kowshik\\\\appdata\\\\local\\\\enthought\\\\canopy\\\\user\\\\lib\\\\site-packages\\\\sklearn\\\\covariance\\\\tests\\\\__init__.py',\n",
       " '  c:\\\\users\\\\kowshik\\\\appdata\\\\local\\\\enthought\\\\canopy\\\\user\\\\lib\\\\site-packages\\\\sklearn\\\\covariance\\\\tests\\\\__init__.pyc',\n",
       " '  c:\\\\users\\\\kowshik\\\\appdata\\\\local\\\\enthought\\\\canopy\\\\user\\\\lib\\\\site-packages\\\\sklearn\\\\covariance\\\\tests\\\\test_covariance.py',\n",
       " '  c:\\\\users\\\\kowshik\\\\appdata\\\\local\\\\enthought\\\\canopy\\\\user\\\\lib\\\\site-packages\\\\sklearn\\\\covariance\\\\tests\\\\test_covariance.pyc',\n",
       " '  c:\\\\users\\\\kowshik\\\\appdata\\\\local\\\\enthought\\\\canopy\\\\user\\\\lib\\\\site-packages\\\\sklearn\\\\covariance\\\\tests\\\\test_graph_lasso.py',\n",
       " '  c:\\\\users\\\\kowshik\\\\appdata\\\\local\\\\enthought\\\\canopy\\\\user\\\\lib\\\\site-packages\\\\sklearn\\\\covariance\\\\tests\\\\test_graph_lasso.pyc',\n",
       " '  c:\\\\users\\\\kowshik\\\\appdata\\\\local\\\\enthought\\\\canopy\\\\user\\\\lib\\\\site-packages\\\\sklearn\\\\covariance\\\\tests\\\\test_robust_covariance.py',\n",
       " '  c:\\\\users\\\\kowshik\\\\appdata\\\\local\\\\enthought\\\\canopy\\\\user\\\\lib\\\\site-packages\\\\sklearn\\\\covariance\\\\tests\\\\test_robust_covariance.pyc',\n",
       " '  c:\\\\users\\\\kowshik\\\\appdata\\\\local\\\\enthought\\\\canopy\\\\user\\\\lib\\\\site-packages\\\\sklearn\\\\cross_decomposition\\\\__init__.py',\n",
       " '  c:\\\\users\\\\kowshik\\\\appdata\\\\local\\\\enthought\\\\canopy\\\\user\\\\lib\\\\site-packages\\\\sklearn\\\\cross_decomposition\\\\__init__.pyc',\n",
       " '  c:\\\\users\\\\kowshik\\\\appdata\\\\local\\\\enthought\\\\canopy\\\\user\\\\lib\\\\site-packages\\\\sklearn\\\\cross_decomposition\\\\cca_.py',\n",
       " '  c:\\\\users\\\\kowshik\\\\appdata\\\\local\\\\enthought\\\\canopy\\\\user\\\\lib\\\\site-packages\\\\sklearn\\\\cross_decomposition\\\\cca_.pyc',\n",
       " '  c:\\\\users\\\\kowshik\\\\appdata\\\\local\\\\enthought\\\\canopy\\\\user\\\\lib\\\\site-packages\\\\sklearn\\\\cross_decomposition\\\\pls_.py',\n",
       " '  c:\\\\users\\\\kowshik\\\\appdata\\\\local\\\\enthought\\\\canopy\\\\user\\\\lib\\\\site-packages\\\\sklearn\\\\cross_decomposition\\\\pls_.pyc',\n",
       " '  c:\\\\users\\\\kowshik\\\\appdata\\\\local\\\\enthought\\\\canopy\\\\user\\\\lib\\\\site-packages\\\\sklearn\\\\cross_decomposition\\\\tests\\\\__init__.py',\n",
       " '  c:\\\\users\\\\kowshik\\\\appdata\\\\local\\\\enthought\\\\canopy\\\\user\\\\lib\\\\site-packages\\\\sklearn\\\\cross_decomposition\\\\tests\\\\__init__.pyc',\n",
       " '  c:\\\\users\\\\kowshik\\\\appdata\\\\local\\\\enthought\\\\canopy\\\\user\\\\lib\\\\site-packages\\\\sklearn\\\\cross_decomposition\\\\tests\\\\test_pls.py',\n",
       " '  c:\\\\users\\\\kowshik\\\\appdata\\\\local\\\\enthought\\\\canopy\\\\user\\\\lib\\\\site-packages\\\\sklearn\\\\cross_decomposition\\\\tests\\\\test_pls.pyc',\n",
       " '  c:\\\\users\\\\kowshik\\\\appdata\\\\local\\\\enthought\\\\canopy\\\\user\\\\lib\\\\site-packages\\\\sklearn\\\\cross_validation.py',\n",
       " '  c:\\\\users\\\\kowshik\\\\appdata\\\\local\\\\enthought\\\\canopy\\\\user\\\\lib\\\\site-packages\\\\sklearn\\\\cross_validation.pyc',\n",
       " '  c:\\\\users\\\\kowshik\\\\appdata\\\\local\\\\enthought\\\\canopy\\\\user\\\\lib\\\\site-packages\\\\sklearn\\\\datasets\\\\__init__.py',\n",
       " '  c:\\\\users\\\\kowshik\\\\appdata\\\\local\\\\enthought\\\\canopy\\\\user\\\\lib\\\\site-packages\\\\sklearn\\\\datasets\\\\__init__.pyc',\n",
       " '  c:\\\\users\\\\kowshik\\\\appdata\\\\local\\\\enthought\\\\canopy\\\\user\\\\lib\\\\site-packages\\\\sklearn\\\\datasets\\\\_svmlight_format.pyd',\n",
       " '  c:\\\\users\\\\kowshik\\\\appdata\\\\local\\\\enthought\\\\canopy\\\\user\\\\lib\\\\site-packages\\\\sklearn\\\\datasets\\\\base.py',\n",
       " '  c:\\\\users\\\\kowshik\\\\appdata\\\\local\\\\enthought\\\\canopy\\\\user\\\\lib\\\\site-packages\\\\sklearn\\\\datasets\\\\base.pyc',\n",
       " '  c:\\\\users\\\\kowshik\\\\appdata\\\\local\\\\enthought\\\\canopy\\\\user\\\\lib\\\\site-packages\\\\sklearn\\\\datasets\\\\california_housing.py',\n",
       " '  c:\\\\users\\\\kowshik\\\\appdata\\\\local\\\\enthought\\\\canopy\\\\user\\\\lib\\\\site-packages\\\\sklearn\\\\datasets\\\\california_housing.pyc',\n",
       " '  c:\\\\users\\\\kowshik\\\\appdata\\\\local\\\\enthought\\\\canopy\\\\user\\\\lib\\\\site-packages\\\\sklearn\\\\datasets\\\\covtype.py',\n",
       " '  c:\\\\users\\\\kowshik\\\\appdata\\\\local\\\\enthought\\\\canopy\\\\user\\\\lib\\\\site-packages\\\\sklearn\\\\datasets\\\\covtype.pyc',\n",
       " '  c:\\\\users\\\\kowshik\\\\appdata\\\\local\\\\enthought\\\\canopy\\\\user\\\\lib\\\\site-packages\\\\sklearn\\\\datasets\\\\data\\\\boston_house_prices.csv',\n",
       " '  c:\\\\users\\\\kowshik\\\\appdata\\\\local\\\\enthought\\\\canopy\\\\user\\\\lib\\\\site-packages\\\\sklearn\\\\datasets\\\\data\\\\breast_cancer.csv',\n",
       " '  c:\\\\users\\\\kowshik\\\\appdata\\\\local\\\\enthought\\\\canopy\\\\user\\\\lib\\\\site-packages\\\\sklearn\\\\datasets\\\\data\\\\diabetes_data.csv.gz',\n",
       " '  c:\\\\users\\\\kowshik\\\\appdata\\\\local\\\\enthought\\\\canopy\\\\user\\\\lib\\\\site-packages\\\\sklearn\\\\datasets\\\\data\\\\diabetes_target.csv.gz',\n",
       " '  c:\\\\users\\\\kowshik\\\\appdata\\\\local\\\\enthought\\\\canopy\\\\user\\\\lib\\\\site-packages\\\\sklearn\\\\datasets\\\\data\\\\digits.csv.gz',\n",
       " '  c:\\\\users\\\\kowshik\\\\appdata\\\\local\\\\enthought\\\\canopy\\\\user\\\\lib\\\\site-packages\\\\sklearn\\\\datasets\\\\data\\\\iris.csv',\n",
       " '  c:\\\\users\\\\kowshik\\\\appdata\\\\local\\\\enthought\\\\canopy\\\\user\\\\lib\\\\site-packages\\\\sklearn\\\\datasets\\\\data\\\\linnerud_exercise.csv',\n",
       " '  c:\\\\users\\\\kowshik\\\\appdata\\\\local\\\\enthought\\\\canopy\\\\user\\\\lib\\\\site-packages\\\\sklearn\\\\datasets\\\\data\\\\linnerud_physiological.csv',\n",
       " '  c:\\\\users\\\\kowshik\\\\appdata\\\\local\\\\enthought\\\\canopy\\\\user\\\\lib\\\\site-packages\\\\sklearn\\\\datasets\\\\descr\\\\boston_house_prices.rst',\n",
       " '  c:\\\\users\\\\kowshik\\\\appdata\\\\local\\\\enthought\\\\canopy\\\\user\\\\lib\\\\site-packages\\\\sklearn\\\\datasets\\\\descr\\\\breast_cancer.rst',\n",
       " '  c:\\\\users\\\\kowshik\\\\appdata\\\\local\\\\enthought\\\\canopy\\\\user\\\\lib\\\\site-packages\\\\sklearn\\\\datasets\\\\descr\\\\diabetes.rst',\n",
       " '  c:\\\\users\\\\kowshik\\\\appdata\\\\local\\\\enthought\\\\canopy\\\\user\\\\lib\\\\site-packages\\\\sklearn\\\\datasets\\\\descr\\\\digits.rst',\n",
       " '  c:\\\\users\\\\kowshik\\\\appdata\\\\local\\\\enthought\\\\canopy\\\\user\\\\lib\\\\site-packages\\\\sklearn\\\\datasets\\\\descr\\\\iris.rst',\n",
       " '  c:\\\\users\\\\kowshik\\\\appdata\\\\local\\\\enthought\\\\canopy\\\\user\\\\lib\\\\site-packages\\\\sklearn\\\\datasets\\\\descr\\\\linnerud.rst',\n",
       " '  c:\\\\users\\\\kowshik\\\\appdata\\\\local\\\\enthought\\\\canopy\\\\user\\\\lib\\\\site-packages\\\\sklearn\\\\datasets\\\\images\\\\china.jpg',\n",
       " '  c:\\\\users\\\\kowshik\\\\appdata\\\\local\\\\enthought\\\\canopy\\\\user\\\\lib\\\\site-packages\\\\sklearn\\\\datasets\\\\images\\\\flower.jpg',\n",
       " '  c:\\\\users\\\\kowshik\\\\appdata\\\\local\\\\enthought\\\\canopy\\\\user\\\\lib\\\\site-packages\\\\sklearn\\\\datasets\\\\images\\\\readme.txt',\n",
       " '  c:\\\\users\\\\kowshik\\\\appdata\\\\local\\\\enthought\\\\canopy\\\\user\\\\lib\\\\site-packages\\\\sklearn\\\\datasets\\\\kddcup99.py',\n",
       " '  c:\\\\users\\\\kowshik\\\\appdata\\\\local\\\\enthought\\\\canopy\\\\user\\\\lib\\\\site-packages\\\\sklearn\\\\datasets\\\\kddcup99.pyc',\n",
       " '  c:\\\\users\\\\kowshik\\\\appdata\\\\local\\\\enthought\\\\canopy\\\\user\\\\lib\\\\site-packages\\\\sklearn\\\\datasets\\\\lfw.py',\n",
       " '  c:\\\\users\\\\kowshik\\\\appdata\\\\local\\\\enthought\\\\canopy\\\\user\\\\lib\\\\site-packages\\\\sklearn\\\\datasets\\\\lfw.pyc',\n",
       " '  c:\\\\users\\\\kowshik\\\\appdata\\\\local\\\\enthought\\\\canopy\\\\user\\\\lib\\\\site-packages\\\\sklearn\\\\datasets\\\\mlcomp.py',\n",
       " '  c:\\\\users\\\\kowshik\\\\appdata\\\\local\\\\enthought\\\\canopy\\\\user\\\\lib\\\\site-packages\\\\sklearn\\\\datasets\\\\mlcomp.pyc',\n",
       " '  c:\\\\users\\\\kowshik\\\\appdata\\\\local\\\\enthought\\\\canopy\\\\user\\\\lib\\\\site-packages\\\\sklearn\\\\datasets\\\\mldata.py',\n",
       " '  c:\\\\users\\\\kowshik\\\\appdata\\\\local\\\\enthought\\\\canopy\\\\user\\\\lib\\\\site-packages\\\\sklearn\\\\datasets\\\\mldata.pyc',\n",
       " '  c:\\\\users\\\\kowshik\\\\appdata\\\\local\\\\enthought\\\\canopy\\\\user\\\\lib\\\\site-packages\\\\sklearn\\\\datasets\\\\olivetti_faces.py',\n",
       " '  c:\\\\users\\\\kowshik\\\\appdata\\\\local\\\\enthought\\\\canopy\\\\user\\\\lib\\\\site-packages\\\\sklearn\\\\datasets\\\\olivetti_faces.pyc',\n",
       " '  c:\\\\users\\\\kowshik\\\\appdata\\\\local\\\\enthought\\\\canopy\\\\user\\\\lib\\\\site-packages\\\\sklearn\\\\datasets\\\\rcv1.py',\n",
       " '  c:\\\\users\\\\kowshik\\\\appdata\\\\local\\\\enthought\\\\canopy\\\\user\\\\lib\\\\site-packages\\\\sklearn\\\\datasets\\\\rcv1.pyc',\n",
       " '  c:\\\\users\\\\kowshik\\\\appdata\\\\local\\\\enthought\\\\canopy\\\\user\\\\lib\\\\site-packages\\\\sklearn\\\\datasets\\\\samples_generator.py',\n",
       " '  c:\\\\users\\\\kowshik\\\\appdata\\\\local\\\\enthought\\\\canopy\\\\user\\\\lib\\\\site-packages\\\\sklearn\\\\datasets\\\\samples_generator.pyc',\n",
       " '  c:\\\\users\\\\kowshik\\\\appdata\\\\local\\\\enthought\\\\canopy\\\\user\\\\lib\\\\site-packages\\\\sklearn\\\\datasets\\\\setup.py',\n",
       " '  c:\\\\users\\\\kowshik\\\\appdata\\\\local\\\\enthought\\\\canopy\\\\user\\\\lib\\\\site-packages\\\\sklearn\\\\datasets\\\\setup.pyc',\n",
       " '  c:\\\\users\\\\kowshik\\\\appdata\\\\local\\\\enthought\\\\canopy\\\\user\\\\lib\\\\site-packages\\\\sklearn\\\\datasets\\\\species_distributions.py',\n",
       " '  c:\\\\users\\\\kowshik\\\\appdata\\\\local\\\\enthought\\\\canopy\\\\user\\\\lib\\\\site-packages\\\\sklearn\\\\datasets\\\\species_distributions.pyc',\n",
       " '  c:\\\\users\\\\kowshik\\\\appdata\\\\local\\\\enthought\\\\canopy\\\\user\\\\lib\\\\site-packages\\\\sklearn\\\\datasets\\\\svmlight_format.py',\n",
       " '  c:\\\\users\\\\kowshik\\\\appdata\\\\local\\\\enthought\\\\canopy\\\\user\\\\lib\\\\site-packages\\\\sklearn\\\\datasets\\\\svmlight_format.pyc',\n",
       " '  c:\\\\users\\\\kowshik\\\\appdata\\\\local\\\\enthought\\\\canopy\\\\user\\\\lib\\\\site-packages\\\\sklearn\\\\datasets\\\\tests\\\\__init__.py',\n",
       " '  c:\\\\users\\\\kowshik\\\\appdata\\\\local\\\\enthought\\\\canopy\\\\user\\\\lib\\\\site-packages\\\\sklearn\\\\datasets\\\\tests\\\\__init__.pyc',\n",
       " '  c:\\\\users\\\\kowshik\\\\appdata\\\\local\\\\enthought\\\\canopy\\\\user\\\\lib\\\\site-packages\\\\sklearn\\\\datasets\\\\tests\\\\data\\\\svmlight_classification.txt',\n",
       " '  c:\\\\users\\\\kowshik\\\\appdata\\\\local\\\\enthought\\\\canopy\\\\user\\\\lib\\\\site-packages\\\\sklearn\\\\datasets\\\\tests\\\\data\\\\svmlight_invalid.txt',\n",
       " '  c:\\\\users\\\\kowshik\\\\appdata\\\\local\\\\enthought\\\\canopy\\\\user\\\\lib\\\\site-packages\\\\sklearn\\\\datasets\\\\tests\\\\data\\\\svmlight_invalid_order.txt',\n",
       " '  c:\\\\users\\\\kowshik\\\\appdata\\\\local\\\\enthought\\\\canopy\\\\user\\\\lib\\\\site-packages\\\\sklearn\\\\datasets\\\\tests\\\\data\\\\svmlight_multilabel.txt',\n",
       " '  c:\\\\users\\\\kowshik\\\\appdata\\\\local\\\\enthought\\\\canopy\\\\user\\\\lib\\\\site-packages\\\\sklearn\\\\datasets\\\\tests\\\\test_20news.py',\n",
       " '  c:\\\\users\\\\kowshik\\\\appdata\\\\local\\\\enthought\\\\canopy\\\\user\\\\lib\\\\site-packages\\\\sklearn\\\\datasets\\\\tests\\\\test_20news.pyc',\n",
       " '  c:\\\\users\\\\kowshik\\\\appdata\\\\local\\\\enthought\\\\canopy\\\\user\\\\lib\\\\site-packages\\\\sklearn\\\\datasets\\\\tests\\\\test_base.py',\n",
       " '  c:\\\\users\\\\kowshik\\\\appdata\\\\local\\\\enthought\\\\canopy\\\\user\\\\lib\\\\site-packages\\\\sklearn\\\\datasets\\\\tests\\\\test_base.pyc',\n",
       " '  c:\\\\users\\\\kowshik\\\\appdata\\\\local\\\\enthought\\\\canopy\\\\user\\\\lib\\\\site-packages\\\\sklearn\\\\datasets\\\\tests\\\\test_covtype.py',\n",
       " '  c:\\\\users\\\\kowshik\\\\appdata\\\\local\\\\enthought\\\\canopy\\\\user\\\\lib\\\\site-packages\\\\sklearn\\\\datasets\\\\tests\\\\test_covtype.pyc',\n",
       " '  c:\\\\users\\\\kowshik\\\\appdata\\\\local\\\\enthought\\\\canopy\\\\user\\\\lib\\\\site-packages\\\\sklearn\\\\datasets\\\\tests\\\\test_kddcup99.py',\n",
       " '  c:\\\\users\\\\kowshik\\\\appdata\\\\local\\\\enthought\\\\canopy\\\\user\\\\lib\\\\site-packages\\\\sklearn\\\\datasets\\\\tests\\\\test_kddcup99.pyc',\n",
       " '  c:\\\\users\\\\kowshik\\\\appdata\\\\local\\\\enthought\\\\canopy\\\\user\\\\lib\\\\site-packages\\\\sklearn\\\\datasets\\\\tests\\\\test_lfw.py',\n",
       " '  c:\\\\users\\\\kowshik\\\\appdata\\\\local\\\\enthought\\\\canopy\\\\user\\\\lib\\\\site-packages\\\\sklearn\\\\datasets\\\\tests\\\\test_lfw.pyc',\n",
       " '  c:\\\\users\\\\kowshik\\\\appdata\\\\local\\\\enthought\\\\canopy\\\\user\\\\lib\\\\site-packages\\\\sklearn\\\\datasets\\\\tests\\\\test_mldata.py',\n",
       " '  c:\\\\users\\\\kowshik\\\\appdata\\\\local\\\\enthought\\\\canopy\\\\user\\\\lib\\\\site-packages\\\\sklearn\\\\datasets\\\\tests\\\\test_mldata.pyc',\n",
       " '  c:\\\\users\\\\kowshik\\\\appdata\\\\local\\\\enthought\\\\canopy\\\\user\\\\lib\\\\site-packages\\\\sklearn\\\\datasets\\\\tests\\\\test_rcv1.py',\n",
       " '  c:\\\\users\\\\kowshik\\\\appdata\\\\local\\\\enthought\\\\canopy\\\\user\\\\lib\\\\site-packages\\\\sklearn\\\\datasets\\\\tests\\\\test_rcv1.pyc',\n",
       " '  c:\\\\users\\\\kowshik\\\\appdata\\\\local\\\\enthought\\\\canopy\\\\user\\\\lib\\\\site-packages\\\\sklearn\\\\datasets\\\\tests\\\\test_samples_generator.py',\n",
       " '  c:\\\\users\\\\kowshik\\\\appdata\\\\local\\\\enthought\\\\canopy\\\\user\\\\lib\\\\site-packages\\\\sklearn\\\\datasets\\\\tests\\\\test_samples_generator.pyc',\n",
       " '  c:\\\\users\\\\kowshik\\\\appdata\\\\local\\\\enthought\\\\canopy\\\\user\\\\lib\\\\site-packages\\\\sklearn\\\\datasets\\\\tests\\\\test_svmlight_format.py',\n",
       " '  c:\\\\users\\\\kowshik\\\\appdata\\\\local\\\\enthought\\\\canopy\\\\user\\\\lib\\\\site-packages\\\\sklearn\\\\datasets\\\\tests\\\\test_svmlight_format.pyc',\n",
       " '  c:\\\\users\\\\kowshik\\\\appdata\\\\local\\\\enthought\\\\canopy\\\\user\\\\lib\\\\site-packages\\\\sklearn\\\\datasets\\\\twenty_newsgroups.py',\n",
       " '  c:\\\\users\\\\kowshik\\\\appdata\\\\local\\\\enthought\\\\canopy\\\\user\\\\lib\\\\site-packages\\\\sklearn\\\\datasets\\\\twenty_newsgroups.pyc',\n",
       " '  c:\\\\users\\\\kowshik\\\\appdata\\\\local\\\\enthought\\\\canopy\\\\user\\\\lib\\\\site-packages\\\\sklearn\\\\decomposition\\\\__init__.py',\n",
       " '  c:\\\\users\\\\kowshik\\\\appdata\\\\local\\\\enthought\\\\canopy\\\\user\\\\lib\\\\site-packages\\\\sklearn\\\\decomposition\\\\__init__.pyc',\n",
       " '  c:\\\\users\\\\kowshik\\\\appdata\\\\local\\\\enthought\\\\canopy\\\\user\\\\lib\\\\site-packages\\\\sklearn\\\\decomposition\\\\_online_lda.pyd',\n",
       " '  c:\\\\users\\\\kowshik\\\\appdata\\\\local\\\\enthought\\\\canopy\\\\user\\\\lib\\\\site-packages\\\\sklearn\\\\decomposition\\\\base.py',\n",
       " '  c:\\\\users\\\\kowshik\\\\appdata\\\\local\\\\enthought\\\\canopy\\\\user\\\\lib\\\\site-packages\\\\sklearn\\\\decomposition\\\\base.pyc',\n",
       " '  c:\\\\users\\\\kowshik\\\\appdata\\\\local\\\\enthought\\\\canopy\\\\user\\\\lib\\\\site-packages\\\\sklearn\\\\decomposition\\\\cdnmf_fast.pyd',\n",
       " '  c:\\\\users\\\\kowshik\\\\appdata\\\\local\\\\enthought\\\\canopy\\\\user\\\\lib\\\\site-packages\\\\sklearn\\\\decomposition\\\\dict_learning.py',\n",
       " '  c:\\\\users\\\\kowshik\\\\appdata\\\\local\\\\enthought\\\\canopy\\\\user\\\\lib\\\\site-packages\\\\sklearn\\\\decomposition\\\\dict_learning.pyc',\n",
       " '  c:\\\\users\\\\kowshik\\\\appdata\\\\local\\\\enthought\\\\canopy\\\\user\\\\lib\\\\site-packages\\\\sklearn\\\\decomposition\\\\factor_analysis.py',\n",
       " '  c:\\\\users\\\\kowshik\\\\appdata\\\\local\\\\enthought\\\\canopy\\\\user\\\\lib\\\\site-packages\\\\sklearn\\\\decomposition\\\\factor_analysis.pyc',\n",
       " '  c:\\\\users\\\\kowshik\\\\appdata\\\\local\\\\enthought\\\\canopy\\\\user\\\\lib\\\\site-packages\\\\sklearn\\\\decomposition\\\\fastica_.py',\n",
       " '  c:\\\\users\\\\kowshik\\\\appdata\\\\local\\\\enthought\\\\canopy\\\\user\\\\lib\\\\site-packages\\\\sklearn\\\\decomposition\\\\fastica_.pyc',\n",
       " '  c:\\\\users\\\\kowshik\\\\appdata\\\\local\\\\enthought\\\\canopy\\\\user\\\\lib\\\\site-packages\\\\sklearn\\\\decomposition\\\\incremental_pca.py',\n",
       " '  c:\\\\users\\\\kowshik\\\\appdata\\\\local\\\\enthought\\\\canopy\\\\user\\\\lib\\\\site-packages\\\\sklearn\\\\decomposition\\\\incremental_pca.pyc',\n",
       " '  c:\\\\users\\\\kowshik\\\\appdata\\\\local\\\\enthought\\\\canopy\\\\user\\\\lib\\\\site-packages\\\\sklearn\\\\decomposition\\\\kernel_pca.py',\n",
       " '  c:\\\\users\\\\kowshik\\\\appdata\\\\local\\\\enthought\\\\canopy\\\\user\\\\lib\\\\site-packages\\\\sklearn\\\\decomposition\\\\kernel_pca.pyc',\n",
       " '  c:\\\\users\\\\kowshik\\\\appdata\\\\local\\\\enthought\\\\canopy\\\\user\\\\lib\\\\site-packages\\\\sklearn\\\\decomposition\\\\nmf.py',\n",
       " '  c:\\\\users\\\\kowshik\\\\appdata\\\\local\\\\enthought\\\\canopy\\\\user\\\\lib\\\\site-packages\\\\sklearn\\\\decomposition\\\\nmf.pyc',\n",
       " '  c:\\\\users\\\\kowshik\\\\appdata\\\\local\\\\enthought\\\\canopy\\\\user\\\\lib\\\\site-packages\\\\sklearn\\\\decomposition\\\\online_lda.py',\n",
       " '  c:\\\\users\\\\kowshik\\\\appdata\\\\local\\\\enthought\\\\canopy\\\\user\\\\lib\\\\site-packages\\\\sklearn\\\\decomposition\\\\online_lda.pyc',\n",
       " '  c:\\\\users\\\\kowshik\\\\appdata\\\\local\\\\enthought\\\\canopy\\\\user\\\\lib\\\\site-packages\\\\sklearn\\\\decomposition\\\\pca.py',\n",
       " '  c:\\\\users\\\\kowshik\\\\appdata\\\\local\\\\enthought\\\\canopy\\\\user\\\\lib\\\\site-packages\\\\sklearn\\\\decomposition\\\\pca.pyc',\n",
       " '  c:\\\\users\\\\kowshik\\\\appdata\\\\local\\\\enthought\\\\canopy\\\\user\\\\lib\\\\site-packages\\\\sklearn\\\\decomposition\\\\setup.py',\n",
       " '  c:\\\\users\\\\kowshik\\\\appdata\\\\local\\\\enthought\\\\canopy\\\\user\\\\lib\\\\site-packages\\\\sklearn\\\\decomposition\\\\setup.pyc',\n",
       " '  c:\\\\users\\\\kowshik\\\\appdata\\\\local\\\\enthought\\\\canopy\\\\user\\\\lib\\\\site-packages\\\\sklearn\\\\decomposition\\\\sparse_pca.py',\n",
       " '  c:\\\\users\\\\kowshik\\\\appdata\\\\local\\\\enthought\\\\canopy\\\\user\\\\lib\\\\site-packages\\\\sklearn\\\\decomposition\\\\sparse_pca.pyc',\n",
       " '  c:\\\\users\\\\kowshik\\\\appdata\\\\local\\\\enthought\\\\canopy\\\\user\\\\lib\\\\site-packages\\\\sklearn\\\\decomposition\\\\tests\\\\__init__.py',\n",
       " '  c:\\\\users\\\\kowshik\\\\appdata\\\\local\\\\enthought\\\\canopy\\\\user\\\\lib\\\\site-packages\\\\sklearn\\\\decomposition\\\\tests\\\\__init__.pyc',\n",
       " '  c:\\\\users\\\\kowshik\\\\appdata\\\\local\\\\enthought\\\\canopy\\\\user\\\\lib\\\\site-packages\\\\sklearn\\\\decomposition\\\\tests\\\\test_dict_learning.py',\n",
       " '  c:\\\\users\\\\kowshik\\\\appdata\\\\local\\\\enthought\\\\canopy\\\\user\\\\lib\\\\site-packages\\\\sklearn\\\\decomposition\\\\tests\\\\test_dict_learning.pyc',\n",
       " '  c:\\\\users\\\\kowshik\\\\appdata\\\\local\\\\enthought\\\\canopy\\\\user\\\\lib\\\\site-packages\\\\sklearn\\\\decomposition\\\\tests\\\\test_factor_analysis.py',\n",
       " '  c:\\\\users\\\\kowshik\\\\appdata\\\\local\\\\enthought\\\\canopy\\\\user\\\\lib\\\\site-packages\\\\sklearn\\\\decomposition\\\\tests\\\\test_factor_analysis.pyc',\n",
       " '  c:\\\\users\\\\kowshik\\\\appdata\\\\local\\\\enthought\\\\canopy\\\\user\\\\lib\\\\site-packages\\\\sklearn\\\\decomposition\\\\tests\\\\test_fastica.py',\n",
       " '  c:\\\\users\\\\kowshik\\\\appdata\\\\local\\\\enthought\\\\canopy\\\\user\\\\lib\\\\site-packages\\\\sklearn\\\\decomposition\\\\tests\\\\test_fastica.pyc',\n",
       " '  c:\\\\users\\\\kowshik\\\\appdata\\\\local\\\\enthought\\\\canopy\\\\user\\\\lib\\\\site-packages\\\\sklearn\\\\decomposition\\\\tests\\\\test_incremental_pca.py',\n",
       " '  c:\\\\users\\\\kowshik\\\\appdata\\\\local\\\\enthought\\\\canopy\\\\user\\\\lib\\\\site-packages\\\\sklearn\\\\decomposition\\\\tests\\\\test_incremental_pca.pyc',\n",
       " '  c:\\\\users\\\\kowshik\\\\appdata\\\\local\\\\enthought\\\\canopy\\\\user\\\\lib\\\\site-packages\\\\sklearn\\\\decomposition\\\\tests\\\\test_kernel_pca.py',\n",
       " '  c:\\\\users\\\\kowshik\\\\appdata\\\\local\\\\enthought\\\\canopy\\\\user\\\\lib\\\\site-packages\\\\sklearn\\\\decomposition\\\\tests\\\\test_kernel_pca.pyc',\n",
       " '  c:\\\\users\\\\kowshik\\\\appdata\\\\local\\\\enthought\\\\canopy\\\\user\\\\lib\\\\site-packages\\\\sklearn\\\\decomposition\\\\tests\\\\test_nmf.py',\n",
       " '  c:\\\\users\\\\kowshik\\\\appdata\\\\local\\\\enthought\\\\canopy\\\\user\\\\lib\\\\site-packages\\\\sklearn\\\\decomposition\\\\tests\\\\test_nmf.pyc',\n",
       " '  c:\\\\users\\\\kowshik\\\\appdata\\\\local\\\\enthought\\\\canopy\\\\user\\\\lib\\\\site-packages\\\\sklearn\\\\decomposition\\\\tests\\\\test_online_lda.py',\n",
       " '  c:\\\\users\\\\kowshik\\\\appdata\\\\local\\\\enthought\\\\canopy\\\\user\\\\lib\\\\site-packages\\\\sklearn\\\\decomposition\\\\tests\\\\test_online_lda.pyc',\n",
       " '  c:\\\\users\\\\kowshik\\\\appdata\\\\local\\\\enthought\\\\canopy\\\\user\\\\lib\\\\site-packages\\\\sklearn\\\\decomposition\\\\tests\\\\test_pca.py',\n",
       " '  c:\\\\users\\\\kowshik\\\\appdata\\\\local\\\\enthought\\\\canopy\\\\user\\\\lib\\\\site-packages\\\\sklearn\\\\decomposition\\\\tests\\\\test_pca.pyc',\n",
       " '  c:\\\\users\\\\kowshik\\\\appdata\\\\local\\\\enthought\\\\canopy\\\\user\\\\lib\\\\site-packages\\\\sklearn\\\\decomposition\\\\tests\\\\test_sparse_pca.py',\n",
       " '  c:\\\\users\\\\kowshik\\\\appdata\\\\local\\\\enthought\\\\canopy\\\\user\\\\lib\\\\site-packages\\\\sklearn\\\\decomposition\\\\tests\\\\test_sparse_pca.pyc',\n",
       " '  c:\\\\users\\\\kowshik\\\\appdata\\\\local\\\\enthought\\\\canopy\\\\user\\\\lib\\\\site-packages\\\\sklearn\\\\decomposition\\\\tests\\\\test_truncated_svd.py',\n",
       " '  c:\\\\users\\\\kowshik\\\\appdata\\\\local\\\\enthought\\\\canopy\\\\user\\\\lib\\\\site-packages\\\\sklearn\\\\decomposition\\\\tests\\\\test_truncated_svd.pyc',\n",
       " '  c:\\\\users\\\\kowshik\\\\appdata\\\\local\\\\enthought\\\\canopy\\\\user\\\\lib\\\\site-packages\\\\sklearn\\\\decomposition\\\\truncated_svd.py',\n",
       " '  c:\\\\users\\\\kowshik\\\\appdata\\\\local\\\\enthought\\\\canopy\\\\user\\\\lib\\\\site-packages\\\\sklearn\\\\decomposition\\\\truncated_svd.pyc',\n",
       " '  c:\\\\users\\\\kowshik\\\\appdata\\\\local\\\\enthought\\\\canopy\\\\user\\\\lib\\\\site-packages\\\\sklearn\\\\discriminant_analysis.py',\n",
       " '  c:\\\\users\\\\kowshik\\\\appdata\\\\local\\\\enthought\\\\canopy\\\\user\\\\lib\\\\site-packages\\\\sklearn\\\\discriminant_analysis.pyc',\n",
       " '  c:\\\\users\\\\kowshik\\\\appdata\\\\local\\\\enthought\\\\canopy\\\\user\\\\lib\\\\site-packages\\\\sklearn\\\\dummy.py',\n",
       " '  c:\\\\users\\\\kowshik\\\\appdata\\\\local\\\\enthought\\\\canopy\\\\user\\\\lib\\\\site-packages\\\\sklearn\\\\dummy.pyc',\n",
       " '  c:\\\\users\\\\kowshik\\\\appdata\\\\local\\\\enthought\\\\canopy\\\\user\\\\lib\\\\site-packages\\\\sklearn\\\\ensemble\\\\__init__.py',\n",
       " '  c:\\\\users\\\\kowshik\\\\appdata\\\\local\\\\enthought\\\\canopy\\\\user\\\\lib\\\\site-packages\\\\sklearn\\\\ensemble\\\\__init__.pyc',\n",
       " '  c:\\\\users\\\\kowshik\\\\appdata\\\\local\\\\enthought\\\\canopy\\\\user\\\\lib\\\\site-packages\\\\sklearn\\\\ensemble\\\\_gradient_boosting.pyd',\n",
       " '  c:\\\\users\\\\kowshik\\\\appdata\\\\local\\\\enthought\\\\canopy\\\\user\\\\lib\\\\site-packages\\\\sklearn\\\\ensemble\\\\bagging.py',\n",
       " '  c:\\\\users\\\\kowshik\\\\appdata\\\\local\\\\enthought\\\\canopy\\\\user\\\\lib\\\\site-packages\\\\sklearn\\\\ensemble\\\\bagging.pyc',\n",
       " '  c:\\\\users\\\\kowshik\\\\appdata\\\\local\\\\enthought\\\\canopy\\\\user\\\\lib\\\\site-packages\\\\sklearn\\\\ensemble\\\\base.py',\n",
       " '  c:\\\\users\\\\kowshik\\\\appdata\\\\local\\\\enthought\\\\canopy\\\\user\\\\lib\\\\site-packages\\\\sklearn\\\\ensemble\\\\base.pyc',\n",
       " '  c:\\\\users\\\\kowshik\\\\appdata\\\\local\\\\enthought\\\\canopy\\\\user\\\\lib\\\\site-packages\\\\sklearn\\\\ensemble\\\\forest.py',\n",
       " '  c:\\\\users\\\\kowshik\\\\appdata\\\\local\\\\enthought\\\\canopy\\\\user\\\\lib\\\\site-packages\\\\sklearn\\\\ensemble\\\\forest.pyc',\n",
       " '  c:\\\\users\\\\kowshik\\\\appdata\\\\local\\\\enthought\\\\canopy\\\\user\\\\lib\\\\site-packages\\\\sklearn\\\\ensemble\\\\gradient_boosting.py',\n",
       " '  c:\\\\users\\\\kowshik\\\\appdata\\\\local\\\\enthought\\\\canopy\\\\user\\\\lib\\\\site-packages\\\\sklearn\\\\ensemble\\\\gradient_boosting.pyc',\n",
       " '  c:\\\\users\\\\kowshik\\\\appdata\\\\local\\\\enthought\\\\canopy\\\\user\\\\lib\\\\site-packages\\\\sklearn\\\\ensemble\\\\iforest.py',\n",
       " '  c:\\\\users\\\\kowshik\\\\appdata\\\\local\\\\enthought\\\\canopy\\\\user\\\\lib\\\\site-packages\\\\sklearn\\\\ensemble\\\\iforest.pyc',\n",
       " '  c:\\\\users\\\\kowshik\\\\appdata\\\\local\\\\enthought\\\\canopy\\\\user\\\\lib\\\\site-packages\\\\sklearn\\\\ensemble\\\\partial_dependence.py',\n",
       " '  c:\\\\users\\\\kowshik\\\\appdata\\\\local\\\\enthought\\\\canopy\\\\user\\\\lib\\\\site-packages\\\\sklearn\\\\ensemble\\\\partial_dependence.pyc',\n",
       " '  c:\\\\users\\\\kowshik\\\\appdata\\\\local\\\\enthought\\\\canopy\\\\user\\\\lib\\\\site-packages\\\\sklearn\\\\ensemble\\\\setup.py',\n",
       " '  c:\\\\users\\\\kowshik\\\\appdata\\\\local\\\\enthought\\\\canopy\\\\user\\\\lib\\\\site-packages\\\\sklearn\\\\ensemble\\\\setup.pyc',\n",
       " '  c:\\\\users\\\\kowshik\\\\appdata\\\\local\\\\enthought\\\\canopy\\\\user\\\\lib\\\\site-packages\\\\sklearn\\\\ensemble\\\\tests\\\\__init__.py',\n",
       " '  c:\\\\users\\\\kowshik\\\\appdata\\\\local\\\\enthought\\\\canopy\\\\user\\\\lib\\\\site-packages\\\\sklearn\\\\ensemble\\\\tests\\\\__init__.pyc',\n",
       " '  c:\\\\users\\\\kowshik\\\\appdata\\\\local\\\\enthought\\\\canopy\\\\user\\\\lib\\\\site-packages\\\\sklearn\\\\ensemble\\\\tests\\\\test_bagging.py',\n",
       " '  c:\\\\users\\\\kowshik\\\\appdata\\\\local\\\\enthought\\\\canopy\\\\user\\\\lib\\\\site-packages\\\\sklearn\\\\ensemble\\\\tests\\\\test_bagging.pyc',\n",
       " '  c:\\\\users\\\\kowshik\\\\appdata\\\\local\\\\enthought\\\\canopy\\\\user\\\\lib\\\\site-packages\\\\sklearn\\\\ensemble\\\\tests\\\\test_base.py',\n",
       " '  c:\\\\users\\\\kowshik\\\\appdata\\\\local\\\\enthought\\\\canopy\\\\user\\\\lib\\\\site-packages\\\\sklearn\\\\ensemble\\\\tests\\\\test_base.pyc',\n",
       " '  c:\\\\users\\\\kowshik\\\\appdata\\\\local\\\\enthought\\\\canopy\\\\user\\\\lib\\\\site-packages\\\\sklearn\\\\ensemble\\\\tests\\\\test_forest.py',\n",
       " '  c:\\\\users\\\\kowshik\\\\appdata\\\\local\\\\enthought\\\\canopy\\\\user\\\\lib\\\\site-packages\\\\sklearn\\\\ensemble\\\\tests\\\\test_forest.pyc',\n",
       " '  c:\\\\users\\\\kowshik\\\\appdata\\\\local\\\\enthought\\\\canopy\\\\user\\\\lib\\\\site-packages\\\\sklearn\\\\ensemble\\\\tests\\\\test_gradient_boosting.py',\n",
       " '  c:\\\\users\\\\kowshik\\\\appdata\\\\local\\\\enthought\\\\canopy\\\\user\\\\lib\\\\site-packages\\\\sklearn\\\\ensemble\\\\tests\\\\test_gradient_boosting.pyc',\n",
       " '  c:\\\\users\\\\kowshik\\\\appdata\\\\local\\\\enthought\\\\canopy\\\\user\\\\lib\\\\site-packages\\\\sklearn\\\\ensemble\\\\tests\\\\test_gradient_boosting_loss_functions.py',\n",
       " '  c:\\\\users\\\\kowshik\\\\appdata\\\\local\\\\enthought\\\\canopy\\\\user\\\\lib\\\\site-packages\\\\sklearn\\\\ensemble\\\\tests\\\\test_gradient_boosting_loss_functions.pyc',\n",
       " '  c:\\\\users\\\\kowshik\\\\appdata\\\\local\\\\enthought\\\\canopy\\\\user\\\\lib\\\\site-packages\\\\sklearn\\\\ensemble\\\\tests\\\\test_iforest.py',\n",
       " '  c:\\\\users\\\\kowshik\\\\appdata\\\\local\\\\enthought\\\\canopy\\\\user\\\\lib\\\\site-packages\\\\sklearn\\\\ensemble\\\\tests\\\\test_iforest.pyc',\n",
       " '  c:\\\\users\\\\kowshik\\\\appdata\\\\local\\\\enthought\\\\canopy\\\\user\\\\lib\\\\site-packages\\\\sklearn\\\\ensemble\\\\tests\\\\test_partial_dependence.py',\n",
       " '  c:\\\\users\\\\kowshik\\\\appdata\\\\local\\\\enthought\\\\canopy\\\\user\\\\lib\\\\site-packages\\\\sklearn\\\\ensemble\\\\tests\\\\test_partial_dependence.pyc',\n",
       " '  c:\\\\users\\\\kowshik\\\\appdata\\\\local\\\\enthought\\\\canopy\\\\user\\\\lib\\\\site-packages\\\\sklearn\\\\ensemble\\\\tests\\\\test_voting_classifier.py',\n",
       " '  c:\\\\users\\\\kowshik\\\\appdata\\\\local\\\\enthought\\\\canopy\\\\user\\\\lib\\\\site-packages\\\\sklearn\\\\ensemble\\\\tests\\\\test_voting_classifier.pyc',\n",
       " '  c:\\\\users\\\\kowshik\\\\appdata\\\\local\\\\enthought\\\\canopy\\\\user\\\\lib\\\\site-packages\\\\sklearn\\\\ensemble\\\\tests\\\\test_weight_boosting.py',\n",
       " '  c:\\\\users\\\\kowshik\\\\appdata\\\\local\\\\enthought\\\\canopy\\\\user\\\\lib\\\\site-packages\\\\sklearn\\\\ensemble\\\\tests\\\\test_weight_boosting.pyc',\n",
       " '  c:\\\\users\\\\kowshik\\\\appdata\\\\local\\\\enthought\\\\canopy\\\\user\\\\lib\\\\site-packages\\\\sklearn\\\\ensemble\\\\voting_classifier.py',\n",
       " '  c:\\\\users\\\\kowshik\\\\appdata\\\\local\\\\enthought\\\\canopy\\\\user\\\\lib\\\\site-packages\\\\sklearn\\\\ensemble\\\\voting_classifier.pyc',\n",
       " '  c:\\\\users\\\\kowshik\\\\appdata\\\\local\\\\enthought\\\\canopy\\\\user\\\\lib\\\\site-packages\\\\sklearn\\\\ensemble\\\\weight_boosting.py',\n",
       " '  c:\\\\users\\\\kowshik\\\\appdata\\\\local\\\\enthought\\\\canopy\\\\user\\\\lib\\\\site-packages\\\\sklearn\\\\ensemble\\\\weight_boosting.pyc',\n",
       " '  c:\\\\users\\\\kowshik\\\\appdata\\\\local\\\\enthought\\\\canopy\\\\user\\\\lib\\\\site-packages\\\\sklearn\\\\exceptions.py',\n",
       " '  c:\\\\users\\\\kowshik\\\\appdata\\\\local\\\\enthought\\\\canopy\\\\user\\\\lib\\\\site-packages\\\\sklearn\\\\exceptions.pyc',\n",
       " '  c:\\\\users\\\\kowshik\\\\appdata\\\\local\\\\enthought\\\\canopy\\\\user\\\\lib\\\\site-packages\\\\sklearn\\\\externals\\\\__init__.py',\n",
       " '  c:\\\\users\\\\kowshik\\\\appdata\\\\local\\\\enthought\\\\canopy\\\\user\\\\lib\\\\site-packages\\\\sklearn\\\\externals\\\\__init__.pyc',\n",
       " '  c:\\\\users\\\\kowshik\\\\appdata\\\\local\\\\enthought\\\\canopy\\\\user\\\\lib\\\\site-packages\\\\sklearn\\\\externals\\\\funcsigs.py',\n",
       " '  c:\\\\users\\\\kowshik\\\\appdata\\\\local\\\\enthought\\\\canopy\\\\user\\\\lib\\\\site-packages\\\\sklearn\\\\externals\\\\funcsigs.pyc',\n",
       " '  c:\\\\users\\\\kowshik\\\\appdata\\\\local\\\\enthought\\\\canopy\\\\user\\\\lib\\\\site-packages\\\\sklearn\\\\externals\\\\joblib\\\\__init__.py',\n",
       " '  c:\\\\users\\\\kowshik\\\\appdata\\\\local\\\\enthought\\\\canopy\\\\user\\\\lib\\\\site-packages\\\\sklearn\\\\externals\\\\joblib\\\\__init__.pyc',\n",
       " '  c:\\\\users\\\\kowshik\\\\appdata\\\\local\\\\enthought\\\\canopy\\\\user\\\\lib\\\\site-packages\\\\sklearn\\\\externals\\\\joblib\\\\_compat.py',\n",
       " '  c:\\\\users\\\\kowshik\\\\appdata\\\\local\\\\enthought\\\\canopy\\\\user\\\\lib\\\\site-packages\\\\sklearn\\\\externals\\\\joblib\\\\_compat.pyc',\n",
       " '  c:\\\\users\\\\kowshik\\\\appdata\\\\local\\\\enthought\\\\canopy\\\\user\\\\lib\\\\site-packages\\\\sklearn\\\\externals\\\\joblib\\\\_memory_helpers.py',\n",
       " '  c:\\\\users\\\\kowshik\\\\appdata\\\\local\\\\enthought\\\\canopy\\\\user\\\\lib\\\\site-packages\\\\sklearn\\\\externals\\\\joblib\\\\_memory_helpers.pyc',\n",
       " '  c:\\\\users\\\\kowshik\\\\appdata\\\\local\\\\enthought\\\\canopy\\\\user\\\\lib\\\\site-packages\\\\sklearn\\\\externals\\\\joblib\\\\_multiprocessing_helpers.py',\n",
       " '  c:\\\\users\\\\kowshik\\\\appdata\\\\local\\\\enthought\\\\canopy\\\\user\\\\lib\\\\site-packages\\\\sklearn\\\\externals\\\\joblib\\\\_multiprocessing_helpers.pyc',\n",
       " '  c:\\\\users\\\\kowshik\\\\appdata\\\\local\\\\enthought\\\\canopy\\\\user\\\\lib\\\\site-packages\\\\sklearn\\\\externals\\\\joblib\\\\_parallel_backends.py',\n",
       " '  c:\\\\users\\\\kowshik\\\\appdata\\\\local\\\\enthought\\\\canopy\\\\user\\\\lib\\\\site-packages\\\\sklearn\\\\externals\\\\joblib\\\\_parallel_backends.pyc',\n",
       " '  c:\\\\users\\\\kowshik\\\\appdata\\\\local\\\\enthought\\\\canopy\\\\user\\\\lib\\\\site-packages\\\\sklearn\\\\externals\\\\joblib\\\\disk.py',\n",
       " '  c:\\\\users\\\\kowshik\\\\appdata\\\\local\\\\enthought\\\\canopy\\\\user\\\\lib\\\\site-packages\\\\sklearn\\\\externals\\\\joblib\\\\disk.pyc',\n",
       " '  c:\\\\users\\\\kowshik\\\\appdata\\\\local\\\\enthought\\\\canopy\\\\user\\\\lib\\\\site-packages\\\\sklearn\\\\externals\\\\joblib\\\\format_stack.py',\n",
       " '  c:\\\\users\\\\kowshik\\\\appdata\\\\local\\\\enthought\\\\canopy\\\\user\\\\lib\\\\site-packages\\\\sklearn\\\\externals\\\\joblib\\\\format_stack.pyc',\n",
       " '  c:\\\\users\\\\kowshik\\\\appdata\\\\local\\\\enthought\\\\canopy\\\\user\\\\lib\\\\site-packages\\\\sklearn\\\\externals\\\\joblib\\\\func_inspect.py',\n",
       " '  c:\\\\users\\\\kowshik\\\\appdata\\\\local\\\\enthought\\\\canopy\\\\user\\\\lib\\\\site-packages\\\\sklearn\\\\externals\\\\joblib\\\\func_inspect.pyc',\n",
       " '  c:\\\\users\\\\kowshik\\\\appdata\\\\local\\\\enthought\\\\canopy\\\\user\\\\lib\\\\site-packages\\\\sklearn\\\\externals\\\\joblib\\\\hashing.py',\n",
       " '  c:\\\\users\\\\kowshik\\\\appdata\\\\local\\\\enthought\\\\canopy\\\\user\\\\lib\\\\site-packages\\\\sklearn\\\\externals\\\\joblib\\\\hashing.pyc',\n",
       " '  c:\\\\users\\\\kowshik\\\\appdata\\\\local\\\\enthought\\\\canopy\\\\user\\\\lib\\\\site-packages\\\\sklearn\\\\externals\\\\joblib\\\\logger.py',\n",
       " '  c:\\\\users\\\\kowshik\\\\appdata\\\\local\\\\enthought\\\\canopy\\\\user\\\\lib\\\\site-packages\\\\sklearn\\\\externals\\\\joblib\\\\logger.pyc',\n",
       " '  c:\\\\users\\\\kowshik\\\\appdata\\\\local\\\\enthought\\\\canopy\\\\user\\\\lib\\\\site-packages\\\\sklearn\\\\externals\\\\joblib\\\\memory.py',\n",
       " '  c:\\\\users\\\\kowshik\\\\appdata\\\\local\\\\enthought\\\\canopy\\\\user\\\\lib\\\\site-packages\\\\sklearn\\\\externals\\\\joblib\\\\memory.pyc',\n",
       " '  c:\\\\users\\\\kowshik\\\\appdata\\\\local\\\\enthought\\\\canopy\\\\user\\\\lib\\\\site-packages\\\\sklearn\\\\externals\\\\joblib\\\\my_exceptions.py',\n",
       " '  c:\\\\users\\\\kowshik\\\\appdata\\\\local\\\\enthought\\\\canopy\\\\user\\\\lib\\\\site-packages\\\\sklearn\\\\externals\\\\joblib\\\\my_exceptions.pyc',\n",
       " '  c:\\\\users\\\\kowshik\\\\appdata\\\\local\\\\enthought\\\\canopy\\\\user\\\\lib\\\\site-packages\\\\sklearn\\\\externals\\\\joblib\\\\numpy_pickle.py',\n",
       " '  c:\\\\users\\\\kowshik\\\\appdata\\\\local\\\\enthought\\\\canopy\\\\user\\\\lib\\\\site-packages\\\\sklearn\\\\externals\\\\joblib\\\\numpy_pickle.pyc',\n",
       " '  c:\\\\users\\\\kowshik\\\\appdata\\\\local\\\\enthought\\\\canopy\\\\user\\\\lib\\\\site-packages\\\\sklearn\\\\externals\\\\joblib\\\\numpy_pickle_compat.py',\n",
       " '  c:\\\\users\\\\kowshik\\\\appdata\\\\local\\\\enthought\\\\canopy\\\\user\\\\lib\\\\site-packages\\\\sklearn\\\\externals\\\\joblib\\\\numpy_pickle_compat.pyc',\n",
       " '  c:\\\\users\\\\kowshik\\\\appdata\\\\local\\\\enthought\\\\canopy\\\\user\\\\lib\\\\site-packages\\\\sklearn\\\\externals\\\\joblib\\\\numpy_pickle_utils.py',\n",
       " '  c:\\\\users\\\\kowshik\\\\appdata\\\\local\\\\enthought\\\\canopy\\\\user\\\\lib\\\\site-packages\\\\sklearn\\\\externals\\\\joblib\\\\numpy_pickle_utils.pyc',\n",
       " '  c:\\\\users\\\\kowshik\\\\appdata\\\\local\\\\enthought\\\\canopy\\\\user\\\\lib\\\\site-packages\\\\sklearn\\\\externals\\\\joblib\\\\parallel.py',\n",
       " '  c:\\\\users\\\\kowshik\\\\appdata\\\\local\\\\enthought\\\\canopy\\\\user\\\\lib\\\\site-packages\\\\sklearn\\\\externals\\\\joblib\\\\parallel.pyc',\n",
       " '  c:\\\\users\\\\kowshik\\\\appdata\\\\local\\\\enthought\\\\canopy\\\\user\\\\lib\\\\site-packages\\\\sklearn\\\\externals\\\\joblib\\\\pool.py',\n",
       " '  c:\\\\users\\\\kowshik\\\\appdata\\\\local\\\\enthought\\\\canopy\\\\user\\\\lib\\\\site-packages\\\\sklearn\\\\externals\\\\joblib\\\\pool.pyc',\n",
       " '  c:\\\\users\\\\kowshik\\\\appdata\\\\local\\\\enthought\\\\canopy\\\\user\\\\lib\\\\site-packages\\\\sklearn\\\\externals\\\\joblib\\\\testing.py',\n",
       " '  c:\\\\users\\\\kowshik\\\\appdata\\\\local\\\\enthought\\\\canopy\\\\user\\\\lib\\\\site-packages\\\\sklearn\\\\externals\\\\joblib\\\\testing.pyc',\n",
       " '  c:\\\\users\\\\kowshik\\\\appdata\\\\local\\\\enthought\\\\canopy\\\\user\\\\lib\\\\site-packages\\\\sklearn\\\\externals\\\\odict.py',\n",
       " '  c:\\\\users\\\\kowshik\\\\appdata\\\\local\\\\enthought\\\\canopy\\\\user\\\\lib\\\\site-packages\\\\sklearn\\\\externals\\\\odict.pyc',\n",
       " '  c:\\\\users\\\\kowshik\\\\appdata\\\\local\\\\enthought\\\\canopy\\\\user\\\\lib\\\\site-packages\\\\sklearn\\\\externals\\\\setup.py',\n",
       " '  c:\\\\users\\\\kowshik\\\\appdata\\\\local\\\\enthought\\\\canopy\\\\user\\\\lib\\\\site-packages\\\\sklearn\\\\externals\\\\setup.pyc',\n",
       " '  c:\\\\users\\\\kowshik\\\\appdata\\\\local\\\\enthought\\\\canopy\\\\user\\\\lib\\\\site-packages\\\\sklearn\\\\externals\\\\six.py',\n",
       " '  c:\\\\users\\\\kowshik\\\\appdata\\\\local\\\\enthought\\\\canopy\\\\user\\\\lib\\\\site-packages\\\\sklearn\\\\externals\\\\six.pyc',\n",
       " '  c:\\\\users\\\\kowshik\\\\appdata\\\\local\\\\enthought\\\\canopy\\\\user\\\\lib\\\\site-packages\\\\sklearn\\\\externals\\\\test_externals_setup.py',\n",
       " '  c:\\\\users\\\\kowshik\\\\appdata\\\\local\\\\enthought\\\\canopy\\\\user\\\\lib\\\\site-packages\\\\sklearn\\\\externals\\\\test_externals_setup.pyc',\n",
       " '  c:\\\\users\\\\kowshik\\\\appdata\\\\local\\\\enthought\\\\canopy\\\\user\\\\lib\\\\site-packages\\\\sklearn\\\\feature_extraction\\\\__init__.py',\n",
       " '  c:\\\\users\\\\kowshik\\\\appdata\\\\local\\\\enthought\\\\canopy\\\\user\\\\lib\\\\site-packages\\\\sklearn\\\\feature_extraction\\\\__init__.pyc',\n",
       " '  c:\\\\users\\\\kowshik\\\\appdata\\\\local\\\\enthought\\\\canopy\\\\user\\\\lib\\\\site-packages\\\\sklearn\\\\feature_extraction\\\\_hashing.pyd',\n",
       " '  c:\\\\users\\\\kowshik\\\\appdata\\\\local\\\\enthought\\\\canopy\\\\user\\\\lib\\\\site-packages\\\\sklearn\\\\feature_extraction\\\\dict_vectorizer.py',\n",
       " '  c:\\\\users\\\\kowshik\\\\appdata\\\\local\\\\enthought\\\\canopy\\\\user\\\\lib\\\\site-packages\\\\sklearn\\\\feature_extraction\\\\dict_vectorizer.pyc',\n",
       " '  c:\\\\users\\\\kowshik\\\\appdata\\\\local\\\\enthought\\\\canopy\\\\user\\\\lib\\\\site-packages\\\\sklearn\\\\feature_extraction\\\\hashing.py',\n",
       " '  c:\\\\users\\\\kowshik\\\\appdata\\\\local\\\\enthought\\\\canopy\\\\user\\\\lib\\\\site-packages\\\\sklearn\\\\feature_extraction\\\\hashing.pyc',\n",
       " '  c:\\\\users\\\\kowshik\\\\appdata\\\\local\\\\enthought\\\\canopy\\\\user\\\\lib\\\\site-packages\\\\sklearn\\\\feature_extraction\\\\image.py',\n",
       " '  c:\\\\users\\\\kowshik\\\\appdata\\\\local\\\\enthought\\\\canopy\\\\user\\\\lib\\\\site-packages\\\\sklearn\\\\feature_extraction\\\\image.pyc',\n",
       " '  c:\\\\users\\\\kowshik\\\\appdata\\\\local\\\\enthought\\\\canopy\\\\user\\\\lib\\\\site-packages\\\\sklearn\\\\feature_extraction\\\\setup.py',\n",
       " '  c:\\\\users\\\\kowshik\\\\appdata\\\\local\\\\enthought\\\\canopy\\\\user\\\\lib\\\\site-packages\\\\sklearn\\\\feature_extraction\\\\setup.pyc',\n",
       " '  c:\\\\users\\\\kowshik\\\\appdata\\\\local\\\\enthought\\\\canopy\\\\user\\\\lib\\\\site-packages\\\\sklearn\\\\feature_extraction\\\\stop_words.py',\n",
       " '  c:\\\\users\\\\kowshik\\\\appdata\\\\local\\\\enthought\\\\canopy\\\\user\\\\lib\\\\site-packages\\\\sklearn\\\\feature_extraction\\\\stop_words.pyc',\n",
       " '  c:\\\\users\\\\kowshik\\\\appdata\\\\local\\\\enthought\\\\canopy\\\\user\\\\lib\\\\site-packages\\\\sklearn\\\\feature_extraction\\\\tests\\\\__init__.py',\n",
       " '  c:\\\\users\\\\kowshik\\\\appdata\\\\local\\\\enthought\\\\canopy\\\\user\\\\lib\\\\site-packages\\\\sklearn\\\\feature_extraction\\\\tests\\\\__init__.pyc',\n",
       " '  c:\\\\users\\\\kowshik\\\\appdata\\\\local\\\\enthought\\\\canopy\\\\user\\\\lib\\\\site-packages\\\\sklearn\\\\feature_extraction\\\\tests\\\\test_dict_vectorizer.py',\n",
       " '  c:\\\\users\\\\kowshik\\\\appdata\\\\local\\\\enthought\\\\canopy\\\\user\\\\lib\\\\site-packages\\\\sklearn\\\\feature_extraction\\\\tests\\\\test_dict_vectorizer.pyc',\n",
       " '  c:\\\\users\\\\kowshik\\\\appdata\\\\local\\\\enthought\\\\canopy\\\\user\\\\lib\\\\site-packages\\\\sklearn\\\\feature_extraction\\\\tests\\\\test_feature_hasher.py',\n",
       " '  c:\\\\users\\\\kowshik\\\\appdata\\\\local\\\\enthought\\\\canopy\\\\user\\\\lib\\\\site-packages\\\\sklearn\\\\feature_extraction\\\\tests\\\\test_feature_hasher.pyc',\n",
       " '  c:\\\\users\\\\kowshik\\\\appdata\\\\local\\\\enthought\\\\canopy\\\\user\\\\lib\\\\site-packages\\\\sklearn\\\\feature_extraction\\\\tests\\\\test_image.py',\n",
       " '  c:\\\\users\\\\kowshik\\\\appdata\\\\local\\\\enthought\\\\canopy\\\\user\\\\lib\\\\site-packages\\\\sklearn\\\\feature_extraction\\\\tests\\\\test_image.pyc',\n",
       " '  c:\\\\users\\\\kowshik\\\\appdata\\\\local\\\\enthought\\\\canopy\\\\user\\\\lib\\\\site-packages\\\\sklearn\\\\feature_extraction\\\\tests\\\\test_text.py',\n",
       " '  c:\\\\users\\\\kowshik\\\\appdata\\\\local\\\\enthought\\\\canopy\\\\user\\\\lib\\\\site-packages\\\\sklearn\\\\feature_extraction\\\\tests\\\\test_text.pyc',\n",
       " '  c:\\\\users\\\\kowshik\\\\appdata\\\\local\\\\enthought\\\\canopy\\\\user\\\\lib\\\\site-packages\\\\sklearn\\\\feature_extraction\\\\text.py',\n",
       " '  c:\\\\users\\\\kowshik\\\\appdata\\\\local\\\\enthought\\\\canopy\\\\user\\\\lib\\\\site-packages\\\\sklearn\\\\feature_extraction\\\\text.pyc',\n",
       " '  c:\\\\users\\\\kowshik\\\\appdata\\\\local\\\\enthought\\\\canopy\\\\user\\\\lib\\\\site-packages\\\\sklearn\\\\feature_selection\\\\__init__.py',\n",
       " '  c:\\\\users\\\\kowshik\\\\appdata\\\\local\\\\enthought\\\\canopy\\\\user\\\\lib\\\\site-packages\\\\sklearn\\\\feature_selection\\\\__init__.pyc',\n",
       " '  c:\\\\users\\\\kowshik\\\\appdata\\\\local\\\\enthought\\\\canopy\\\\user\\\\lib\\\\site-packages\\\\sklearn\\\\feature_selection\\\\base.py',\n",
       " '  c:\\\\users\\\\kowshik\\\\appdata\\\\local\\\\enthought\\\\canopy\\\\user\\\\lib\\\\site-packages\\\\sklearn\\\\feature_selection\\\\base.pyc',\n",
       " '  c:\\\\users\\\\kowshik\\\\appdata\\\\local\\\\enthought\\\\canopy\\\\user\\\\lib\\\\site-packages\\\\sklearn\\\\feature_selection\\\\from_model.py',\n",
       " '  c:\\\\users\\\\kowshik\\\\appdata\\\\local\\\\enthought\\\\canopy\\\\user\\\\lib\\\\site-packages\\\\sklearn\\\\feature_selection\\\\from_model.pyc',\n",
       " '  c:\\\\users\\\\kowshik\\\\appdata\\\\local\\\\enthought\\\\canopy\\\\user\\\\lib\\\\site-packages\\\\sklearn\\\\feature_selection\\\\mutual_info_.py',\n",
       " '  c:\\\\users\\\\kowshik\\\\appdata\\\\local\\\\enthought\\\\canopy\\\\user\\\\lib\\\\site-packages\\\\sklearn\\\\feature_selection\\\\mutual_info_.pyc',\n",
       " '  c:\\\\users\\\\kowshik\\\\appdata\\\\local\\\\enthought\\\\canopy\\\\user\\\\lib\\\\site-packages\\\\sklearn\\\\feature_selection\\\\rfe.py',\n",
       " '  c:\\\\users\\\\kowshik\\\\appdata\\\\local\\\\enthought\\\\canopy\\\\user\\\\lib\\\\site-packages\\\\sklearn\\\\feature_selection\\\\rfe.pyc',\n",
       " '  c:\\\\users\\\\kowshik\\\\appdata\\\\local\\\\enthought\\\\canopy\\\\user\\\\lib\\\\site-packages\\\\sklearn\\\\feature_selection\\\\tests\\\\__init__.py',\n",
       " '  c:\\\\users\\\\kowshik\\\\appdata\\\\local\\\\enthought\\\\canopy\\\\user\\\\lib\\\\site-packages\\\\sklearn\\\\feature_selection\\\\tests\\\\__init__.pyc',\n",
       " '  c:\\\\users\\\\kowshik\\\\appdata\\\\local\\\\enthought\\\\canopy\\\\user\\\\lib\\\\site-packages\\\\sklearn\\\\feature_selection\\\\tests\\\\test_base.py',\n",
       " '  c:\\\\users\\\\kowshik\\\\appdata\\\\local\\\\enthought\\\\canopy\\\\user\\\\lib\\\\site-packages\\\\sklearn\\\\feature_selection\\\\tests\\\\test_base.pyc',\n",
       " '  c:\\\\users\\\\kowshik\\\\appdata\\\\local\\\\enthought\\\\canopy\\\\user\\\\lib\\\\site-packages\\\\sklearn\\\\feature_selection\\\\tests\\\\test_chi2.py',\n",
       " '  c:\\\\users\\\\kowshik\\\\appdata\\\\local\\\\enthought\\\\canopy\\\\user\\\\lib\\\\site-packages\\\\sklearn\\\\feature_selection\\\\tests\\\\test_chi2.pyc',\n",
       " '  c:\\\\users\\\\kowshik\\\\appdata\\\\local\\\\enthought\\\\canopy\\\\user\\\\lib\\\\site-packages\\\\sklearn\\\\feature_selection\\\\tests\\\\test_feature_select.py',\n",
       " '  c:\\\\users\\\\kowshik\\\\appdata\\\\local\\\\enthought\\\\canopy\\\\user\\\\lib\\\\site-packages\\\\sklearn\\\\feature_selection\\\\tests\\\\test_feature_select.pyc',\n",
       " '  c:\\\\users\\\\kowshik\\\\appdata\\\\local\\\\enthought\\\\canopy\\\\user\\\\lib\\\\site-packages\\\\sklearn\\\\feature_selection\\\\tests\\\\test_from_model.py',\n",
       " '  c:\\\\users\\\\kowshik\\\\appdata\\\\local\\\\enthought\\\\canopy\\\\user\\\\lib\\\\site-packages\\\\sklearn\\\\feature_selection\\\\tests\\\\test_from_model.pyc',\n",
       " '  c:\\\\users\\\\kowshik\\\\appdata\\\\local\\\\enthought\\\\canopy\\\\user\\\\lib\\\\site-packages\\\\sklearn\\\\feature_selection\\\\tests\\\\test_mutual_info.py',\n",
       " '  c:\\\\users\\\\kowshik\\\\appdata\\\\local\\\\enthought\\\\canopy\\\\user\\\\lib\\\\site-packages\\\\sklearn\\\\feature_selection\\\\tests\\\\test_mutual_info.pyc',\n",
       " '  c:\\\\users\\\\kowshik\\\\appdata\\\\local\\\\enthought\\\\canopy\\\\user\\\\lib\\\\site-packages\\\\sklearn\\\\feature_selection\\\\tests\\\\test_rfe.py',\n",
       " '  c:\\\\users\\\\kowshik\\\\appdata\\\\local\\\\enthought\\\\canopy\\\\user\\\\lib\\\\site-packages\\\\sklearn\\\\feature_selection\\\\tests\\\\test_rfe.pyc',\n",
       " '  c:\\\\users\\\\kowshik\\\\appdata\\\\local\\\\enthought\\\\canopy\\\\user\\\\lib\\\\site-packages\\\\sklearn\\\\feature_selection\\\\tests\\\\test_variance_threshold.py',\n",
       " '  c:\\\\users\\\\kowshik\\\\appdata\\\\local\\\\enthought\\\\canopy\\\\user\\\\lib\\\\site-packages\\\\sklearn\\\\feature_selection\\\\tests\\\\test_variance_threshold.pyc',\n",
       " '  c:\\\\users\\\\kowshik\\\\appdata\\\\local\\\\enthought\\\\canopy\\\\user\\\\lib\\\\site-packages\\\\sklearn\\\\feature_selection\\\\univariate_selection.py',\n",
       " '  c:\\\\users\\\\kowshik\\\\appdata\\\\local\\\\enthought\\\\canopy\\\\user\\\\lib\\\\site-packages\\\\sklearn\\\\feature_selection\\\\univariate_selection.pyc',\n",
       " '  c:\\\\users\\\\kowshik\\\\appdata\\\\local\\\\enthought\\\\canopy\\\\user\\\\lib\\\\site-packages\\\\sklearn\\\\feature_selection\\\\variance_threshold.py',\n",
       " '  c:\\\\users\\\\kowshik\\\\appdata\\\\local\\\\enthought\\\\canopy\\\\user\\\\lib\\\\site-packages\\\\sklearn\\\\feature_selection\\\\variance_threshold.pyc',\n",
       " '  c:\\\\users\\\\kowshik\\\\appdata\\\\local\\\\enthought\\\\canopy\\\\user\\\\lib\\\\site-packages\\\\sklearn\\\\gaussian_process\\\\__init__.py',\n",
       " '  c:\\\\users\\\\kowshik\\\\appdata\\\\local\\\\enthought\\\\canopy\\\\user\\\\lib\\\\site-packages\\\\sklearn\\\\gaussian_process\\\\__init__.pyc',\n",
       " '  c:\\\\users\\\\kowshik\\\\appdata\\\\local\\\\enthought\\\\canopy\\\\user\\\\lib\\\\site-packages\\\\sklearn\\\\gaussian_process\\\\correlation_models.py',\n",
       " '  c:\\\\users\\\\kowshik\\\\appdata\\\\local\\\\enthought\\\\canopy\\\\user\\\\lib\\\\site-packages\\\\sklearn\\\\gaussian_process\\\\correlation_models.pyc',\n",
       " '  c:\\\\users\\\\kowshik\\\\appdata\\\\local\\\\enthought\\\\canopy\\\\user\\\\lib\\\\site-packages\\\\sklearn\\\\gaussian_process\\\\gaussian_process.py',\n",
       " '  c:\\\\users\\\\kowshik\\\\appdata\\\\local\\\\enthought\\\\canopy\\\\user\\\\lib\\\\site-packages\\\\sklearn\\\\gaussian_process\\\\gaussian_process.pyc',\n",
       " '  c:\\\\users\\\\kowshik\\\\appdata\\\\local\\\\enthought\\\\canopy\\\\user\\\\lib\\\\site-packages\\\\sklearn\\\\gaussian_process\\\\gpc.py',\n",
       " '  c:\\\\users\\\\kowshik\\\\appdata\\\\local\\\\enthought\\\\canopy\\\\user\\\\lib\\\\site-packages\\\\sklearn\\\\gaussian_process\\\\gpc.pyc',\n",
       " '  c:\\\\users\\\\kowshik\\\\appdata\\\\local\\\\enthought\\\\canopy\\\\user\\\\lib\\\\site-packages\\\\sklearn\\\\gaussian_process\\\\gpr.py',\n",
       " '  c:\\\\users\\\\kowshik\\\\appdata\\\\local\\\\enthought\\\\canopy\\\\user\\\\lib\\\\site-packages\\\\sklearn\\\\gaussian_process\\\\gpr.pyc',\n",
       " '  c:\\\\users\\\\kowshik\\\\appdata\\\\local\\\\enthought\\\\canopy\\\\user\\\\lib\\\\site-packages\\\\sklearn\\\\gaussian_process\\\\kernels.py',\n",
       " '  c:\\\\users\\\\kowshik\\\\appdata\\\\local\\\\enthought\\\\canopy\\\\user\\\\lib\\\\site-packages\\\\sklearn\\\\gaussian_process\\\\kernels.pyc',\n",
       " '  c:\\\\users\\\\kowshik\\\\appdata\\\\local\\\\enthought\\\\canopy\\\\user\\\\lib\\\\site-packages\\\\sklearn\\\\gaussian_process\\\\regression_models.py',\n",
       " '  c:\\\\users\\\\kowshik\\\\appdata\\\\local\\\\enthought\\\\canopy\\\\user\\\\lib\\\\site-packages\\\\sklearn\\\\gaussian_process\\\\regression_models.pyc',\n",
       " '  c:\\\\users\\\\kowshik\\\\appdata\\\\local\\\\enthought\\\\canopy\\\\user\\\\lib\\\\site-packages\\\\sklearn\\\\gaussian_process\\\\tests\\\\__init__.py',\n",
       " '  c:\\\\users\\\\kowshik\\\\appdata\\\\local\\\\enthought\\\\canopy\\\\user\\\\lib\\\\site-packages\\\\sklearn\\\\gaussian_process\\\\tests\\\\__init__.pyc',\n",
       " '  c:\\\\users\\\\kowshik\\\\appdata\\\\local\\\\enthought\\\\canopy\\\\user\\\\lib\\\\site-packages\\\\sklearn\\\\gaussian_process\\\\tests\\\\test_gaussian_process.py',\n",
       " '  c:\\\\users\\\\kowshik\\\\appdata\\\\local\\\\enthought\\\\canopy\\\\user\\\\lib\\\\site-packages\\\\sklearn\\\\gaussian_process\\\\tests\\\\test_gaussian_process.pyc',\n",
       " '  c:\\\\users\\\\kowshik\\\\appdata\\\\local\\\\enthought\\\\canopy\\\\user\\\\lib\\\\site-packages\\\\sklearn\\\\gaussian_process\\\\tests\\\\test_gpc.py',\n",
       " '  c:\\\\users\\\\kowshik\\\\appdata\\\\local\\\\enthought\\\\canopy\\\\user\\\\lib\\\\site-packages\\\\sklearn\\\\gaussian_process\\\\tests\\\\test_gpc.pyc',\n",
       " '  c:\\\\users\\\\kowshik\\\\appdata\\\\local\\\\enthought\\\\canopy\\\\user\\\\lib\\\\site-packages\\\\sklearn\\\\gaussian_process\\\\tests\\\\test_gpr.py',\n",
       " '  c:\\\\users\\\\kowshik\\\\appdata\\\\local\\\\enthought\\\\canopy\\\\user\\\\lib\\\\site-packages\\\\sklearn\\\\gaussian_process\\\\tests\\\\test_gpr.pyc',\n",
       " '  c:\\\\users\\\\kowshik\\\\appdata\\\\local\\\\enthought\\\\canopy\\\\user\\\\lib\\\\site-packages\\\\sklearn\\\\gaussian_process\\\\tests\\\\test_kernels.py',\n",
       " '  c:\\\\users\\\\kowshik\\\\appdata\\\\local\\\\enthought\\\\canopy\\\\user\\\\lib\\\\site-packages\\\\sklearn\\\\gaussian_process\\\\tests\\\\test_kernels.pyc',\n",
       " '  c:\\\\users\\\\kowshik\\\\appdata\\\\local\\\\enthought\\\\canopy\\\\user\\\\lib\\\\site-packages\\\\sklearn\\\\grid_search.py',\n",
       " '  c:\\\\users\\\\kowshik\\\\appdata\\\\local\\\\enthought\\\\canopy\\\\user\\\\lib\\\\site-packages\\\\sklearn\\\\grid_search.pyc',\n",
       " '  c:\\\\users\\\\kowshik\\\\appdata\\\\local\\\\enthought\\\\canopy\\\\user\\\\lib\\\\site-packages\\\\sklearn\\\\isotonic.py',\n",
       " '  c:\\\\users\\\\kowshik\\\\appdata\\\\local\\\\enthought\\\\canopy\\\\user\\\\lib\\\\site-packages\\\\sklearn\\\\isotonic.pyc',\n",
       " '  c:\\\\users\\\\kowshik\\\\appdata\\\\local\\\\enthought\\\\canopy\\\\user\\\\lib\\\\site-packages\\\\sklearn\\\\kernel_approximation.py',\n",
       " '  c:\\\\users\\\\kowshik\\\\appdata\\\\local\\\\enthought\\\\canopy\\\\user\\\\lib\\\\site-packages\\\\sklearn\\\\kernel_approximation.pyc',\n",
       " '  c:\\\\users\\\\kowshik\\\\appdata\\\\local\\\\enthought\\\\canopy\\\\user\\\\lib\\\\site-packages\\\\sklearn\\\\kernel_ridge.py',\n",
       " '  c:\\\\users\\\\kowshik\\\\appdata\\\\local\\\\enthought\\\\canopy\\\\user\\\\lib\\\\site-packages\\\\sklearn\\\\kernel_ridge.pyc',\n",
       " '  c:\\\\users\\\\kowshik\\\\appdata\\\\local\\\\enthought\\\\canopy\\\\user\\\\lib\\\\site-packages\\\\sklearn\\\\lda.py',\n",
       " '  c:\\\\users\\\\kowshik\\\\appdata\\\\local\\\\enthought\\\\canopy\\\\user\\\\lib\\\\site-packages\\\\sklearn\\\\lda.pyc',\n",
       " '  c:\\\\users\\\\kowshik\\\\appdata\\\\local\\\\enthought\\\\canopy\\\\user\\\\lib\\\\site-packages\\\\sklearn\\\\learning_curve.py',\n",
       " '  c:\\\\users\\\\kowshik\\\\appdata\\\\local\\\\enthought\\\\canopy\\\\user\\\\lib\\\\site-packages\\\\sklearn\\\\learning_curve.pyc',\n",
       " '  c:\\\\users\\\\kowshik\\\\appdata\\\\local\\\\enthought\\\\canopy\\\\user\\\\lib\\\\site-packages\\\\sklearn\\\\linear_model\\\\__init__.py',\n",
       " '  c:\\\\users\\\\kowshik\\\\appdata\\\\local\\\\enthought\\\\canopy\\\\user\\\\lib\\\\site-packages\\\\sklearn\\\\linear_model\\\\__init__.pyc',\n",
       " '  c:\\\\users\\\\kowshik\\\\appdata\\\\local\\\\enthought\\\\canopy\\\\user\\\\lib\\\\site-packages\\\\sklearn\\\\linear_model\\\\base.py',\n",
       " '  c:\\\\users\\\\kowshik\\\\appdata\\\\local\\\\enthought\\\\canopy\\\\user\\\\lib\\\\site-packages\\\\sklearn\\\\linear_model\\\\base.pyc',\n",
       " '  c:\\\\users\\\\kowshik\\\\appdata\\\\local\\\\enthought\\\\canopy\\\\user\\\\lib\\\\site-packages\\\\sklearn\\\\linear_model\\\\bayes.py',\n",
       " '  c:\\\\users\\\\kowshik\\\\appdata\\\\local\\\\enthought\\\\canopy\\\\user\\\\lib\\\\site-packages\\\\sklearn\\\\linear_model\\\\bayes.pyc',\n",
       " '  c:\\\\users\\\\kowshik\\\\appdata\\\\local\\\\enthought\\\\canopy\\\\user\\\\lib\\\\site-packages\\\\sklearn\\\\linear_model\\\\cd_fast.pyd',\n",
       " '  c:\\\\users\\\\kowshik\\\\appdata\\\\local\\\\enthought\\\\canopy\\\\user\\\\lib\\\\site-packages\\\\sklearn\\\\linear_model\\\\coordinate_descent.py',\n",
       " '  c:\\\\users\\\\kowshik\\\\appdata\\\\local\\\\enthought\\\\canopy\\\\user\\\\lib\\\\site-packages\\\\sklearn\\\\linear_model\\\\coordinate_descent.pyc',\n",
       " '  c:\\\\users\\\\kowshik\\\\appdata\\\\local\\\\enthought\\\\canopy\\\\user\\\\lib\\\\site-packages\\\\sklearn\\\\linear_model\\\\huber.py',\n",
       " '  c:\\\\users\\\\kowshik\\\\appdata\\\\local\\\\enthought\\\\canopy\\\\user\\\\lib\\\\site-packages\\\\sklearn\\\\linear_model\\\\huber.pyc',\n",
       " '  c:\\\\users\\\\kowshik\\\\appdata\\\\local\\\\enthought\\\\canopy\\\\user\\\\lib\\\\site-packages\\\\sklearn\\\\linear_model\\\\least_angle.py',\n",
       " '  c:\\\\users\\\\kowshik\\\\appdata\\\\local\\\\enthought\\\\canopy\\\\user\\\\lib\\\\site-packages\\\\sklearn\\\\linear_model\\\\least_angle.pyc',\n",
       " '  c:\\\\users\\\\kowshik\\\\appdata\\\\local\\\\enthought\\\\canopy\\\\user\\\\lib\\\\site-packages\\\\sklearn\\\\linear_model\\\\logistic.py',\n",
       " '  c:\\\\users\\\\kowshik\\\\appdata\\\\local\\\\enthought\\\\canopy\\\\user\\\\lib\\\\site-packages\\\\sklearn\\\\linear_model\\\\logistic.pyc',\n",
       " '  c:\\\\users\\\\kowshik\\\\appdata\\\\local\\\\enthought\\\\canopy\\\\user\\\\lib\\\\site-packages\\\\sklearn\\\\linear_model\\\\omp.py',\n",
       " '  c:\\\\users\\\\kowshik\\\\appdata\\\\local\\\\enthought\\\\canopy\\\\user\\\\lib\\\\site-packages\\\\sklearn\\\\linear_model\\\\omp.pyc',\n",
       " '  c:\\\\users\\\\kowshik\\\\appdata\\\\local\\\\enthought\\\\canopy\\\\user\\\\lib\\\\site-packages\\\\sklearn\\\\linear_model\\\\passive_aggressive.py',\n",
       " '  c:\\\\users\\\\kowshik\\\\appdata\\\\local\\\\enthought\\\\canopy\\\\user\\\\lib\\\\site-packages\\\\sklearn\\\\linear_model\\\\passive_aggressive.pyc',\n",
       " '  c:\\\\users\\\\kowshik\\\\appdata\\\\local\\\\enthought\\\\canopy\\\\user\\\\lib\\\\site-packages\\\\sklearn\\\\linear_model\\\\perceptron.py',\n",
       " '  c:\\\\users\\\\kowshik\\\\appdata\\\\local\\\\enthought\\\\canopy\\\\user\\\\lib\\\\site-packages\\\\sklearn\\\\linear_model\\\\perceptron.pyc',\n",
       " '  c:\\\\users\\\\kowshik\\\\appdata\\\\local\\\\enthought\\\\canopy\\\\user\\\\lib\\\\site-packages\\\\sklearn\\\\linear_model\\\\randomized_l1.py',\n",
       " '  c:\\\\users\\\\kowshik\\\\appdata\\\\local\\\\enthought\\\\canopy\\\\user\\\\lib\\\\site-packages\\\\sklearn\\\\linear_model\\\\randomized_l1.pyc',\n",
       " '  c:\\\\users\\\\kowshik\\\\appdata\\\\local\\\\enthought\\\\canopy\\\\user\\\\lib\\\\site-packages\\\\sklearn\\\\linear_model\\\\ransac.py',\n",
       " '  c:\\\\users\\\\kowshik\\\\appdata\\\\local\\\\enthought\\\\canopy\\\\user\\\\lib\\\\site-packages\\\\sklearn\\\\linear_model\\\\ransac.pyc',\n",
       " '  c:\\\\users\\\\kowshik\\\\appdata\\\\local\\\\enthought\\\\canopy\\\\user\\\\lib\\\\site-packages\\\\sklearn\\\\linear_model\\\\ridge.py',\n",
       " '  c:\\\\users\\\\kowshik\\\\appdata\\\\local\\\\enthought\\\\canopy\\\\user\\\\lib\\\\site-packages\\\\sklearn\\\\linear_model\\\\ridge.pyc',\n",
       " '  c:\\\\users\\\\kowshik\\\\appdata\\\\local\\\\enthought\\\\canopy\\\\user\\\\lib\\\\site-packages\\\\sklearn\\\\linear_model\\\\sag.py',\n",
       " '  c:\\\\users\\\\kowshik\\\\appdata\\\\local\\\\enthought\\\\canopy\\\\user\\\\lib\\\\site-packages\\\\sklearn\\\\linear_model\\\\sag.pyc',\n",
       " '  c:\\\\users\\\\kowshik\\\\appdata\\\\local\\\\enthought\\\\canopy\\\\user\\\\lib\\\\site-packages\\\\sklearn\\\\linear_model\\\\sag_fast.pyd',\n",
       " '  c:\\\\users\\\\kowshik\\\\appdata\\\\local\\\\enthought\\\\canopy\\\\user\\\\lib\\\\site-packages\\\\sklearn\\\\linear_model\\\\setup.py',\n",
       " '  c:\\\\users\\\\kowshik\\\\appdata\\\\local\\\\enthought\\\\canopy\\\\user\\\\lib\\\\site-packages\\\\sklearn\\\\linear_model\\\\setup.pyc',\n",
       " '  c:\\\\users\\\\kowshik\\\\appdata\\\\local\\\\enthought\\\\canopy\\\\user\\\\lib\\\\site-packages\\\\sklearn\\\\linear_model\\\\sgd_fast.pyd',\n",
       " '  c:\\\\users\\\\kowshik\\\\appdata\\\\local\\\\enthought\\\\canopy\\\\user\\\\lib\\\\site-packages\\\\sklearn\\\\linear_model\\\\stochastic_gradient.py',\n",
       " '  c:\\\\users\\\\kowshik\\\\appdata\\\\local\\\\enthought\\\\canopy\\\\user\\\\lib\\\\site-packages\\\\sklearn\\\\linear_model\\\\stochastic_gradient.pyc',\n",
       " '  c:\\\\users\\\\kowshik\\\\appdata\\\\local\\\\enthought\\\\canopy\\\\user\\\\lib\\\\site-packages\\\\sklearn\\\\linear_model\\\\tests\\\\__init__.py',\n",
       " '  c:\\\\users\\\\kowshik\\\\appdata\\\\local\\\\enthought\\\\canopy\\\\user\\\\lib\\\\site-packages\\\\sklearn\\\\linear_model\\\\tests\\\\__init__.pyc',\n",
       " '  c:\\\\users\\\\kowshik\\\\appdata\\\\local\\\\enthought\\\\canopy\\\\user\\\\lib\\\\site-packages\\\\sklearn\\\\linear_model\\\\tests\\\\test_base.py',\n",
       " '  c:\\\\users\\\\kowshik\\\\appdata\\\\local\\\\enthought\\\\canopy\\\\user\\\\lib\\\\site-packages\\\\sklearn\\\\linear_model\\\\tests\\\\test_base.pyc',\n",
       " '  c:\\\\users\\\\kowshik\\\\appdata\\\\local\\\\enthought\\\\canopy\\\\user\\\\lib\\\\site-packages\\\\sklearn\\\\linear_model\\\\tests\\\\test_bayes.py',\n",
       " '  c:\\\\users\\\\kowshik\\\\appdata\\\\local\\\\enthought\\\\canopy\\\\user\\\\lib\\\\site-packages\\\\sklearn\\\\linear_model\\\\tests\\\\test_bayes.pyc',\n",
       " '  c:\\\\users\\\\kowshik\\\\appdata\\\\local\\\\enthought\\\\canopy\\\\user\\\\lib\\\\site-packages\\\\sklearn\\\\linear_model\\\\tests\\\\test_coordinate_descent.py',\n",
       " '  c:\\\\users\\\\kowshik\\\\appdata\\\\local\\\\enthought\\\\canopy\\\\user\\\\lib\\\\site-packages\\\\sklearn\\\\linear_model\\\\tests\\\\test_coordinate_descent.pyc',\n",
       " '  c:\\\\users\\\\kowshik\\\\appdata\\\\local\\\\enthought\\\\canopy\\\\user\\\\lib\\\\site-packages\\\\sklearn\\\\linear_model\\\\tests\\\\test_huber.py',\n",
       " '  c:\\\\users\\\\kowshik\\\\appdata\\\\local\\\\enthought\\\\canopy\\\\user\\\\lib\\\\site-packages\\\\sklearn\\\\linear_model\\\\tests\\\\test_huber.pyc',\n",
       " '  c:\\\\users\\\\kowshik\\\\appdata\\\\local\\\\enthought\\\\canopy\\\\user\\\\lib\\\\site-packages\\\\sklearn\\\\linear_model\\\\tests\\\\test_least_angle.py',\n",
       " '  c:\\\\users\\\\kowshik\\\\appdata\\\\local\\\\enthought\\\\canopy\\\\user\\\\lib\\\\site-packages\\\\sklearn\\\\linear_model\\\\tests\\\\test_least_angle.pyc',\n",
       " '  c:\\\\users\\\\kowshik\\\\appdata\\\\local\\\\enthought\\\\canopy\\\\user\\\\lib\\\\site-packages\\\\sklearn\\\\linear_model\\\\tests\\\\test_logistic.py',\n",
       " '  c:\\\\users\\\\kowshik\\\\appdata\\\\local\\\\enthought\\\\canopy\\\\user\\\\lib\\\\site-packages\\\\sklearn\\\\linear_model\\\\tests\\\\test_logistic.pyc',\n",
       " '  c:\\\\users\\\\kowshik\\\\appdata\\\\local\\\\enthought\\\\canopy\\\\user\\\\lib\\\\site-packages\\\\sklearn\\\\linear_model\\\\tests\\\\test_omp.py',\n",
       " '  c:\\\\users\\\\kowshik\\\\appdata\\\\local\\\\enthought\\\\canopy\\\\user\\\\lib\\\\site-packages\\\\sklearn\\\\linear_model\\\\tests\\\\test_omp.pyc',\n",
       " '  c:\\\\users\\\\kowshik\\\\appdata\\\\local\\\\enthought\\\\canopy\\\\user\\\\lib\\\\site-packages\\\\sklearn\\\\linear_model\\\\tests\\\\test_passive_aggressive.py',\n",
       " '  c:\\\\users\\\\kowshik\\\\appdata\\\\local\\\\enthought\\\\canopy\\\\user\\\\lib\\\\site-packages\\\\sklearn\\\\linear_model\\\\tests\\\\test_passive_aggressive.pyc',\n",
       " '  c:\\\\users\\\\kowshik\\\\appdata\\\\local\\\\enthought\\\\canopy\\\\user\\\\lib\\\\site-packages\\\\sklearn\\\\linear_model\\\\tests\\\\test_perceptron.py',\n",
       " '  c:\\\\users\\\\kowshik\\\\appdata\\\\local\\\\enthought\\\\canopy\\\\user\\\\lib\\\\site-packages\\\\sklearn\\\\linear_model\\\\tests\\\\test_perceptron.pyc',\n",
       " '  c:\\\\users\\\\kowshik\\\\appdata\\\\local\\\\enthought\\\\canopy\\\\user\\\\lib\\\\site-packages\\\\sklearn\\\\linear_model\\\\tests\\\\test_randomized_l1.py',\n",
       " '  c:\\\\users\\\\kowshik\\\\appdata\\\\local\\\\enthought\\\\canopy\\\\user\\\\lib\\\\site-packages\\\\sklearn\\\\linear_model\\\\tests\\\\test_randomized_l1.pyc',\n",
       " '  c:\\\\users\\\\kowshik\\\\appdata\\\\local\\\\enthought\\\\canopy\\\\user\\\\lib\\\\site-packages\\\\sklearn\\\\linear_model\\\\tests\\\\test_ransac.py',\n",
       " '  c:\\\\users\\\\kowshik\\\\appdata\\\\local\\\\enthought\\\\canopy\\\\user\\\\lib\\\\site-packages\\\\sklearn\\\\linear_model\\\\tests\\\\test_ransac.pyc',\n",
       " '  c:\\\\users\\\\kowshik\\\\appdata\\\\local\\\\enthought\\\\canopy\\\\user\\\\lib\\\\site-packages\\\\sklearn\\\\linear_model\\\\tests\\\\test_ridge.py',\n",
       " '  c:\\\\users\\\\kowshik\\\\appdata\\\\local\\\\enthought\\\\canopy\\\\user\\\\lib\\\\site-packages\\\\sklearn\\\\linear_model\\\\tests\\\\test_ridge.pyc',\n",
       " '  c:\\\\users\\\\kowshik\\\\appdata\\\\local\\\\enthought\\\\canopy\\\\user\\\\lib\\\\site-packages\\\\sklearn\\\\linear_model\\\\tests\\\\test_sag.py',\n",
       " '  c:\\\\users\\\\kowshik\\\\appdata\\\\local\\\\enthought\\\\canopy\\\\user\\\\lib\\\\site-packages\\\\sklearn\\\\linear_model\\\\tests\\\\test_sag.pyc',\n",
       " '  c:\\\\users\\\\kowshik\\\\appdata\\\\local\\\\enthought\\\\canopy\\\\user\\\\lib\\\\site-packages\\\\sklearn\\\\linear_model\\\\tests\\\\test_sgd.py',\n",
       " '  c:\\\\users\\\\kowshik\\\\appdata\\\\local\\\\enthought\\\\canopy\\\\user\\\\lib\\\\site-packages\\\\sklearn\\\\linear_model\\\\tests\\\\test_sgd.pyc',\n",
       " '  c:\\\\users\\\\kowshik\\\\appdata\\\\local\\\\enthought\\\\canopy\\\\user\\\\lib\\\\site-packages\\\\sklearn\\\\linear_model\\\\tests\\\\test_sparse_coordinate_descent.py',\n",
       " '  c:\\\\users\\\\kowshik\\\\appdata\\\\local\\\\enthought\\\\canopy\\\\user\\\\lib\\\\site-packages\\\\sklearn\\\\linear_model\\\\tests\\\\test_sparse_coordinate_descent.pyc',\n",
       " '  c:\\\\users\\\\kowshik\\\\appdata\\\\local\\\\enthought\\\\canopy\\\\user\\\\lib\\\\site-packages\\\\sklearn\\\\linear_model\\\\tests\\\\test_theil_sen.py',\n",
       " '  c:\\\\users\\\\kowshik\\\\appdata\\\\local\\\\enthought\\\\canopy\\\\user\\\\lib\\\\site-packages\\\\sklearn\\\\linear_model\\\\tests\\\\test_theil_sen.pyc',\n",
       " '  c:\\\\users\\\\kowshik\\\\appdata\\\\local\\\\enthought\\\\canopy\\\\user\\\\lib\\\\site-packages\\\\sklearn\\\\linear_model\\\\theil_sen.py',\n",
       " '  c:\\\\users\\\\kowshik\\\\appdata\\\\local\\\\enthought\\\\canopy\\\\user\\\\lib\\\\site-packages\\\\sklearn\\\\linear_model\\\\theil_sen.pyc',\n",
       " '  c:\\\\users\\\\kowshik\\\\appdata\\\\local\\\\enthought\\\\canopy\\\\user\\\\lib\\\\site-packages\\\\sklearn\\\\manifold\\\\__init__.py',\n",
       " '  c:\\\\users\\\\kowshik\\\\appdata\\\\local\\\\enthought\\\\canopy\\\\user\\\\lib\\\\site-packages\\\\sklearn\\\\manifold\\\\__init__.pyc',\n",
       " '  c:\\\\users\\\\kowshik\\\\appdata\\\\local\\\\enthought\\\\canopy\\\\user\\\\lib\\\\site-packages\\\\sklearn\\\\manifold\\\\_barnes_hut_tsne.pyd',\n",
       " '  c:\\\\users\\\\kowshik\\\\appdata\\\\local\\\\enthought\\\\canopy\\\\user\\\\lib\\\\site-packages\\\\sklearn\\\\manifold\\\\_utils.pyd',\n",
       " '  c:\\\\users\\\\kowshik\\\\appdata\\\\local\\\\enthought\\\\canopy\\\\user\\\\lib\\\\site-packages\\\\sklearn\\\\manifold\\\\isomap.py',\n",
       " '  c:\\\\users\\\\kowshik\\\\appdata\\\\local\\\\enthought\\\\canopy\\\\user\\\\lib\\\\site-packages\\\\sklearn\\\\manifold\\\\isomap.pyc',\n",
       " '  c:\\\\users\\\\kowshik\\\\appdata\\\\local\\\\enthought\\\\canopy\\\\user\\\\lib\\\\site-packages\\\\sklearn\\\\manifold\\\\locally_linear.py',\n",
       " '  c:\\\\users\\\\kowshik\\\\appdata\\\\local\\\\enthought\\\\canopy\\\\user\\\\lib\\\\site-packages\\\\sklearn\\\\manifold\\\\locally_linear.pyc',\n",
       " '  c:\\\\users\\\\kowshik\\\\appdata\\\\local\\\\enthought\\\\canopy\\\\user\\\\lib\\\\site-packages\\\\sklearn\\\\manifold\\\\mds.py',\n",
       " '  c:\\\\users\\\\kowshik\\\\appdata\\\\local\\\\enthought\\\\canopy\\\\user\\\\lib\\\\site-packages\\\\sklearn\\\\manifold\\\\mds.pyc',\n",
       " '  c:\\\\users\\\\kowshik\\\\appdata\\\\local\\\\enthought\\\\canopy\\\\user\\\\lib\\\\site-packages\\\\sklearn\\\\manifold\\\\setup.py',\n",
       " '  c:\\\\users\\\\kowshik\\\\appdata\\\\local\\\\enthought\\\\canopy\\\\user\\\\lib\\\\site-packages\\\\sklearn\\\\manifold\\\\setup.pyc',\n",
       " '  c:\\\\users\\\\kowshik\\\\appdata\\\\local\\\\enthought\\\\canopy\\\\user\\\\lib\\\\site-packages\\\\sklearn\\\\manifold\\\\spectral_embedding_.py',\n",
       " '  c:\\\\users\\\\kowshik\\\\appdata\\\\local\\\\enthought\\\\canopy\\\\user\\\\lib\\\\site-packages\\\\sklearn\\\\manifold\\\\spectral_embedding_.pyc',\n",
       " '  c:\\\\users\\\\kowshik\\\\appdata\\\\local\\\\enthought\\\\canopy\\\\user\\\\lib\\\\site-packages\\\\sklearn\\\\manifold\\\\t_sne.py',\n",
       " '  c:\\\\users\\\\kowshik\\\\appdata\\\\local\\\\enthought\\\\canopy\\\\user\\\\lib\\\\site-packages\\\\sklearn\\\\manifold\\\\t_sne.pyc',\n",
       " '  c:\\\\users\\\\kowshik\\\\appdata\\\\local\\\\enthought\\\\canopy\\\\user\\\\lib\\\\site-packages\\\\sklearn\\\\manifold\\\\tests\\\\__init__.py',\n",
       " '  c:\\\\users\\\\kowshik\\\\appdata\\\\local\\\\enthought\\\\canopy\\\\user\\\\lib\\\\site-packages\\\\sklearn\\\\manifold\\\\tests\\\\__init__.pyc',\n",
       " '  c:\\\\users\\\\kowshik\\\\appdata\\\\local\\\\enthought\\\\canopy\\\\user\\\\lib\\\\site-packages\\\\sklearn\\\\manifold\\\\tests\\\\test_isomap.py',\n",
       " '  c:\\\\users\\\\kowshik\\\\appdata\\\\local\\\\enthought\\\\canopy\\\\user\\\\lib\\\\site-packages\\\\sklearn\\\\manifold\\\\tests\\\\test_isomap.pyc',\n",
       " '  c:\\\\users\\\\kowshik\\\\appdata\\\\local\\\\enthought\\\\canopy\\\\user\\\\lib\\\\site-packages\\\\sklearn\\\\manifold\\\\tests\\\\test_locally_linear.py',\n",
       " '  c:\\\\users\\\\kowshik\\\\appdata\\\\local\\\\enthought\\\\canopy\\\\user\\\\lib\\\\site-packages\\\\sklearn\\\\manifold\\\\tests\\\\test_locally_linear.pyc',\n",
       " '  c:\\\\users\\\\kowshik\\\\appdata\\\\local\\\\enthought\\\\canopy\\\\user\\\\lib\\\\site-packages\\\\sklearn\\\\manifold\\\\tests\\\\test_mds.py',\n",
       " '  c:\\\\users\\\\kowshik\\\\appdata\\\\local\\\\enthought\\\\canopy\\\\user\\\\lib\\\\site-packages\\\\sklearn\\\\manifold\\\\tests\\\\test_mds.pyc',\n",
       " '  c:\\\\users\\\\kowshik\\\\appdata\\\\local\\\\enthought\\\\canopy\\\\user\\\\lib\\\\site-packages\\\\sklearn\\\\manifold\\\\tests\\\\test_spectral_embedding.py',\n",
       " '  c:\\\\users\\\\kowshik\\\\appdata\\\\local\\\\enthought\\\\canopy\\\\user\\\\lib\\\\site-packages\\\\sklearn\\\\manifold\\\\tests\\\\test_spectral_embedding.pyc',\n",
       " '  c:\\\\users\\\\kowshik\\\\appdata\\\\local\\\\enthought\\\\canopy\\\\user\\\\lib\\\\site-packages\\\\sklearn\\\\manifold\\\\tests\\\\test_t_sne.py',\n",
       " '  c:\\\\users\\\\kowshik\\\\appdata\\\\local\\\\enthought\\\\canopy\\\\user\\\\lib\\\\site-packages\\\\sklearn\\\\manifold\\\\tests\\\\test_t_sne.pyc',\n",
       " '  c:\\\\users\\\\kowshik\\\\appdata\\\\local\\\\enthought\\\\canopy\\\\user\\\\lib\\\\site-packages\\\\sklearn\\\\metrics\\\\__init__.py',\n",
       " '  c:\\\\users\\\\kowshik\\\\appdata\\\\local\\\\enthought\\\\canopy\\\\user\\\\lib\\\\site-packages\\\\sklearn\\\\metrics\\\\__init__.pyc',\n",
       " '  c:\\\\users\\\\kowshik\\\\appdata\\\\local\\\\enthought\\\\canopy\\\\user\\\\lib\\\\site-packages\\\\sklearn\\\\metrics\\\\base.py',\n",
       " '  c:\\\\users\\\\kowshik\\\\appdata\\\\local\\\\enthought\\\\canopy\\\\user\\\\lib\\\\site-packages\\\\sklearn\\\\metrics\\\\base.pyc',\n",
       " '  c:\\\\users\\\\kowshik\\\\appdata\\\\local\\\\enthought\\\\canopy\\\\user\\\\lib\\\\site-packages\\\\sklearn\\\\metrics\\\\classification.py',\n",
       " '  c:\\\\users\\\\kowshik\\\\appdata\\\\local\\\\enthought\\\\canopy\\\\user\\\\lib\\\\site-packages\\\\sklearn\\\\metrics\\\\classification.pyc',\n",
       " '  c:\\\\users\\\\kowshik\\\\appdata\\\\local\\\\enthought\\\\canopy\\\\user\\\\lib\\\\site-packages\\\\sklearn\\\\metrics\\\\cluster\\\\__init__.py',\n",
       " '  c:\\\\users\\\\kowshik\\\\appdata\\\\local\\\\enthought\\\\canopy\\\\user\\\\lib\\\\site-packages\\\\sklearn\\\\metrics\\\\cluster\\\\__init__.pyc',\n",
       " '  c:\\\\users\\\\kowshik\\\\appdata\\\\local\\\\enthought\\\\canopy\\\\user\\\\lib\\\\site-packages\\\\sklearn\\\\metrics\\\\cluster\\\\bicluster.py',\n",
       " '  c:\\\\users\\\\kowshik\\\\appdata\\\\local\\\\enthought\\\\canopy\\\\user\\\\lib\\\\site-packages\\\\sklearn\\\\metrics\\\\cluster\\\\bicluster.pyc',\n",
       " '  c:\\\\users\\\\kowshik\\\\appdata\\\\local\\\\enthought\\\\canopy\\\\user\\\\lib\\\\site-packages\\\\sklearn\\\\metrics\\\\cluster\\\\expected_mutual_info_fast.pyd',\n",
       " '  c:\\\\users\\\\kowshik\\\\appdata\\\\local\\\\enthought\\\\canopy\\\\user\\\\lib\\\\site-packages\\\\sklearn\\\\metrics\\\\cluster\\\\setup.py',\n",
       " '  c:\\\\users\\\\kowshik\\\\appdata\\\\local\\\\enthought\\\\canopy\\\\user\\\\lib\\\\site-packages\\\\sklearn\\\\metrics\\\\cluster\\\\setup.pyc',\n",
       " '  c:\\\\users\\\\kowshik\\\\appdata\\\\local\\\\enthought\\\\canopy\\\\user\\\\lib\\\\site-packages\\\\sklearn\\\\metrics\\\\cluster\\\\supervised.py',\n",
       " '  c:\\\\users\\\\kowshik\\\\appdata\\\\local\\\\enthought\\\\canopy\\\\user\\\\lib\\\\site-packages\\\\sklearn\\\\metrics\\\\cluster\\\\supervised.pyc',\n",
       " '  c:\\\\users\\\\kowshik\\\\appdata\\\\local\\\\enthought\\\\canopy\\\\user\\\\lib\\\\site-packages\\\\sklearn\\\\metrics\\\\cluster\\\\tests\\\\__init__.py',\n",
       " '  c:\\\\users\\\\kowshik\\\\appdata\\\\local\\\\enthought\\\\canopy\\\\user\\\\lib\\\\site-packages\\\\sklearn\\\\metrics\\\\cluster\\\\tests\\\\__init__.pyc',\n",
       " '  c:\\\\users\\\\kowshik\\\\appdata\\\\local\\\\enthought\\\\canopy\\\\user\\\\lib\\\\site-packages\\\\sklearn\\\\metrics\\\\cluster\\\\tests\\\\test_bicluster.py',\n",
       " '  c:\\\\users\\\\kowshik\\\\appdata\\\\local\\\\enthought\\\\canopy\\\\user\\\\lib\\\\site-packages\\\\sklearn\\\\metrics\\\\cluster\\\\tests\\\\test_bicluster.pyc',\n",
       " '  c:\\\\users\\\\kowshik\\\\appdata\\\\local\\\\enthought\\\\canopy\\\\user\\\\lib\\\\site-packages\\\\sklearn\\\\metrics\\\\cluster\\\\tests\\\\test_supervised.py',\n",
       " '  c:\\\\users\\\\kowshik\\\\appdata\\\\local\\\\enthought\\\\canopy\\\\user\\\\lib\\\\site-packages\\\\sklearn\\\\metrics\\\\cluster\\\\tests\\\\test_supervised.pyc',\n",
       " '  c:\\\\users\\\\kowshik\\\\appdata\\\\local\\\\enthought\\\\canopy\\\\user\\\\lib\\\\site-packages\\\\sklearn\\\\metrics\\\\cluster\\\\tests\\\\test_unsupervised.py',\n",
       " '  c:\\\\users\\\\kowshik\\\\appdata\\\\local\\\\enthought\\\\canopy\\\\user\\\\lib\\\\site-packages\\\\sklearn\\\\metrics\\\\cluster\\\\tests\\\\test_unsupervised.pyc',\n",
       " '  c:\\\\users\\\\kowshik\\\\appdata\\\\local\\\\enthought\\\\canopy\\\\user\\\\lib\\\\site-packages\\\\sklearn\\\\metrics\\\\cluster\\\\unsupervised.py',\n",
       " '  c:\\\\users\\\\kowshik\\\\appdata\\\\local\\\\enthought\\\\canopy\\\\user\\\\lib\\\\site-packages\\\\sklearn\\\\metrics\\\\cluster\\\\unsupervised.pyc',\n",
       " '  c:\\\\users\\\\kowshik\\\\appdata\\\\local\\\\enthought\\\\canopy\\\\user\\\\lib\\\\site-packages\\\\sklearn\\\\metrics\\\\pairwise.py',\n",
       " '  c:\\\\users\\\\kowshik\\\\appdata\\\\local\\\\enthought\\\\canopy\\\\user\\\\lib\\\\site-packages\\\\sklearn\\\\metrics\\\\pairwise.pyc',\n",
       " '  c:\\\\users\\\\kowshik\\\\appdata\\\\local\\\\enthought\\\\canopy\\\\user\\\\lib\\\\site-packages\\\\sklearn\\\\metrics\\\\pairwise_fast.pyd',\n",
       " '  c:\\\\users\\\\kowshik\\\\appdata\\\\local\\\\enthought\\\\canopy\\\\user\\\\lib\\\\site-packages\\\\sklearn\\\\metrics\\\\ranking.py',\n",
       " '  c:\\\\users\\\\kowshik\\\\appdata\\\\local\\\\enthought\\\\canopy\\\\user\\\\lib\\\\site-packages\\\\sklearn\\\\metrics\\\\ranking.pyc',\n",
       " '  c:\\\\users\\\\kowshik\\\\appdata\\\\local\\\\enthought\\\\canopy\\\\user\\\\lib\\\\site-packages\\\\sklearn\\\\metrics\\\\regression.py',\n",
       " '  c:\\\\users\\\\kowshik\\\\appdata\\\\local\\\\enthought\\\\canopy\\\\user\\\\lib\\\\site-packages\\\\sklearn\\\\metrics\\\\regression.pyc',\n",
       " '  c:\\\\users\\\\kowshik\\\\appdata\\\\local\\\\enthought\\\\canopy\\\\user\\\\lib\\\\site-packages\\\\sklearn\\\\metrics\\\\scorer.py',\n",
       " '  c:\\\\users\\\\kowshik\\\\appdata\\\\local\\\\enthought\\\\canopy\\\\user\\\\lib\\\\site-packages\\\\sklearn\\\\metrics\\\\scorer.pyc',\n",
       " '  c:\\\\users\\\\kowshik\\\\appdata\\\\local\\\\enthought\\\\canopy\\\\user\\\\lib\\\\site-packages\\\\sklearn\\\\metrics\\\\setup.py',\n",
       " '  c:\\\\users\\\\kowshik\\\\appdata\\\\local\\\\enthought\\\\canopy\\\\user\\\\lib\\\\site-packages\\\\sklearn\\\\metrics\\\\setup.pyc',\n",
       " '  c:\\\\users\\\\kowshik\\\\appdata\\\\local\\\\enthought\\\\canopy\\\\user\\\\lib\\\\site-packages\\\\sklearn\\\\metrics\\\\tests\\\\__init__.py',\n",
       " '  c:\\\\users\\\\kowshik\\\\appdata\\\\local\\\\enthought\\\\canopy\\\\user\\\\lib\\\\site-packages\\\\sklearn\\\\metrics\\\\tests\\\\__init__.pyc',\n",
       " '  c:\\\\users\\\\kowshik\\\\appdata\\\\local\\\\enthought\\\\canopy\\\\user\\\\lib\\\\site-packages\\\\sklearn\\\\metrics\\\\tests\\\\test_classification.py',\n",
       " '  c:\\\\users\\\\kowshik\\\\appdata\\\\local\\\\enthought\\\\canopy\\\\user\\\\lib\\\\site-packages\\\\sklearn\\\\metrics\\\\tests\\\\test_classification.pyc',\n",
       " '  c:\\\\users\\\\kowshik\\\\appdata\\\\local\\\\enthought\\\\canopy\\\\user\\\\lib\\\\site-packages\\\\sklearn\\\\metrics\\\\tests\\\\test_common.py',\n",
       " '  c:\\\\users\\\\kowshik\\\\appdata\\\\local\\\\enthought\\\\canopy\\\\user\\\\lib\\\\site-packages\\\\sklearn\\\\metrics\\\\tests\\\\test_common.pyc',\n",
       " '  c:\\\\users\\\\kowshik\\\\appdata\\\\local\\\\enthought\\\\canopy\\\\user\\\\lib\\\\site-packages\\\\sklearn\\\\metrics\\\\tests\\\\test_pairwise.py',\n",
       " '  c:\\\\users\\\\kowshik\\\\appdata\\\\local\\\\enthought\\\\canopy\\\\user\\\\lib\\\\site-packages\\\\sklearn\\\\metrics\\\\tests\\\\test_pairwise.pyc',\n",
       " '  c:\\\\users\\\\kowshik\\\\appdata\\\\local\\\\enthought\\\\canopy\\\\user\\\\lib\\\\site-packages\\\\sklearn\\\\metrics\\\\tests\\\\test_ranking.py',\n",
       " '  c:\\\\users\\\\kowshik\\\\appdata\\\\local\\\\enthought\\\\canopy\\\\user\\\\lib\\\\site-packages\\\\sklearn\\\\metrics\\\\tests\\\\test_ranking.pyc',\n",
       " '  c:\\\\users\\\\kowshik\\\\appdata\\\\local\\\\enthought\\\\canopy\\\\user\\\\lib\\\\site-packages\\\\sklearn\\\\metrics\\\\tests\\\\test_regression.py',\n",
       " '  c:\\\\users\\\\kowshik\\\\appdata\\\\local\\\\enthought\\\\canopy\\\\user\\\\lib\\\\site-packages\\\\sklearn\\\\metrics\\\\tests\\\\test_regression.pyc',\n",
       " '  c:\\\\users\\\\kowshik\\\\appdata\\\\local\\\\enthought\\\\canopy\\\\user\\\\lib\\\\site-packages\\\\sklearn\\\\metrics\\\\tests\\\\test_score_objects.py',\n",
       " '  c:\\\\users\\\\kowshik\\\\appdata\\\\local\\\\enthought\\\\canopy\\\\user\\\\lib\\\\site-packages\\\\sklearn\\\\metrics\\\\tests\\\\test_score_objects.pyc',\n",
       " '  c:\\\\users\\\\kowshik\\\\appdata\\\\local\\\\enthought\\\\canopy\\\\user\\\\lib\\\\site-packages\\\\sklearn\\\\mixture\\\\__init__.py',\n",
       " '  c:\\\\users\\\\kowshik\\\\appdata\\\\local\\\\enthought\\\\canopy\\\\user\\\\lib\\\\site-packages\\\\sklearn\\\\mixture\\\\__init__.pyc',\n",
       " '  c:\\\\users\\\\kowshik\\\\appdata\\\\local\\\\enthought\\\\canopy\\\\user\\\\lib\\\\site-packages\\\\sklearn\\\\mixture\\\\base.py',\n",
       " '  c:\\\\users\\\\kowshik\\\\appdata\\\\local\\\\enthought\\\\canopy\\\\user\\\\lib\\\\site-packages\\\\sklearn\\\\mixture\\\\base.pyc',\n",
       " '  c:\\\\users\\\\kowshik\\\\appdata\\\\local\\\\enthought\\\\canopy\\\\user\\\\lib\\\\site-packages\\\\sklearn\\\\mixture\\\\bayesian_mixture.py',\n",
       " '  c:\\\\users\\\\kowshik\\\\appdata\\\\local\\\\enthought\\\\canopy\\\\user\\\\lib\\\\site-packages\\\\sklearn\\\\mixture\\\\bayesian_mixture.pyc',\n",
       " '  c:\\\\users\\\\kowshik\\\\appdata\\\\local\\\\enthought\\\\canopy\\\\user\\\\lib\\\\site-packages\\\\sklearn\\\\mixture\\\\dpgmm.py',\n",
       " '  c:\\\\users\\\\kowshik\\\\appdata\\\\local\\\\enthought\\\\canopy\\\\user\\\\lib\\\\site-packages\\\\sklearn\\\\mixture\\\\dpgmm.pyc',\n",
       " '  c:\\\\users\\\\kowshik\\\\appdata\\\\local\\\\enthought\\\\canopy\\\\user\\\\lib\\\\site-packages\\\\sklearn\\\\mixture\\\\gaussian_mixture.py',\n",
       " '  c:\\\\users\\\\kowshik\\\\appdata\\\\local\\\\enthought\\\\canopy\\\\user\\\\lib\\\\site-packages\\\\sklearn\\\\mixture\\\\gaussian_mixture.pyc',\n",
       " '  c:\\\\users\\\\kowshik\\\\appdata\\\\local\\\\enthought\\\\canopy\\\\user\\\\lib\\\\site-packages\\\\sklearn\\\\mixture\\\\gmm.py',\n",
       " '  c:\\\\users\\\\kowshik\\\\appdata\\\\local\\\\enthought\\\\canopy\\\\user\\\\lib\\\\site-packages\\\\sklearn\\\\mixture\\\\gmm.pyc',\n",
       " '  c:\\\\users\\\\kowshik\\\\appdata\\\\local\\\\enthought\\\\canopy\\\\user\\\\lib\\\\site-packages\\\\sklearn\\\\mixture\\\\tests\\\\__init__.py',\n",
       " '  c:\\\\users\\\\kowshik\\\\appdata\\\\local\\\\enthought\\\\canopy\\\\user\\\\lib\\\\site-packages\\\\sklearn\\\\mixture\\\\tests\\\\__init__.pyc',\n",
       " '  c:\\\\users\\\\kowshik\\\\appdata\\\\local\\\\enthought\\\\canopy\\\\user\\\\lib\\\\site-packages\\\\sklearn\\\\mixture\\\\tests\\\\test_bayesian_mixture.py',\n",
       " '  c:\\\\users\\\\kowshik\\\\appdata\\\\local\\\\enthought\\\\canopy\\\\user\\\\lib\\\\site-packages\\\\sklearn\\\\mixture\\\\tests\\\\test_bayesian_mixture.pyc',\n",
       " '  c:\\\\users\\\\kowshik\\\\appdata\\\\local\\\\enthought\\\\canopy\\\\user\\\\lib\\\\site-packages\\\\sklearn\\\\mixture\\\\tests\\\\test_dpgmm.py',\n",
       " '  c:\\\\users\\\\kowshik\\\\appdata\\\\local\\\\enthought\\\\canopy\\\\user\\\\lib\\\\site-packages\\\\sklearn\\\\mixture\\\\tests\\\\test_dpgmm.pyc',\n",
       " '  c:\\\\users\\\\kowshik\\\\appdata\\\\local\\\\enthought\\\\canopy\\\\user\\\\lib\\\\site-packages\\\\sklearn\\\\mixture\\\\tests\\\\test_gaussian_mixture.py',\n",
       " '  c:\\\\users\\\\kowshik\\\\appdata\\\\local\\\\enthought\\\\canopy\\\\user\\\\lib\\\\site-packages\\\\sklearn\\\\mixture\\\\tests\\\\test_gaussian_mixture.pyc',\n",
       " '  c:\\\\users\\\\kowshik\\\\appdata\\\\local\\\\enthought\\\\canopy\\\\user\\\\lib\\\\site-packages\\\\sklearn\\\\mixture\\\\tests\\\\test_gmm.py',\n",
       " '  c:\\\\users\\\\kowshik\\\\appdata\\\\local\\\\enthought\\\\canopy\\\\user\\\\lib\\\\site-packages\\\\sklearn\\\\mixture\\\\tests\\\\test_gmm.pyc',\n",
       " '  c:\\\\users\\\\kowshik\\\\appdata\\\\local\\\\enthought\\\\canopy\\\\user\\\\lib\\\\site-packages\\\\sklearn\\\\model_selection\\\\__init__.py',\n",
       " '  c:\\\\users\\\\kowshik\\\\appdata\\\\local\\\\enthought\\\\canopy\\\\user\\\\lib\\\\site-packages\\\\sklearn\\\\model_selection\\\\__init__.pyc',\n",
       " '  c:\\\\users\\\\kowshik\\\\appdata\\\\local\\\\enthought\\\\canopy\\\\user\\\\lib\\\\site-packages\\\\sklearn\\\\model_selection\\\\_search.py',\n",
       " '  c:\\\\users\\\\kowshik\\\\appdata\\\\local\\\\enthought\\\\canopy\\\\user\\\\lib\\\\site-packages\\\\sklearn\\\\model_selection\\\\_search.pyc',\n",
       " '  c:\\\\users\\\\kowshik\\\\appdata\\\\local\\\\enthought\\\\canopy\\\\user\\\\lib\\\\site-packages\\\\sklearn\\\\model_selection\\\\_split.py',\n",
       " '  c:\\\\users\\\\kowshik\\\\appdata\\\\local\\\\enthought\\\\canopy\\\\user\\\\lib\\\\site-packages\\\\sklearn\\\\model_selection\\\\_split.pyc',\n",
       " '  c:\\\\users\\\\kowshik\\\\appdata\\\\local\\\\enthought\\\\canopy\\\\user\\\\lib\\\\site-packages\\\\sklearn\\\\model_selection\\\\_validation.py',\n",
       " '  c:\\\\users\\\\kowshik\\\\appdata\\\\local\\\\enthought\\\\canopy\\\\user\\\\lib\\\\site-packages\\\\sklearn\\\\model_selection\\\\_validation.pyc',\n",
       " '  c:\\\\users\\\\kowshik\\\\appdata\\\\local\\\\enthought\\\\canopy\\\\user\\\\lib\\\\site-packages\\\\sklearn\\\\model_selection\\\\tests\\\\__init__.py',\n",
       " '  c:\\\\users\\\\kowshik\\\\appdata\\\\local\\\\enthought\\\\canopy\\\\user\\\\lib\\\\site-packages\\\\sklearn\\\\model_selection\\\\tests\\\\__init__.pyc',\n",
       " '  c:\\\\users\\\\kowshik\\\\appdata\\\\local\\\\enthought\\\\canopy\\\\user\\\\lib\\\\site-packages\\\\sklearn\\\\model_selection\\\\tests\\\\test_search.py',\n",
       " '  c:\\\\users\\\\kowshik\\\\appdata\\\\local\\\\enthought\\\\canopy\\\\user\\\\lib\\\\site-packages\\\\sklearn\\\\model_selection\\\\tests\\\\test_search.pyc',\n",
       " '  c:\\\\users\\\\kowshik\\\\appdata\\\\local\\\\enthought\\\\canopy\\\\user\\\\lib\\\\site-packages\\\\sklearn\\\\model_selection\\\\tests\\\\test_split.py',\n",
       " '  c:\\\\users\\\\kowshik\\\\appdata\\\\local\\\\enthought\\\\canopy\\\\user\\\\lib\\\\site-packages\\\\sklearn\\\\model_selection\\\\tests\\\\test_split.pyc',\n",
       " '  c:\\\\users\\\\kowshik\\\\appdata\\\\local\\\\enthought\\\\canopy\\\\user\\\\lib\\\\site-packages\\\\sklearn\\\\model_selection\\\\tests\\\\test_validation.py',\n",
       " '  c:\\\\users\\\\kowshik\\\\appdata\\\\local\\\\enthought\\\\canopy\\\\user\\\\lib\\\\site-packages\\\\sklearn\\\\model_selection\\\\tests\\\\test_validation.pyc',\n",
       " '  c:\\\\users\\\\kowshik\\\\appdata\\\\local\\\\enthought\\\\canopy\\\\user\\\\lib\\\\site-packages\\\\sklearn\\\\multiclass.py',\n",
       " '  c:\\\\users\\\\kowshik\\\\appdata\\\\local\\\\enthought\\\\canopy\\\\user\\\\lib\\\\site-packages\\\\sklearn\\\\multiclass.pyc',\n",
       " '  c:\\\\users\\\\kowshik\\\\appdata\\\\local\\\\enthought\\\\canopy\\\\user\\\\lib\\\\site-packages\\\\sklearn\\\\multioutput.py',\n",
       " '  c:\\\\users\\\\kowshik\\\\appdata\\\\local\\\\enthought\\\\canopy\\\\user\\\\lib\\\\site-packages\\\\sklearn\\\\multioutput.pyc',\n",
       " '  c:\\\\users\\\\kowshik\\\\appdata\\\\local\\\\enthought\\\\canopy\\\\user\\\\lib\\\\site-packages\\\\sklearn\\\\naive_bayes.py',\n",
       " '  c:\\\\users\\\\kowshik\\\\appdata\\\\local\\\\enthought\\\\canopy\\\\user\\\\lib\\\\site-packages\\\\sklearn\\\\naive_bayes.pyc',\n",
       " '  c:\\\\users\\\\kowshik\\\\appdata\\\\local\\\\enthought\\\\canopy\\\\user\\\\lib\\\\site-packages\\\\sklearn\\\\neighbors\\\\__init__.py',\n",
       " '  c:\\\\users\\\\kowshik\\\\appdata\\\\local\\\\enthought\\\\canopy\\\\user\\\\lib\\\\site-packages\\\\sklearn\\\\neighbors\\\\__init__.pyc',\n",
       " '  c:\\\\users\\\\kowshik\\\\appdata\\\\local\\\\enthought\\\\canopy\\\\user\\\\lib\\\\site-packages\\\\sklearn\\\\neighbors\\\\approximate.py',\n",
       " '  c:\\\\users\\\\kowshik\\\\appdata\\\\local\\\\enthought\\\\canopy\\\\user\\\\lib\\\\site-packages\\\\sklearn\\\\neighbors\\\\approximate.pyc',\n",
       " '  c:\\\\users\\\\kowshik\\\\appdata\\\\local\\\\enthought\\\\canopy\\\\user\\\\lib\\\\site-packages\\\\sklearn\\\\neighbors\\\\ball_tree.pyd',\n",
       " '  c:\\\\users\\\\kowshik\\\\appdata\\\\local\\\\enthought\\\\canopy\\\\user\\\\lib\\\\site-packages\\\\sklearn\\\\neighbors\\\\base.py',\n",
       " '  c:\\\\users\\\\kowshik\\\\appdata\\\\local\\\\enthought\\\\canopy\\\\user\\\\lib\\\\site-packages\\\\sklearn\\\\neighbors\\\\base.pyc',\n",
       " '  c:\\\\users\\\\kowshik\\\\appdata\\\\local\\\\enthought\\\\canopy\\\\user\\\\lib\\\\site-packages\\\\sklearn\\\\neighbors\\\\classification.py',\n",
       " '  c:\\\\users\\\\kowshik\\\\appdata\\\\local\\\\enthought\\\\canopy\\\\user\\\\lib\\\\site-packages\\\\sklearn\\\\neighbors\\\\classification.pyc',\n",
       " '  c:\\\\users\\\\kowshik\\\\appdata\\\\local\\\\enthought\\\\canopy\\\\user\\\\lib\\\\site-packages\\\\sklearn\\\\neighbors\\\\dist_metrics.pyd',\n",
       " '  c:\\\\users\\\\kowshik\\\\appdata\\\\local\\\\enthought\\\\canopy\\\\user\\\\lib\\\\site-packages\\\\sklearn\\\\neighbors\\\\graph.py',\n",
       " '  c:\\\\users\\\\kowshik\\\\appdata\\\\local\\\\enthought\\\\canopy\\\\user\\\\lib\\\\site-packages\\\\sklearn\\\\neighbors\\\\graph.pyc',\n",
       " '  c:\\\\users\\\\kowshik\\\\appdata\\\\local\\\\enthought\\\\canopy\\\\user\\\\lib\\\\site-packages\\\\sklearn\\\\neighbors\\\\kd_tree.pyd',\n",
       " '  c:\\\\users\\\\kowshik\\\\appdata\\\\local\\\\enthought\\\\canopy\\\\user\\\\lib\\\\site-packages\\\\sklearn\\\\neighbors\\\\kde.py',\n",
       " '  c:\\\\users\\\\kowshik\\\\appdata\\\\local\\\\enthought\\\\canopy\\\\user\\\\lib\\\\site-packages\\\\sklearn\\\\neighbors\\\\kde.pyc',\n",
       " '  c:\\\\users\\\\kowshik\\\\appdata\\\\local\\\\enthought\\\\canopy\\\\user\\\\lib\\\\site-packages\\\\sklearn\\\\neighbors\\\\nearest_centroid.py',\n",
       " '  c:\\\\users\\\\kowshik\\\\appdata\\\\local\\\\enthought\\\\canopy\\\\user\\\\lib\\\\site-packages\\\\sklearn\\\\neighbors\\\\nearest_centroid.pyc',\n",
       " '  c:\\\\users\\\\kowshik\\\\appdata\\\\local\\\\enthought\\\\canopy\\\\user\\\\lib\\\\site-packages\\\\sklearn\\\\neighbors\\\\regression.py',\n",
       " '  c:\\\\users\\\\kowshik\\\\appdata\\\\local\\\\enthought\\\\canopy\\\\user\\\\lib\\\\site-packages\\\\sklearn\\\\neighbors\\\\regression.pyc',\n",
       " '  c:\\\\users\\\\kowshik\\\\appdata\\\\local\\\\enthought\\\\canopy\\\\user\\\\lib\\\\site-packages\\\\sklearn\\\\neighbors\\\\setup.py',\n",
       " '  c:\\\\users\\\\kowshik\\\\appdata\\\\local\\\\enthought\\\\canopy\\\\user\\\\lib\\\\site-packages\\\\sklearn\\\\neighbors\\\\setup.pyc',\n",
       " '  c:\\\\users\\\\kowshik\\\\appdata\\\\local\\\\enthought\\\\canopy\\\\user\\\\lib\\\\site-packages\\\\sklearn\\\\neighbors\\\\tests\\\\__init__.py',\n",
       " '  c:\\\\users\\\\kowshik\\\\appdata\\\\local\\\\enthought\\\\canopy\\\\user\\\\lib\\\\site-packages\\\\sklearn\\\\neighbors\\\\tests\\\\__init__.pyc',\n",
       " '  c:\\\\users\\\\kowshik\\\\appdata\\\\local\\\\enthought\\\\canopy\\\\user\\\\lib\\\\site-packages\\\\sklearn\\\\neighbors\\\\tests\\\\test_approximate.py',\n",
       " '  c:\\\\users\\\\kowshik\\\\appdata\\\\local\\\\enthought\\\\canopy\\\\user\\\\lib\\\\site-packages\\\\sklearn\\\\neighbors\\\\tests\\\\test_approximate.pyc',\n",
       " '  c:\\\\users\\\\kowshik\\\\appdata\\\\local\\\\enthought\\\\canopy\\\\user\\\\lib\\\\site-packages\\\\sklearn\\\\neighbors\\\\tests\\\\test_ball_tree.py',\n",
       " '  c:\\\\users\\\\kowshik\\\\appdata\\\\local\\\\enthought\\\\canopy\\\\user\\\\lib\\\\site-packages\\\\sklearn\\\\neighbors\\\\tests\\\\test_ball_tree.pyc',\n",
       " '  c:\\\\users\\\\kowshik\\\\appdata\\\\local\\\\enthought\\\\canopy\\\\user\\\\lib\\\\site-packages\\\\sklearn\\\\neighbors\\\\tests\\\\test_dist_metrics.py',\n",
       " '  c:\\\\users\\\\kowshik\\\\appdata\\\\local\\\\enthought\\\\canopy\\\\user\\\\lib\\\\site-packages\\\\sklearn\\\\neighbors\\\\tests\\\\test_dist_metrics.pyc',\n",
       " '  c:\\\\users\\\\kowshik\\\\appdata\\\\local\\\\enthought\\\\canopy\\\\user\\\\lib\\\\site-packages\\\\sklearn\\\\neighbors\\\\tests\\\\test_kd_tree.py',\n",
       " '  c:\\\\users\\\\kowshik\\\\appdata\\\\local\\\\enthought\\\\canopy\\\\user\\\\lib\\\\site-packages\\\\sklearn\\\\neighbors\\\\tests\\\\test_kd_tree.pyc',\n",
       " '  c:\\\\users\\\\kowshik\\\\appdata\\\\local\\\\enthought\\\\canopy\\\\user\\\\lib\\\\site-packages\\\\sklearn\\\\neighbors\\\\tests\\\\test_kde.py',\n",
       " '  c:\\\\users\\\\kowshik\\\\appdata\\\\local\\\\enthought\\\\canopy\\\\user\\\\lib\\\\site-packages\\\\sklearn\\\\neighbors\\\\tests\\\\test_kde.pyc',\n",
       " '  c:\\\\users\\\\kowshik\\\\appdata\\\\local\\\\enthought\\\\canopy\\\\user\\\\lib\\\\site-packages\\\\sklearn\\\\neighbors\\\\tests\\\\test_nearest_centroid.py',\n",
       " '  c:\\\\users\\\\kowshik\\\\appdata\\\\local\\\\enthought\\\\canopy\\\\user\\\\lib\\\\site-packages\\\\sklearn\\\\neighbors\\\\tests\\\\test_nearest_centroid.pyc',\n",
       " '  c:\\\\users\\\\kowshik\\\\appdata\\\\local\\\\enthought\\\\canopy\\\\user\\\\lib\\\\site-packages\\\\sklearn\\\\neighbors\\\\tests\\\\test_neighbors.py',\n",
       " '  c:\\\\users\\\\kowshik\\\\appdata\\\\local\\\\enthought\\\\canopy\\\\user\\\\lib\\\\site-packages\\\\sklearn\\\\neighbors\\\\tests\\\\test_neighbors.pyc',\n",
       " '  c:\\\\users\\\\kowshik\\\\appdata\\\\local\\\\enthought\\\\canopy\\\\user\\\\lib\\\\site-packages\\\\sklearn\\\\neighbors\\\\typedefs.pyd',\n",
       " '  c:\\\\users\\\\kowshik\\\\appdata\\\\local\\\\enthought\\\\canopy\\\\user\\\\lib\\\\site-packages\\\\sklearn\\\\neighbors\\\\unsupervised.py',\n",
       " '  c:\\\\users\\\\kowshik\\\\appdata\\\\local\\\\enthought\\\\canopy\\\\user\\\\lib\\\\site-packages\\\\sklearn\\\\neighbors\\\\unsupervised.pyc',\n",
       " '  c:\\\\users\\\\kowshik\\\\appdata\\\\local\\\\enthought\\\\canopy\\\\user\\\\lib\\\\site-packages\\\\sklearn\\\\neural_network\\\\__init__.py',\n",
       " '  c:\\\\users\\\\kowshik\\\\appdata\\\\local\\\\enthought\\\\canopy\\\\user\\\\lib\\\\site-packages\\\\sklearn\\\\neural_network\\\\__init__.pyc',\n",
       " '  c:\\\\users\\\\kowshik\\\\appdata\\\\local\\\\enthought\\\\canopy\\\\user\\\\lib\\\\site-packages\\\\sklearn\\\\neural_network\\\\_base.py',\n",
       " '  c:\\\\users\\\\kowshik\\\\appdata\\\\local\\\\enthought\\\\canopy\\\\user\\\\lib\\\\site-packages\\\\sklearn\\\\neural_network\\\\_base.pyc',\n",
       " '  c:\\\\users\\\\kowshik\\\\appdata\\\\local\\\\enthought\\\\canopy\\\\user\\\\lib\\\\site-packages\\\\sklearn\\\\neural_network\\\\_stochastic_optimizers.py',\n",
       " '  c:\\\\users\\\\kowshik\\\\appdata\\\\local\\\\enthought\\\\canopy\\\\user\\\\lib\\\\site-packages\\\\sklearn\\\\neural_network\\\\_stochastic_optimizers.pyc',\n",
       " '  c:\\\\users\\\\kowshik\\\\appdata\\\\local\\\\enthought\\\\canopy\\\\user\\\\lib\\\\site-packages\\\\sklearn\\\\neural_network\\\\multilayer_perceptron.py',\n",
       " '  c:\\\\users\\\\kowshik\\\\appdata\\\\local\\\\enthought\\\\canopy\\\\user\\\\lib\\\\site-packages\\\\sklearn\\\\neural_network\\\\multilayer_perceptron.pyc',\n",
       " '  c:\\\\users\\\\kowshik\\\\appdata\\\\local\\\\enthought\\\\canopy\\\\user\\\\lib\\\\site-packages\\\\sklearn\\\\neural_network\\\\rbm.py',\n",
       " '  c:\\\\users\\\\kowshik\\\\appdata\\\\local\\\\enthought\\\\canopy\\\\user\\\\lib\\\\site-packages\\\\sklearn\\\\neural_network\\\\rbm.pyc',\n",
       " '  c:\\\\users\\\\kowshik\\\\appdata\\\\local\\\\enthought\\\\canopy\\\\user\\\\lib\\\\site-packages\\\\sklearn\\\\neural_network\\\\tests\\\\__init__.py',\n",
       " '  c:\\\\users\\\\kowshik\\\\appdata\\\\local\\\\enthought\\\\canopy\\\\user\\\\lib\\\\site-packages\\\\sklearn\\\\neural_network\\\\tests\\\\__init__.pyc',\n",
       " '  c:\\\\users\\\\kowshik\\\\appdata\\\\local\\\\enthought\\\\canopy\\\\user\\\\lib\\\\site-packages\\\\sklearn\\\\neural_network\\\\tests\\\\test_mlp.py',\n",
       " '  c:\\\\users\\\\kowshik\\\\appdata\\\\local\\\\enthought\\\\canopy\\\\user\\\\lib\\\\site-packages\\\\sklearn\\\\neural_network\\\\tests\\\\test_mlp.pyc',\n",
       " '  c:\\\\users\\\\kowshik\\\\appdata\\\\local\\\\enthought\\\\canopy\\\\user\\\\lib\\\\site-packages\\\\sklearn\\\\neural_network\\\\tests\\\\test_rbm.py',\n",
       " '  c:\\\\users\\\\kowshik\\\\appdata\\\\local\\\\enthought\\\\canopy\\\\user\\\\lib\\\\site-packages\\\\sklearn\\\\neural_network\\\\tests\\\\test_rbm.pyc',\n",
       " '  c:\\\\users\\\\kowshik\\\\appdata\\\\local\\\\enthought\\\\canopy\\\\user\\\\lib\\\\site-packages\\\\sklearn\\\\neural_network\\\\tests\\\\test_stochastic_optimizers.py',\n",
       " '  c:\\\\users\\\\kowshik\\\\appdata\\\\local\\\\enthought\\\\canopy\\\\user\\\\lib\\\\site-packages\\\\sklearn\\\\neural_network\\\\tests\\\\test_stochastic_optimizers.pyc',\n",
       " '  c:\\\\users\\\\kowshik\\\\appdata\\\\local\\\\enthought\\\\canopy\\\\user\\\\lib\\\\site-packages\\\\sklearn\\\\pipeline.py',\n",
       " '  c:\\\\users\\\\kowshik\\\\appdata\\\\local\\\\enthought\\\\canopy\\\\user\\\\lib\\\\site-packages\\\\sklearn\\\\pipeline.pyc',\n",
       " '  c:\\\\users\\\\kowshik\\\\appdata\\\\local\\\\enthought\\\\canopy\\\\user\\\\lib\\\\site-packages\\\\sklearn\\\\preprocessing\\\\__init__.py',\n",
       " '  c:\\\\users\\\\kowshik\\\\appdata\\\\local\\\\enthought\\\\canopy\\\\user\\\\lib\\\\site-packages\\\\sklearn\\\\preprocessing\\\\__init__.pyc',\n",
       " '  c:\\\\users\\\\kowshik\\\\appdata\\\\local\\\\enthought\\\\canopy\\\\user\\\\lib\\\\site-packages\\\\sklearn\\\\preprocessing\\\\_function_transformer.py',\n",
       " '  c:\\\\users\\\\kowshik\\\\appdata\\\\local\\\\enthought\\\\canopy\\\\user\\\\lib\\\\site-packages\\\\sklearn\\\\preprocessing\\\\_function_transformer.pyc',\n",
       " '  c:\\\\users\\\\kowshik\\\\appdata\\\\local\\\\enthought\\\\canopy\\\\user\\\\lib\\\\site-packages\\\\sklearn\\\\preprocessing\\\\data.py',\n",
       " '  c:\\\\users\\\\kowshik\\\\appdata\\\\local\\\\enthought\\\\canopy\\\\user\\\\lib\\\\site-packages\\\\sklearn\\\\preprocessing\\\\data.pyc',\n",
       " '  c:\\\\users\\\\kowshik\\\\appdata\\\\local\\\\enthought\\\\canopy\\\\user\\\\lib\\\\site-packages\\\\sklearn\\\\preprocessing\\\\imputation.py',\n",
       " '  c:\\\\users\\\\kowshik\\\\appdata\\\\local\\\\enthought\\\\canopy\\\\user\\\\lib\\\\site-packages\\\\sklearn\\\\preprocessing\\\\imputation.pyc',\n",
       " '  c:\\\\users\\\\kowshik\\\\appdata\\\\local\\\\enthought\\\\canopy\\\\user\\\\lib\\\\site-packages\\\\sklearn\\\\preprocessing\\\\label.py',\n",
       " '  c:\\\\users\\\\kowshik\\\\appdata\\\\local\\\\enthought\\\\canopy\\\\user\\\\lib\\\\site-packages\\\\sklearn\\\\preprocessing\\\\label.pyc',\n",
       " '  c:\\\\users\\\\kowshik\\\\appdata\\\\local\\\\enthought\\\\canopy\\\\user\\\\lib\\\\site-packages\\\\sklearn\\\\preprocessing\\\\tests\\\\__init__.py',\n",
       " '  c:\\\\users\\\\kowshik\\\\appdata\\\\local\\\\enthought\\\\canopy\\\\user\\\\lib\\\\site-packages\\\\sklearn\\\\preprocessing\\\\tests\\\\__init__.pyc',\n",
       " '  c:\\\\users\\\\kowshik\\\\appdata\\\\local\\\\enthought\\\\canopy\\\\user\\\\lib\\\\site-packages\\\\sklearn\\\\preprocessing\\\\tests\\\\test_data.py',\n",
       " '  c:\\\\users\\\\kowshik\\\\appdata\\\\local\\\\enthought\\\\canopy\\\\user\\\\lib\\\\site-packages\\\\sklearn\\\\preprocessing\\\\tests\\\\test_data.pyc',\n",
       " '  c:\\\\users\\\\kowshik\\\\appdata\\\\local\\\\enthought\\\\canopy\\\\user\\\\lib\\\\site-packages\\\\sklearn\\\\preprocessing\\\\tests\\\\test_function_transformer.py',\n",
       " '  c:\\\\users\\\\kowshik\\\\appdata\\\\local\\\\enthought\\\\canopy\\\\user\\\\lib\\\\site-packages\\\\sklearn\\\\preprocessing\\\\tests\\\\test_function_transformer.pyc',\n",
       " '  c:\\\\users\\\\kowshik\\\\appdata\\\\local\\\\enthought\\\\canopy\\\\user\\\\lib\\\\site-packages\\\\sklearn\\\\preprocessing\\\\tests\\\\test_imputation.py',\n",
       " '  c:\\\\users\\\\kowshik\\\\appdata\\\\local\\\\enthought\\\\canopy\\\\user\\\\lib\\\\site-packages\\\\sklearn\\\\preprocessing\\\\tests\\\\test_imputation.pyc',\n",
       " '  c:\\\\users\\\\kowshik\\\\appdata\\\\local\\\\enthought\\\\canopy\\\\user\\\\lib\\\\site-packages\\\\sklearn\\\\preprocessing\\\\tests\\\\test_label.py',\n",
       " '  c:\\\\users\\\\kowshik\\\\appdata\\\\local\\\\enthought\\\\canopy\\\\user\\\\lib\\\\site-packages\\\\sklearn\\\\preprocessing\\\\tests\\\\test_label.pyc',\n",
       " '  c:\\\\users\\\\kowshik\\\\appdata\\\\local\\\\enthought\\\\canopy\\\\user\\\\lib\\\\site-packages\\\\sklearn\\\\qda.py',\n",
       " '  c:\\\\users\\\\kowshik\\\\appdata\\\\local\\\\enthought\\\\canopy\\\\user\\\\lib\\\\site-packages\\\\sklearn\\\\qda.pyc',\n",
       " '  c:\\\\users\\\\kowshik\\\\appdata\\\\local\\\\enthought\\\\canopy\\\\user\\\\lib\\\\site-packages\\\\sklearn\\\\random_projection.py',\n",
       " '  c:\\\\users\\\\kowshik\\\\appdata\\\\local\\\\enthought\\\\canopy\\\\user\\\\lib\\\\site-packages\\\\sklearn\\\\random_projection.pyc',\n",
       " '  c:\\\\users\\\\kowshik\\\\appdata\\\\local\\\\enthought\\\\canopy\\\\user\\\\lib\\\\site-packages\\\\sklearn\\\\semi_supervised\\\\__init__.py',\n",
       " '  c:\\\\users\\\\kowshik\\\\appdata\\\\local\\\\enthought\\\\canopy\\\\user\\\\lib\\\\site-packages\\\\sklearn\\\\semi_supervised\\\\__init__.pyc',\n",
       " '  c:\\\\users\\\\kowshik\\\\appdata\\\\local\\\\enthought\\\\canopy\\\\user\\\\lib\\\\site-packages\\\\sklearn\\\\semi_supervised\\\\label_propagation.py',\n",
       " '  c:\\\\users\\\\kowshik\\\\appdata\\\\local\\\\enthought\\\\canopy\\\\user\\\\lib\\\\site-packages\\\\sklearn\\\\semi_supervised\\\\label_propagation.pyc',\n",
       " '  c:\\\\users\\\\kowshik\\\\appdata\\\\local\\\\enthought\\\\canopy\\\\user\\\\lib\\\\site-packages\\\\sklearn\\\\semi_supervised\\\\tests\\\\__init__.py',\n",
       " '  c:\\\\users\\\\kowshik\\\\appdata\\\\local\\\\enthought\\\\canopy\\\\user\\\\lib\\\\site-packages\\\\sklearn\\\\semi_supervised\\\\tests\\\\__init__.pyc',\n",
       " '  c:\\\\users\\\\kowshik\\\\appdata\\\\local\\\\enthought\\\\canopy\\\\user\\\\lib\\\\site-packages\\\\sklearn\\\\semi_supervised\\\\tests\\\\test_label_propagation.py',\n",
       " '  c:\\\\users\\\\kowshik\\\\appdata\\\\local\\\\enthought\\\\canopy\\\\user\\\\lib\\\\site-packages\\\\sklearn\\\\semi_supervised\\\\tests\\\\test_label_propagation.pyc',\n",
       " '  c:\\\\users\\\\kowshik\\\\appdata\\\\local\\\\enthought\\\\canopy\\\\user\\\\lib\\\\site-packages\\\\sklearn\\\\setup.py',\n",
       " '  c:\\\\users\\\\kowshik\\\\appdata\\\\local\\\\enthought\\\\canopy\\\\user\\\\lib\\\\site-packages\\\\sklearn\\\\setup.pyc',\n",
       " '  c:\\\\users\\\\kowshik\\\\appdata\\\\local\\\\enthought\\\\canopy\\\\user\\\\lib\\\\site-packages\\\\sklearn\\\\svm\\\\__init__.py',\n",
       " '  c:\\\\users\\\\kowshik\\\\appdata\\\\local\\\\enthought\\\\canopy\\\\user\\\\lib\\\\site-packages\\\\sklearn\\\\svm\\\\__init__.pyc',\n",
       " '  c:\\\\users\\\\kowshik\\\\appdata\\\\local\\\\enthought\\\\canopy\\\\user\\\\lib\\\\site-packages\\\\sklearn\\\\svm\\\\base.py',\n",
       " '  c:\\\\users\\\\kowshik\\\\appdata\\\\local\\\\enthought\\\\canopy\\\\user\\\\lib\\\\site-packages\\\\sklearn\\\\svm\\\\base.pyc',\n",
       " '  c:\\\\users\\\\kowshik\\\\appdata\\\\local\\\\enthought\\\\canopy\\\\user\\\\lib\\\\site-packages\\\\sklearn\\\\svm\\\\bounds.py',\n",
       " '  c:\\\\users\\\\kowshik\\\\appdata\\\\local\\\\enthought\\\\canopy\\\\user\\\\lib\\\\site-packages\\\\sklearn\\\\svm\\\\bounds.pyc',\n",
       " '  c:\\\\users\\\\kowshik\\\\appdata\\\\local\\\\enthought\\\\canopy\\\\user\\\\lib\\\\site-packages\\\\sklearn\\\\svm\\\\classes.py',\n",
       " '  c:\\\\users\\\\kowshik\\\\appdata\\\\local\\\\enthought\\\\canopy\\\\user\\\\lib\\\\site-packages\\\\sklearn\\\\svm\\\\classes.pyc',\n",
       " '  c:\\\\users\\\\kowshik\\\\appdata\\\\local\\\\enthought\\\\canopy\\\\user\\\\lib\\\\site-packages\\\\sklearn\\\\svm\\\\liblinear.pyd',\n",
       " '  c:\\\\users\\\\kowshik\\\\appdata\\\\local\\\\enthought\\\\canopy\\\\user\\\\lib\\\\site-packages\\\\sklearn\\\\svm\\\\libsvm.pyd',\n",
       " '  c:\\\\users\\\\kowshik\\\\appdata\\\\local\\\\enthought\\\\canopy\\\\user\\\\lib\\\\site-packages\\\\sklearn\\\\svm\\\\libsvm_sparse.pyd',\n",
       " '  c:\\\\users\\\\kowshik\\\\appdata\\\\local\\\\enthought\\\\canopy\\\\user\\\\lib\\\\site-packages\\\\sklearn\\\\svm\\\\setup.py',\n",
       " '  c:\\\\users\\\\kowshik\\\\appdata\\\\local\\\\enthought\\\\canopy\\\\user\\\\lib\\\\site-packages\\\\sklearn\\\\svm\\\\setup.pyc',\n",
       " '  c:\\\\users\\\\kowshik\\\\appdata\\\\local\\\\enthought\\\\canopy\\\\user\\\\lib\\\\site-packages\\\\sklearn\\\\svm\\\\tests\\\\__init__.py',\n",
       " '  c:\\\\users\\\\kowshik\\\\appdata\\\\local\\\\enthought\\\\canopy\\\\user\\\\lib\\\\site-packages\\\\sklearn\\\\svm\\\\tests\\\\__init__.pyc',\n",
       " '  c:\\\\users\\\\kowshik\\\\appdata\\\\local\\\\enthought\\\\canopy\\\\user\\\\lib\\\\site-packages\\\\sklearn\\\\svm\\\\tests\\\\test_bounds.py',\n",
       " '  c:\\\\users\\\\kowshik\\\\appdata\\\\local\\\\enthought\\\\canopy\\\\user\\\\lib\\\\site-packages\\\\sklearn\\\\svm\\\\tests\\\\test_bounds.pyc',\n",
       " '  c:\\\\users\\\\kowshik\\\\appdata\\\\local\\\\enthought\\\\canopy\\\\user\\\\lib\\\\site-packages\\\\sklearn\\\\svm\\\\tests\\\\test_sparse.py',\n",
       " '  c:\\\\users\\\\kowshik\\\\appdata\\\\local\\\\enthought\\\\canopy\\\\user\\\\lib\\\\site-packages\\\\sklearn\\\\svm\\\\tests\\\\test_sparse.pyc',\n",
       " '  c:\\\\users\\\\kowshik\\\\appdata\\\\local\\\\enthought\\\\canopy\\\\user\\\\lib\\\\site-packages\\\\sklearn\\\\svm\\\\tests\\\\test_svm.py',\n",
       " '  c:\\\\users\\\\kowshik\\\\appdata\\\\local\\\\enthought\\\\canopy\\\\user\\\\lib\\\\site-packages\\\\sklearn\\\\svm\\\\tests\\\\test_svm.pyc',\n",
       " '  c:\\\\users\\\\kowshik\\\\appdata\\\\local\\\\enthought\\\\canopy\\\\user\\\\lib\\\\site-packages\\\\sklearn\\\\tests\\\\__init__.py',\n",
       " '  c:\\\\users\\\\kowshik\\\\appdata\\\\local\\\\enthought\\\\canopy\\\\user\\\\lib\\\\site-packages\\\\sklearn\\\\tests\\\\__init__.pyc',\n",
       " '  c:\\\\users\\\\kowshik\\\\appdata\\\\local\\\\enthought\\\\canopy\\\\user\\\\lib\\\\site-packages\\\\sklearn\\\\tests\\\\test_base.py',\n",
       " '  c:\\\\users\\\\kowshik\\\\appdata\\\\local\\\\enthought\\\\canopy\\\\user\\\\lib\\\\site-packages\\\\sklearn\\\\tests\\\\test_base.pyc',\n",
       " '  c:\\\\users\\\\kowshik\\\\appdata\\\\local\\\\enthought\\\\canopy\\\\user\\\\lib\\\\site-packages\\\\sklearn\\\\tests\\\\test_calibration.py',\n",
       " '  c:\\\\users\\\\kowshik\\\\appdata\\\\local\\\\enthought\\\\canopy\\\\user\\\\lib\\\\site-packages\\\\sklearn\\\\tests\\\\test_calibration.pyc',\n",
       " '  c:\\\\users\\\\kowshik\\\\appdata\\\\local\\\\enthought\\\\canopy\\\\user\\\\lib\\\\site-packages\\\\sklearn\\\\tests\\\\test_check_build.py',\n",
       " '  c:\\\\users\\\\kowshik\\\\appdata\\\\local\\\\enthought\\\\canopy\\\\user\\\\lib\\\\site-packages\\\\sklearn\\\\tests\\\\test_check_build.pyc',\n",
       " '  c:\\\\users\\\\kowshik\\\\appdata\\\\local\\\\enthought\\\\canopy\\\\user\\\\lib\\\\site-packages\\\\sklearn\\\\tests\\\\test_common.py',\n",
       " '  c:\\\\users\\\\kowshik\\\\appdata\\\\local\\\\enthought\\\\canopy\\\\user\\\\lib\\\\site-packages\\\\sklearn\\\\tests\\\\test_common.pyc',\n",
       " '  c:\\\\users\\\\kowshik\\\\appdata\\\\local\\\\enthought\\\\canopy\\\\user\\\\lib\\\\site-packages\\\\sklearn\\\\tests\\\\test_cross_validation.py',\n",
       " '  c:\\\\users\\\\kowshik\\\\appdata\\\\local\\\\enthought\\\\canopy\\\\user\\\\lib\\\\site-packages\\\\sklearn\\\\tests\\\\test_cross_validation.pyc',\n",
       " '  c:\\\\users\\\\kowshik\\\\appdata\\\\local\\\\enthought\\\\canopy\\\\user\\\\lib\\\\site-packages\\\\sklearn\\\\tests\\\\test_discriminant_analysis.py',\n",
       " '  c:\\\\users\\\\kowshik\\\\appdata\\\\local\\\\enthought\\\\canopy\\\\user\\\\lib\\\\site-packages\\\\sklearn\\\\tests\\\\test_discriminant_analysis.pyc',\n",
       " '  c:\\\\users\\\\kowshik\\\\appdata\\\\local\\\\enthought\\\\canopy\\\\user\\\\lib\\\\site-packages\\\\sklearn\\\\tests\\\\test_dummy.py',\n",
       " '  c:\\\\users\\\\kowshik\\\\appdata\\\\local\\\\enthought\\\\canopy\\\\user\\\\lib\\\\site-packages\\\\sklearn\\\\tests\\\\test_dummy.pyc',\n",
       " '  c:\\\\users\\\\kowshik\\\\appdata\\\\local\\\\enthought\\\\canopy\\\\user\\\\lib\\\\site-packages\\\\sklearn\\\\tests\\\\test_grid_search.py',\n",
       " '  c:\\\\users\\\\kowshik\\\\appdata\\\\local\\\\enthought\\\\canopy\\\\user\\\\lib\\\\site-packages\\\\sklearn\\\\tests\\\\test_grid_search.pyc',\n",
       " '  c:\\\\users\\\\kowshik\\\\appdata\\\\local\\\\enthought\\\\canopy\\\\user\\\\lib\\\\site-packages\\\\sklearn\\\\tests\\\\test_init.py',\n",
       " '  c:\\\\users\\\\kowshik\\\\appdata\\\\local\\\\enthought\\\\canopy\\\\user\\\\lib\\\\site-packages\\\\sklearn\\\\tests\\\\test_init.pyc',\n",
       " '  c:\\\\users\\\\kowshik\\\\appdata\\\\local\\\\enthought\\\\canopy\\\\user\\\\lib\\\\site-packages\\\\sklearn\\\\tests\\\\test_isotonic.py',\n",
       " '  c:\\\\users\\\\kowshik\\\\appdata\\\\local\\\\enthought\\\\canopy\\\\user\\\\lib\\\\site-packages\\\\sklearn\\\\tests\\\\test_isotonic.pyc',\n",
       " '  c:\\\\users\\\\kowshik\\\\appdata\\\\local\\\\enthought\\\\canopy\\\\user\\\\lib\\\\site-packages\\\\sklearn\\\\tests\\\\test_kernel_approximation.py',\n",
       " '  c:\\\\users\\\\kowshik\\\\appdata\\\\local\\\\enthought\\\\canopy\\\\user\\\\lib\\\\site-packages\\\\sklearn\\\\tests\\\\test_kernel_approximation.pyc',\n",
       " '  c:\\\\users\\\\kowshik\\\\appdata\\\\local\\\\enthought\\\\canopy\\\\user\\\\lib\\\\site-packages\\\\sklearn\\\\tests\\\\test_kernel_ridge.py',\n",
       " '  c:\\\\users\\\\kowshik\\\\appdata\\\\local\\\\enthought\\\\canopy\\\\user\\\\lib\\\\site-packages\\\\sklearn\\\\tests\\\\test_kernel_ridge.pyc',\n",
       " '  c:\\\\users\\\\kowshik\\\\appdata\\\\local\\\\enthought\\\\canopy\\\\user\\\\lib\\\\site-packages\\\\sklearn\\\\tests\\\\test_learning_curve.py',\n",
       " '  c:\\\\users\\\\kowshik\\\\appdata\\\\local\\\\enthought\\\\canopy\\\\user\\\\lib\\\\site-packages\\\\sklearn\\\\tests\\\\test_learning_curve.pyc',\n",
       " '  c:\\\\users\\\\kowshik\\\\appdata\\\\local\\\\enthought\\\\canopy\\\\user\\\\lib\\\\site-packages\\\\sklearn\\\\tests\\\\test_metaestimators.py',\n",
       " '  c:\\\\users\\\\kowshik\\\\appdata\\\\local\\\\enthought\\\\canopy\\\\user\\\\lib\\\\site-packages\\\\sklearn\\\\tests\\\\test_metaestimators.pyc',\n",
       " '  c:\\\\users\\\\kowshik\\\\appdata\\\\local\\\\enthought\\\\canopy\\\\user\\\\lib\\\\site-packages\\\\sklearn\\\\tests\\\\test_multiclass.py',\n",
       " '  c:\\\\users\\\\kowshik\\\\appdata\\\\local\\\\enthought\\\\canopy\\\\user\\\\lib\\\\site-packages\\\\sklearn\\\\tests\\\\test_multiclass.pyc',\n",
       " '  c:\\\\users\\\\kowshik\\\\appdata\\\\local\\\\enthought\\\\canopy\\\\user\\\\lib\\\\site-packages\\\\sklearn\\\\tests\\\\test_multioutput.py',\n",
       " '  c:\\\\users\\\\kowshik\\\\appdata\\\\local\\\\enthought\\\\canopy\\\\user\\\\lib\\\\site-packages\\\\sklearn\\\\tests\\\\test_multioutput.pyc',\n",
       " '  c:\\\\users\\\\kowshik\\\\appdata\\\\local\\\\enthought\\\\canopy\\\\user\\\\lib\\\\site-packages\\\\sklearn\\\\tests\\\\test_naive_bayes.py',\n",
       " '  c:\\\\users\\\\kowshik\\\\appdata\\\\local\\\\enthought\\\\canopy\\\\user\\\\lib\\\\site-packages\\\\sklearn\\\\tests\\\\test_naive_bayes.pyc',\n",
       " '  c:\\\\users\\\\kowshik\\\\appdata\\\\local\\\\enthought\\\\canopy\\\\user\\\\lib\\\\site-packages\\\\sklearn\\\\tests\\\\test_pipeline.py',\n",
       " '  c:\\\\users\\\\kowshik\\\\appdata\\\\local\\\\enthought\\\\canopy\\\\user\\\\lib\\\\site-packages\\\\sklearn\\\\tests\\\\test_pipeline.pyc',\n",
       " '  c:\\\\users\\\\kowshik\\\\appdata\\\\local\\\\enthought\\\\canopy\\\\user\\\\lib\\\\site-packages\\\\sklearn\\\\tests\\\\test_random_projection.py',\n",
       " '  c:\\\\users\\\\kowshik\\\\appdata\\\\local\\\\enthought\\\\canopy\\\\user\\\\lib\\\\site-packages\\\\sklearn\\\\tests\\\\test_random_projection.pyc',\n",
       " '  c:\\\\users\\\\kowshik\\\\appdata\\\\local\\\\enthought\\\\canopy\\\\user\\\\lib\\\\site-packages\\\\sklearn\\\\tree\\\\__init__.py',\n",
       " '  c:\\\\users\\\\kowshik\\\\appdata\\\\local\\\\enthought\\\\canopy\\\\user\\\\lib\\\\site-packages\\\\sklearn\\\\tree\\\\__init__.pyc',\n",
       " '  c:\\\\users\\\\kowshik\\\\appdata\\\\local\\\\enthought\\\\canopy\\\\user\\\\lib\\\\site-packages\\\\sklearn\\\\tree\\\\_criterion.pyd',\n",
       " '  c:\\\\users\\\\kowshik\\\\appdata\\\\local\\\\enthought\\\\canopy\\\\user\\\\lib\\\\site-packages\\\\sklearn\\\\tree\\\\_splitter.pyd',\n",
       " '  c:\\\\users\\\\kowshik\\\\appdata\\\\local\\\\enthought\\\\canopy\\\\user\\\\lib\\\\site-packages\\\\sklearn\\\\tree\\\\_tree.pyd',\n",
       " '  c:\\\\users\\\\kowshik\\\\appdata\\\\local\\\\enthought\\\\canopy\\\\user\\\\lib\\\\site-packages\\\\sklearn\\\\tree\\\\_utils.pyd',\n",
       " '  c:\\\\users\\\\kowshik\\\\appdata\\\\local\\\\enthought\\\\canopy\\\\user\\\\lib\\\\site-packages\\\\sklearn\\\\tree\\\\export.py',\n",
       " '  c:\\\\users\\\\kowshik\\\\appdata\\\\local\\\\enthought\\\\canopy\\\\user\\\\lib\\\\site-packages\\\\sklearn\\\\tree\\\\export.pyc',\n",
       " '  c:\\\\users\\\\kowshik\\\\appdata\\\\local\\\\enthought\\\\canopy\\\\user\\\\lib\\\\site-packages\\\\sklearn\\\\tree\\\\setup.py',\n",
       " '  c:\\\\users\\\\kowshik\\\\appdata\\\\local\\\\enthought\\\\canopy\\\\user\\\\lib\\\\site-packages\\\\sklearn\\\\tree\\\\setup.pyc',\n",
       " '  c:\\\\users\\\\kowshik\\\\appdata\\\\local\\\\enthought\\\\canopy\\\\user\\\\lib\\\\site-packages\\\\sklearn\\\\tree\\\\tests\\\\__init__.py',\n",
       " '  c:\\\\users\\\\kowshik\\\\appdata\\\\local\\\\enthought\\\\canopy\\\\user\\\\lib\\\\site-packages\\\\sklearn\\\\tree\\\\tests\\\\__init__.pyc',\n",
       " '  c:\\\\users\\\\kowshik\\\\appdata\\\\local\\\\enthought\\\\canopy\\\\user\\\\lib\\\\site-packages\\\\sklearn\\\\tree\\\\tests\\\\test_export.py',\n",
       " '  c:\\\\users\\\\kowshik\\\\appdata\\\\local\\\\enthought\\\\canopy\\\\user\\\\lib\\\\site-packages\\\\sklearn\\\\tree\\\\tests\\\\test_export.pyc',\n",
       " '  c:\\\\users\\\\kowshik\\\\appdata\\\\local\\\\enthought\\\\canopy\\\\user\\\\lib\\\\site-packages\\\\sklearn\\\\tree\\\\tests\\\\test_tree.py',\n",
       " '  c:\\\\users\\\\kowshik\\\\appdata\\\\local\\\\enthought\\\\canopy\\\\user\\\\lib\\\\site-packages\\\\sklearn\\\\tree\\\\tests\\\\test_tree.pyc',\n",
       " '  c:\\\\users\\\\kowshik\\\\appdata\\\\local\\\\enthought\\\\canopy\\\\user\\\\lib\\\\site-packages\\\\sklearn\\\\tree\\\\tree.py',\n",
       " '  c:\\\\users\\\\kowshik\\\\appdata\\\\local\\\\enthought\\\\canopy\\\\user\\\\lib\\\\site-packages\\\\sklearn\\\\tree\\\\tree.pyc',\n",
       " '  c:\\\\users\\\\kowshik\\\\appdata\\\\local\\\\enthought\\\\canopy\\\\user\\\\lib\\\\site-packages\\\\sklearn\\\\utils\\\\__init__.py',\n",
       " '  c:\\\\users\\\\kowshik\\\\appdata\\\\local\\\\enthought\\\\canopy\\\\user\\\\lib\\\\site-packages\\\\sklearn\\\\utils\\\\__init__.pyc',\n",
       " '  c:\\\\users\\\\kowshik\\\\appdata\\\\local\\\\enthought\\\\canopy\\\\user\\\\lib\\\\site-packages\\\\sklearn\\\\utils\\\\_logistic_sigmoid.pyd',\n",
       " '  c:\\\\users\\\\kowshik\\\\appdata\\\\local\\\\enthought\\\\canopy\\\\user\\\\lib\\\\site-packages\\\\sklearn\\\\utils\\\\_random.pyd',\n",
       " '  c:\\\\users\\\\kowshik\\\\appdata\\\\local\\\\enthought\\\\canopy\\\\user\\\\lib\\\\site-packages\\\\sklearn\\\\utils\\\\_scipy_sparse_lsqr_backport.py',\n",
       " '  c:\\\\users\\\\kowshik\\\\appdata\\\\local\\\\enthought\\\\canopy\\\\user\\\\lib\\\\site-packages\\\\sklearn\\\\utils\\\\_scipy_sparse_lsqr_backport.pyc',\n",
       " '  c:\\\\users\\\\kowshik\\\\appdata\\\\local\\\\enthought\\\\canopy\\\\user\\\\lib\\\\site-packages\\\\sklearn\\\\utils\\\\arpack.py',\n",
       " '  c:\\\\users\\\\kowshik\\\\appdata\\\\local\\\\enthought\\\\canopy\\\\user\\\\lib\\\\site-packages\\\\sklearn\\\\utils\\\\arpack.pyc',\n",
       " '  c:\\\\users\\\\kowshik\\\\appdata\\\\local\\\\enthought\\\\canopy\\\\user\\\\lib\\\\site-packages\\\\sklearn\\\\utils\\\\arrayfuncs.pyd',\n",
       " '  c:\\\\users\\\\kowshik\\\\appdata\\\\local\\\\enthought\\\\canopy\\\\user\\\\lib\\\\site-packages\\\\sklearn\\\\utils\\\\bench.py',\n",
       " '  c:\\\\users\\\\kowshik\\\\appdata\\\\local\\\\enthought\\\\canopy\\\\user\\\\lib\\\\site-packages\\\\sklearn\\\\utils\\\\bench.pyc',\n",
       " '  c:\\\\users\\\\kowshik\\\\appdata\\\\local\\\\enthought\\\\canopy\\\\user\\\\lib\\\\site-packages\\\\sklearn\\\\utils\\\\class_weight.py',\n",
       " '  c:\\\\users\\\\kowshik\\\\appdata\\\\local\\\\enthought\\\\canopy\\\\user\\\\lib\\\\site-packages\\\\sklearn\\\\utils\\\\class_weight.pyc',\n",
       " '  c:\\\\users\\\\kowshik\\\\appdata\\\\local\\\\enthought\\\\canopy\\\\user\\\\lib\\\\site-packages\\\\sklearn\\\\utils\\\\deprecation.py',\n",
       " '  c:\\\\users\\\\kowshik\\\\appdata\\\\local\\\\enthought\\\\canopy\\\\user\\\\lib\\\\site-packages\\\\sklearn\\\\utils\\\\deprecation.pyc',\n",
       " '  c:\\\\users\\\\kowshik\\\\appdata\\\\local\\\\enthought\\\\canopy\\\\user\\\\lib\\\\site-packages\\\\sklearn\\\\utils\\\\estimator_checks.py',\n",
       " '  c:\\\\users\\\\kowshik\\\\appdata\\\\local\\\\enthought\\\\canopy\\\\user\\\\lib\\\\site-packages\\\\sklearn\\\\utils\\\\estimator_checks.pyc',\n",
       " '  c:\\\\users\\\\kowshik\\\\appdata\\\\local\\\\enthought\\\\canopy\\\\user\\\\lib\\\\site-packages\\\\sklearn\\\\utils\\\\extmath.py',\n",
       " '  c:\\\\users\\\\kowshik\\\\appdata\\\\local\\\\enthought\\\\canopy\\\\user\\\\lib\\\\site-packages\\\\sklearn\\\\utils\\\\extmath.pyc',\n",
       " '  c:\\\\users\\\\kowshik\\\\appdata\\\\local\\\\enthought\\\\canopy\\\\user\\\\lib\\\\site-packages\\\\sklearn\\\\utils\\\\fast_dict.pyd',\n",
       " '  c:\\\\users\\\\kowshik\\\\appdata\\\\local\\\\enthought\\\\canopy\\\\user\\\\lib\\\\site-packages\\\\sklearn\\\\utils\\\\fixes.py',\n",
       " '  c:\\\\users\\\\kowshik\\\\appdata\\\\local\\\\enthought\\\\canopy\\\\user\\\\lib\\\\site-packages\\\\sklearn\\\\utils\\\\fixes.pyc',\n",
       " '  c:\\\\users\\\\kowshik\\\\appdata\\\\local\\\\enthought\\\\canopy\\\\user\\\\lib\\\\site-packages\\\\sklearn\\\\utils\\\\graph.py',\n",
       " '  c:\\\\users\\\\kowshik\\\\appdata\\\\local\\\\enthought\\\\canopy\\\\user\\\\lib\\\\site-packages\\\\sklearn\\\\utils\\\\graph.pyc',\n",
       " '  c:\\\\users\\\\kowshik\\\\appdata\\\\local\\\\enthought\\\\canopy\\\\user\\\\lib\\\\site-packages\\\\sklearn\\\\utils\\\\graph_shortest_path.pyd',\n",
       " '  c:\\\\users\\\\kowshik\\\\appdata\\\\local\\\\enthought\\\\canopy\\\\user\\\\lib\\\\site-packages\\\\sklearn\\\\utils\\\\lgamma.pyd',\n",
       " '  c:\\\\users\\\\kowshik\\\\appdata\\\\local\\\\enthought\\\\canopy\\\\user\\\\lib\\\\site-packages\\\\sklearn\\\\utils\\\\linear_assignment_.py',\n",
       " '  c:\\\\users\\\\kowshik\\\\appdata\\\\local\\\\enthought\\\\canopy\\\\user\\\\lib\\\\site-packages\\\\sklearn\\\\utils\\\\linear_assignment_.pyc',\n",
       " '  c:\\\\users\\\\kowshik\\\\appdata\\\\local\\\\enthought\\\\canopy\\\\user\\\\lib\\\\site-packages\\\\sklearn\\\\utils\\\\metaestimators.py',\n",
       " '  c:\\\\users\\\\kowshik\\\\appdata\\\\local\\\\enthought\\\\canopy\\\\user\\\\lib\\\\site-packages\\\\sklearn\\\\utils\\\\metaestimators.pyc',\n",
       " '  c:\\\\users\\\\kowshik\\\\appdata\\\\local\\\\enthought\\\\canopy\\\\user\\\\lib\\\\site-packages\\\\sklearn\\\\utils\\\\mocking.py',\n",
       " '  c:\\\\users\\\\kowshik\\\\appdata\\\\local\\\\enthought\\\\canopy\\\\user\\\\lib\\\\site-packages\\\\sklearn\\\\utils\\\\mocking.pyc',\n",
       " '  c:\\\\users\\\\kowshik\\\\appdata\\\\local\\\\enthought\\\\canopy\\\\user\\\\lib\\\\site-packages\\\\sklearn\\\\utils\\\\multiclass.py',\n",
       " '  c:\\\\users\\\\kowshik\\\\appdata\\\\local\\\\enthought\\\\canopy\\\\user\\\\lib\\\\site-packages\\\\sklearn\\\\utils\\\\multiclass.pyc',\n",
       " '  c:\\\\users\\\\kowshik\\\\appdata\\\\local\\\\enthought\\\\canopy\\\\user\\\\lib\\\\site-packages\\\\sklearn\\\\utils\\\\murmurhash.pyd',\n",
       " '  c:\\\\users\\\\kowshik\\\\appdata\\\\local\\\\enthought\\\\canopy\\\\user\\\\lib\\\\site-packages\\\\sklearn\\\\utils\\\\optimize.py',\n",
       " '  c:\\\\users\\\\kowshik\\\\appdata\\\\local\\\\enthought\\\\canopy\\\\user\\\\lib\\\\site-packages\\\\sklearn\\\\utils\\\\optimize.pyc',\n",
       " '  c:\\\\users\\\\kowshik\\\\appdata\\\\local\\\\enthought\\\\canopy\\\\user\\\\lib\\\\site-packages\\\\sklearn\\\\utils\\\\random.py',\n",
       " '  c:\\\\users\\\\kowshik\\\\appdata\\\\local\\\\enthought\\\\canopy\\\\user\\\\lib\\\\site-packages\\\\sklearn\\\\utils\\\\random.pyc',\n",
       " '  c:\\\\users\\\\kowshik\\\\appdata\\\\local\\\\enthought\\\\canopy\\\\user\\\\lib\\\\site-packages\\\\sklearn\\\\utils\\\\seq_dataset.pyd',\n",
       " '  c:\\\\users\\\\kowshik\\\\appdata\\\\local\\\\enthought\\\\canopy\\\\user\\\\lib\\\\site-packages\\\\sklearn\\\\utils\\\\setup.py',\n",
       " '  c:\\\\users\\\\kowshik\\\\appdata\\\\local\\\\enthought\\\\canopy\\\\user\\\\lib\\\\site-packages\\\\sklearn\\\\utils\\\\setup.pyc',\n",
       " '  c:\\\\users\\\\kowshik\\\\appdata\\\\local\\\\enthought\\\\canopy\\\\user\\\\lib\\\\site-packages\\\\sklearn\\\\utils\\\\sparsefuncs.py',\n",
       " '  c:\\\\users\\\\kowshik\\\\appdata\\\\local\\\\enthought\\\\canopy\\\\user\\\\lib\\\\site-packages\\\\sklearn\\\\utils\\\\sparsefuncs.pyc',\n",
       " '  c:\\\\users\\\\kowshik\\\\appdata\\\\local\\\\enthought\\\\canopy\\\\user\\\\lib\\\\site-packages\\\\sklearn\\\\utils\\\\sparsefuncs_fast.pyd',\n",
       " '  c:\\\\users\\\\kowshik\\\\appdata\\\\local\\\\enthought\\\\canopy\\\\user\\\\lib\\\\site-packages\\\\sklearn\\\\utils\\\\sparsetools\\\\__init__.py',\n",
       " '  c:\\\\users\\\\kowshik\\\\appdata\\\\local\\\\enthought\\\\canopy\\\\user\\\\lib\\\\site-packages\\\\sklearn\\\\utils\\\\sparsetools\\\\__init__.pyc',\n",
       " '  c:\\\\users\\\\kowshik\\\\appdata\\\\local\\\\enthought\\\\canopy\\\\user\\\\lib\\\\site-packages\\\\sklearn\\\\utils\\\\sparsetools\\\\_graph_tools.pyd',\n",
       " '  c:\\\\users\\\\kowshik\\\\appdata\\\\local\\\\enthought\\\\canopy\\\\user\\\\lib\\\\site-packages\\\\sklearn\\\\utils\\\\sparsetools\\\\_graph_validation.py',\n",
       " '  c:\\\\users\\\\kowshik\\\\appdata\\\\local\\\\enthought\\\\canopy\\\\user\\\\lib\\\\site-packages\\\\sklearn\\\\utils\\\\sparsetools\\\\_graph_validation.pyc',\n",
       " '  c:\\\\users\\\\kowshik\\\\appdata\\\\local\\\\enthought\\\\canopy\\\\user\\\\lib\\\\site-packages\\\\sklearn\\\\utils\\\\sparsetools\\\\_traversal.pyd',\n",
       " '  c:\\\\users\\\\kowshik\\\\appdata\\\\local\\\\enthought\\\\canopy\\\\user\\\\lib\\\\site-packages\\\\sklearn\\\\utils\\\\sparsetools\\\\setup.py',\n",
       " '  c:\\\\users\\\\kowshik\\\\appdata\\\\local\\\\enthought\\\\canopy\\\\user\\\\lib\\\\site-packages\\\\sklearn\\\\utils\\\\sparsetools\\\\setup.pyc',\n",
       " '  c:\\\\users\\\\kowshik\\\\appdata\\\\local\\\\enthought\\\\canopy\\\\user\\\\lib\\\\site-packages\\\\sklearn\\\\utils\\\\sparsetools\\\\tests\\\\__init__.py',\n",
       " '  c:\\\\users\\\\kowshik\\\\appdata\\\\local\\\\enthought\\\\canopy\\\\user\\\\lib\\\\site-packages\\\\sklearn\\\\utils\\\\sparsetools\\\\tests\\\\__init__.pyc',\n",
       " '  c:\\\\users\\\\kowshik\\\\appdata\\\\local\\\\enthought\\\\canopy\\\\user\\\\lib\\\\site-packages\\\\sklearn\\\\utils\\\\sparsetools\\\\tests\\\\test_traversal.py',\n",
       " '  c:\\\\users\\\\kowshik\\\\appdata\\\\local\\\\enthought\\\\canopy\\\\user\\\\lib\\\\site-packages\\\\sklearn\\\\utils\\\\sparsetools\\\\tests\\\\test_traversal.pyc',\n",
       " '  c:\\\\users\\\\kowshik\\\\appdata\\\\local\\\\enthought\\\\canopy\\\\user\\\\lib\\\\site-packages\\\\sklearn\\\\utils\\\\stats.py',\n",
       " '  c:\\\\users\\\\kowshik\\\\appdata\\\\local\\\\enthought\\\\canopy\\\\user\\\\lib\\\\site-packages\\\\sklearn\\\\utils\\\\stats.pyc',\n",
       " '  c:\\\\users\\\\kowshik\\\\appdata\\\\local\\\\enthought\\\\canopy\\\\user\\\\lib\\\\site-packages\\\\sklearn\\\\utils\\\\testing.py',\n",
       " '  c:\\\\users\\\\kowshik\\\\appdata\\\\local\\\\enthought\\\\canopy\\\\user\\\\lib\\\\site-packages\\\\sklearn\\\\utils\\\\testing.pyc',\n",
       " '  c:\\\\users\\\\kowshik\\\\appdata\\\\local\\\\enthought\\\\canopy\\\\user\\\\lib\\\\site-packages\\\\sklearn\\\\utils\\\\tests\\\\__init__.py',\n",
       " '  c:\\\\users\\\\kowshik\\\\appdata\\\\local\\\\enthought\\\\canopy\\\\user\\\\lib\\\\site-packages\\\\sklearn\\\\utils\\\\tests\\\\__init__.pyc',\n",
       " '  c:\\\\users\\\\kowshik\\\\appdata\\\\local\\\\enthought\\\\canopy\\\\user\\\\lib\\\\site-packages\\\\sklearn\\\\utils\\\\tests\\\\test_bench.py',\n",
       " '  c:\\\\users\\\\kowshik\\\\appdata\\\\local\\\\enthought\\\\canopy\\\\user\\\\lib\\\\site-packages\\\\sklearn\\\\utils\\\\tests\\\\test_bench.pyc',\n",
       " '  c:\\\\users\\\\kowshik\\\\appdata\\\\local\\\\enthought\\\\canopy\\\\user\\\\lib\\\\site-packages\\\\sklearn\\\\utils\\\\tests\\\\test_class_weight.py',\n",
       " '  c:\\\\users\\\\kowshik\\\\appdata\\\\local\\\\enthought\\\\canopy\\\\user\\\\lib\\\\site-packages\\\\sklearn\\\\utils\\\\tests\\\\test_class_weight.pyc',\n",
       " '  c:\\\\users\\\\kowshik\\\\appdata\\\\local\\\\enthought\\\\canopy\\\\user\\\\lib\\\\site-packages\\\\sklearn\\\\utils\\\\tests\\\\test_estimator_checks.py',\n",
       " '  c:\\\\users\\\\kowshik\\\\appdata\\\\local\\\\enthought\\\\canopy\\\\user\\\\lib\\\\site-packages\\\\sklearn\\\\utils\\\\tests\\\\test_estimator_checks.pyc',\n",
       " '  c:\\\\users\\\\kowshik\\\\appdata\\\\local\\\\enthought\\\\canopy\\\\user\\\\lib\\\\site-packages\\\\sklearn\\\\utils\\\\tests\\\\test_extmath.py',\n",
       " '  c:\\\\users\\\\kowshik\\\\appdata\\\\local\\\\enthought\\\\canopy\\\\user\\\\lib\\\\site-packages\\\\sklearn\\\\utils\\\\tests\\\\test_extmath.pyc',\n",
       " '  c:\\\\users\\\\kowshik\\\\appdata\\\\local\\\\enthought\\\\canopy\\\\user\\\\lib\\\\site-packages\\\\sklearn\\\\utils\\\\tests\\\\test_fast_dict.py',\n",
       " '  c:\\\\users\\\\kowshik\\\\appdata\\\\local\\\\enthought\\\\canopy\\\\user\\\\lib\\\\site-packages\\\\sklearn\\\\utils\\\\tests\\\\test_fast_dict.pyc',\n",
       " '  c:\\\\users\\\\kowshik\\\\appdata\\\\local\\\\enthought\\\\canopy\\\\user\\\\lib\\\\site-packages\\\\sklearn\\\\utils\\\\tests\\\\test_fixes.py',\n",
       " '  c:\\\\users\\\\kowshik\\\\appdata\\\\local\\\\enthought\\\\canopy\\\\user\\\\lib\\\\site-packages\\\\sklearn\\\\utils\\\\tests\\\\test_fixes.pyc',\n",
       " '  c:\\\\users\\\\kowshik\\\\appdata\\\\local\\\\enthought\\\\canopy\\\\user\\\\lib\\\\site-packages\\\\sklearn\\\\utils\\\\tests\\\\test_graph.py',\n",
       " '  c:\\\\users\\\\kowshik\\\\appdata\\\\local\\\\enthought\\\\canopy\\\\user\\\\lib\\\\site-packages\\\\sklearn\\\\utils\\\\tests\\\\test_graph.pyc',\n",
       " '  c:\\\\users\\\\kowshik\\\\appdata\\\\local\\\\enthought\\\\canopy\\\\user\\\\lib\\\\site-packages\\\\sklearn\\\\utils\\\\tests\\\\test_linear_assignment.py',\n",
       " '  c:\\\\users\\\\kowshik\\\\appdata\\\\local\\\\enthought\\\\canopy\\\\user\\\\lib\\\\site-packages\\\\sklearn\\\\utils\\\\tests\\\\test_linear_assignment.pyc',\n",
       " '  c:\\\\users\\\\kowshik\\\\appdata\\\\local\\\\enthought\\\\canopy\\\\user\\\\lib\\\\site-packages\\\\sklearn\\\\utils\\\\tests\\\\test_metaestimators.py',\n",
       " '  c:\\\\users\\\\kowshik\\\\appdata\\\\local\\\\enthought\\\\canopy\\\\user\\\\lib\\\\site-packages\\\\sklearn\\\\utils\\\\tests\\\\test_metaestimators.pyc',\n",
       " '  c:\\\\users\\\\kowshik\\\\appdata\\\\local\\\\enthought\\\\canopy\\\\user\\\\lib\\\\site-packages\\\\sklearn\\\\utils\\\\tests\\\\test_multiclass.py',\n",
       " '  c:\\\\users\\\\kowshik\\\\appdata\\\\local\\\\enthought\\\\canopy\\\\user\\\\lib\\\\site-packages\\\\sklearn\\\\utils\\\\tests\\\\test_multiclass.pyc',\n",
       " '  c:\\\\users\\\\kowshik\\\\appdata\\\\local\\\\enthought\\\\canopy\\\\user\\\\lib\\\\site-packages\\\\sklearn\\\\utils\\\\tests\\\\test_murmurhash.py',\n",
       " '  c:\\\\users\\\\kowshik\\\\appdata\\\\local\\\\enthought\\\\canopy\\\\user\\\\lib\\\\site-packages\\\\sklearn\\\\utils\\\\tests\\\\test_murmurhash.pyc',\n",
       " '  c:\\\\users\\\\kowshik\\\\appdata\\\\local\\\\enthought\\\\canopy\\\\user\\\\lib\\\\site-packages\\\\sklearn\\\\utils\\\\tests\\\\test_optimize.py',\n",
       " '  c:\\\\users\\\\kowshik\\\\appdata\\\\local\\\\enthought\\\\canopy\\\\user\\\\lib\\\\site-packages\\\\sklearn\\\\utils\\\\tests\\\\test_optimize.pyc',\n",
       " '  c:\\\\users\\\\kowshik\\\\appdata\\\\local\\\\enthought\\\\canopy\\\\user\\\\lib\\\\site-packages\\\\sklearn\\\\utils\\\\tests\\\\test_random.py',\n",
       " '  c:\\\\users\\\\kowshik\\\\appdata\\\\local\\\\enthought\\\\canopy\\\\user\\\\lib\\\\site-packages\\\\sklearn\\\\utils\\\\tests\\\\test_random.pyc',\n",
       " '  c:\\\\users\\\\kowshik\\\\appdata\\\\local\\\\enthought\\\\canopy\\\\user\\\\lib\\\\site-packages\\\\sklearn\\\\utils\\\\tests\\\\test_seq_dataset.py',\n",
       " '  c:\\\\users\\\\kowshik\\\\appdata\\\\local\\\\enthought\\\\canopy\\\\user\\\\lib\\\\site-packages\\\\sklearn\\\\utils\\\\tests\\\\test_seq_dataset.pyc',\n",
       " '  c:\\\\users\\\\kowshik\\\\appdata\\\\local\\\\enthought\\\\canopy\\\\user\\\\lib\\\\site-packages\\\\sklearn\\\\utils\\\\tests\\\\test_shortest_path.py',\n",
       " '  c:\\\\users\\\\kowshik\\\\appdata\\\\local\\\\enthought\\\\canopy\\\\user\\\\lib\\\\site-packages\\\\sklearn\\\\utils\\\\tests\\\\test_shortest_path.pyc',\n",
       " '  c:\\\\users\\\\kowshik\\\\appdata\\\\local\\\\enthought\\\\canopy\\\\user\\\\lib\\\\site-packages\\\\sklearn\\\\utils\\\\tests\\\\test_sparsefuncs.py',\n",
       " '  c:\\\\users\\\\kowshik\\\\appdata\\\\local\\\\enthought\\\\canopy\\\\user\\\\lib\\\\site-packages\\\\sklearn\\\\utils\\\\tests\\\\test_sparsefuncs.pyc',\n",
       " '  c:\\\\users\\\\kowshik\\\\appdata\\\\local\\\\enthought\\\\canopy\\\\user\\\\lib\\\\site-packages\\\\sklearn\\\\utils\\\\tests\\\\test_stats.py',\n",
       " '  c:\\\\users\\\\kowshik\\\\appdata\\\\local\\\\enthought\\\\canopy\\\\user\\\\lib\\\\site-packages\\\\sklearn\\\\utils\\\\tests\\\\test_stats.pyc',\n",
       " '  c:\\\\users\\\\kowshik\\\\appdata\\\\local\\\\enthought\\\\canopy\\\\user\\\\lib\\\\site-packages\\\\sklearn\\\\utils\\\\tests\\\\test_testing.py',\n",
       " '  c:\\\\users\\\\kowshik\\\\appdata\\\\local\\\\enthought\\\\canopy\\\\user\\\\lib\\\\site-packages\\\\sklearn\\\\utils\\\\tests\\\\test_testing.pyc',\n",
       " '  c:\\\\users\\\\kowshik\\\\appdata\\\\local\\\\enthought\\\\canopy\\\\user\\\\lib\\\\site-packages\\\\sklearn\\\\utils\\\\tests\\\\test_utils.py',\n",
       " '  c:\\\\users\\\\kowshik\\\\appdata\\\\local\\\\enthought\\\\canopy\\\\user\\\\lib\\\\site-packages\\\\sklearn\\\\utils\\\\tests\\\\test_utils.pyc',\n",
       " '  c:\\\\users\\\\kowshik\\\\appdata\\\\local\\\\enthought\\\\canopy\\\\user\\\\lib\\\\site-packages\\\\sklearn\\\\utils\\\\tests\\\\test_validation.py',\n",
       " '  c:\\\\users\\\\kowshik\\\\appdata\\\\local\\\\enthought\\\\canopy\\\\user\\\\lib\\\\site-packages\\\\sklearn\\\\utils\\\\tests\\\\test_validation.pyc',\n",
       " '  c:\\\\users\\\\kowshik\\\\appdata\\\\local\\\\enthought\\\\canopy\\\\user\\\\lib\\\\site-packages\\\\sklearn\\\\utils\\\\validation.py',\n",
       " '  c:\\\\users\\\\kowshik\\\\appdata\\\\local\\\\enthought\\\\canopy\\\\user\\\\lib\\\\site-packages\\\\sklearn\\\\utils\\\\validation.pyc',\n",
       " '  c:\\\\users\\\\kowshik\\\\appdata\\\\local\\\\enthought\\\\canopy\\\\user\\\\lib\\\\site-packages\\\\sklearn\\\\utils\\\\weight_vector.pyd',\n",
       " 'Exception:',\n",
       " 'Traceback (most recent call last):',\n",
       " '  File \"C:\\\\Users\\\\Kowshik\\\\AppData\\\\Local\\\\Enthought\\\\Canopy\\\\User\\\\lib\\\\site-packages\\\\pip\\\\basecommand.py\", line 215, in main',\n",
       " '    status = self.run(options, args)',\n",
       " '  File \"C:\\\\Users\\\\Kowshik\\\\AppData\\\\Local\\\\Enthought\\\\Canopy\\\\User\\\\lib\\\\site-packages\\\\pip\\\\commands\\\\uninstall.py\", line 76, in run',\n",
       " '    requirement_set.uninstall(auto_confirm=options.yes)',\n",
       " '  File \"C:\\\\Users\\\\Kowshik\\\\AppData\\\\Local\\\\Enthought\\\\Canopy\\\\User\\\\lib\\\\site-packages\\\\pip\\\\req\\\\req_set.py\", line 336, in uninstall',\n",
       " '    req.uninstall(auto_confirm=auto_confirm)',\n",
       " '  File \"C:\\\\Users\\\\Kowshik\\\\AppData\\\\Local\\\\Enthought\\\\Canopy\\\\User\\\\lib\\\\site-packages\\\\pip\\\\req\\\\req_install.py\", line 742, in uninstall',\n",
       " '    paths_to_remove.remove(auto_confirm)',\n",
       " '  File \"C:\\\\Users\\\\Kowshik\\\\AppData\\\\Local\\\\Enthought\\\\Canopy\\\\User\\\\lib\\\\site-packages\\\\pip\\\\req\\\\req_uninstall.py\", line 103, in remove',\n",
       " \"    response = ask('Proceed (y/n)? ', ('y', 'n'))\",\n",
       " '  File \"C:\\\\Users\\\\Kowshik\\\\AppData\\\\Local\\\\Enthought\\\\Canopy\\\\User\\\\lib\\\\site-packages\\\\pip\\\\utils\\\\__init__.py\", line 158, in ask',\n",
       " '    response = input(message)',\n",
       " 'EOFError: EOF when reading a line',\n",
       " 'Proceed (y/n)? ']"
      ]
     },
     "execution_count": 172,
     "metadata": {},
     "output_type": "execute_result"
    }
   ],
   "source": [
    "!!pip update scikit-learn"
   ]
  },
  {
   "cell_type": "code",
   "execution_count": 164,
   "metadata": {
    "collapsed": true
   },
   "outputs": [],
   "source": []
  },
  {
   "cell_type": "code",
   "execution_count": null,
   "metadata": {
    "collapsed": true
   },
   "outputs": [],
   "source": []
  }
 ],
 "metadata": {
  "kernelspec": {
   "display_name": "Python 2",
   "language": "python",
   "name": "python2"
  },
  "language_info": {
   "codemirror_mode": {
    "name": "ipython",
    "version": 2
   },
   "file_extension": ".py",
   "mimetype": "text/x-python",
   "name": "python",
   "nbconvert_exporter": "python",
   "pygments_lexer": "ipython2",
   "version": "2.7.10"
  }
 },
 "nbformat": 4,
 "nbformat_minor": 0
}
